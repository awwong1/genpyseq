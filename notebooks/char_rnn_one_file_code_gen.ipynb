{
 "cells": [
  {
   "cell_type": "code",
   "execution_count": 1,
   "metadata": {},
   "outputs": [],
   "source": [
    "%matplotlib inline"
   ]
  },
  {
   "cell_type": "markdown",
   "metadata": {},
   "source": [
    "# Determining Next Character with a Character-Level RNN"
   ]
  },
  {
   "cell_type": "markdown",
   "metadata": {},
   "source": [
    "*This is a simple proof of concept neural network. We will attempt to overfit on a single file of Python source code.*\n",
    "\n",
    "Build a character level recurrent neural network that:\n",
    "* Given a sequence of characters, predicts the next likely character in the sequence.\n",
    "\n",
    "The following are necessary term defintions:\n",
    "\n",
    "* **Vocabulary**: Set of all characters that our text consists of. Size of vocabulary is the number of unique characters in our text.\n"
   ]
  },
  {
   "cell_type": "code",
   "execution_count": 2,
   "metadata": {},
   "outputs": [],
   "source": [
    "import numpy as np\n",
    "import torch\n",
    "import torch.nn as nn\n",
    "import matplotlib.pyplot as plt\n",
    "import matplotlib.ticker as ticker\n",
    "from random import shuffle\n",
    "from math import floor\n",
    "from time import time"
   ]
  },
  {
   "cell_type": "markdown",
   "metadata": {},
   "source": [
    "## Preparing the Data\n",
    "We will be predicting for a single Python file, named `test.py`.\n"
   ]
  },
  {
   "cell_type": "code",
   "execution_count": 3,
   "metadata": {},
   "outputs": [
    {
     "name": "stdout",
     "output_type": "stream",
     "text": [
      "\"\"\"Predict Test\"\"\"\n",
      "import sys\n",
      "from os import getcwd\n",
      "\n",
      "def main():\n",
      "    sys.stdout.write(getcwd())\n",
      "    for i in range(0, 10):\n",
      "        print(\"{} : Boop\".format(i), i)\n",
      "    return False\n",
      "\n",
      "if __name__ == \"__main__\":\n",
      "    main()\n",
      "\n",
      "~~~~~~~~~~~~~~~~~~~~~~~~~~~~~~~~~~~~~~~~\n",
      "* Vocabulary Size: 39\n",
      "* Text Size: 219\n"
     ]
    }
   ],
   "source": [
    "with open(\"./data/test.py\", \"r\") as f:\n",
    "    text = f.read()\n",
    "print(text)\n",
    "\n",
    "# add a special characters for padding, file_start, and file_stop\n",
    "# PAD characters are necessary batching, but we will do that in another notebook.\n",
    "# For now, assume batch_size of 1\n",
    "# See dynamic_sliding_window_generator\n",
    "PAD = \"<p>\"\n",
    "FILE_START = \"<s>\" # chr(2) is ASCII start of text\n",
    "FILE_END = \"<e>\"   # chr(3) is ASCII end of text\n",
    "\n",
    "characters = tuple(set(text)) + tuple((PAD, FILE_START, FILE_END))\n",
    "int2char = dict(enumerate(characters))\n",
    "char2int = {char: index for index, char in int2char.items()}\n",
    "\n",
    "# encode text using the character to integer dictionary\n",
    "encoded = np.array([char2int[char] for char in text])\n",
    "print(\"~\" * 40)\n",
    "print(\"* Vocabulary Size: {}\".format(len(characters)))\n",
    "print(\"* Text Size: {}\".format(len(encoded)))"
   ]
  },
  {
   "cell_type": "markdown",
   "metadata": {},
   "source": [
    "## Sliding Window Algorithm\n",
    "\n",
    "Given some iterable, we want a generator that yields X, Y pairs for evaluation.\n",
    "\n",
    "We want a sequence of a given context length as X, and the next character as Y."
   ]
  },
  {
   "cell_type": "code",
   "execution_count": 4,
   "metadata": {},
   "outputs": [],
   "source": [
    "def sliding_window_generator(iterable, window_size, pad_char=PAD):\n",
    "    \"\"\"Generator that returns sliding window (X,Y) pairs over the provided iterable\"\"\"\n",
    "    # to generate first character, use PAD, PAD, ..., iterable[0], with output iterable[1]\n",
    "    for window_idx in range(1, len(iterable)):\n",
    "        x = iterable[:window_idx]\n",
    "        if len(x) < window_size:\n",
    "            x = ((pad_char,) * (window_size - len(x))) + x\n",
    "\n",
    "        x = x[-window_size:]\n",
    "        y = iterable[window_idx]\n",
    "        yield x, y\n",
    "        \n",
    "def dynamic_sliding_window_generator(iterable, max_window_size=None, gen_forever=True, shuffle_data=True):\n",
    "    if max_window_size is None:\n",
    "        max_window_size = len(iterable)\n",
    "    while True:\n",
    "        if shuffle_data:\n",
    "            data_pairs = []\n",
    "        for window_idx in range(1, len(iterable)):\n",
    "            x = iterable[:window_idx]\n",
    "            if len(x) > max_window_size:\n",
    "                x = x[-max_window_size:]\n",
    "            y = iterable[window_idx]\n",
    "\n",
    "            if shuffle_data:\n",
    "                data_pairs.append((x, y))\n",
    "            else:\n",
    "                yield x, y\n",
    "        if shuffle_data:\n",
    "            shuffle(data_pairs)\n",
    "            while data_pairs:\n",
    "                x, y = data_pairs.pop()\n",
    "                yield x, y\n",
    "        if not gen_forever:\n",
    "            break\n",
    "        "
   ]
  },
  {
   "cell_type": "markdown",
   "metadata": {},
   "source": [
    "Here are the first 3 generator outputs, given a window size of 7."
   ]
  },
  {
   "cell_type": "code",
   "execution_count": 5,
   "metadata": {},
   "outputs": [
    {
     "name": "stdout",
     "output_type": "stream",
     "text": [
      "X:  ('<p>', '<p>', '<p>', '<p>', '<p>', '<p>', '<s>')\n",
      "Y:  '\"'\n",
      "~~~~~~~~~~~~~~~~~~~~\n",
      "X:  ('<p>', '<p>', '<p>', '<p>', '<p>', '<s>', '\"')\n",
      "Y:  '\"'\n",
      "~~~~~~~~~~~~~~~~~~~~\n",
      "X:  ('<p>', '<p>', '<p>', '<p>', '<s>', '\"', '\"')\n",
      "Y:  '\"'\n",
      "~~~~~~~~~~~~~~~~~~~~\n"
     ]
    }
   ],
   "source": [
    "file_char_seq = (FILE_START,) + tuple(text) + (FILE_END, )\n",
    "gen = sliding_window_generator(file_char_seq, 7)\n",
    "\n",
    "for _ in range(0, 3):\n",
    "    x, y = next(gen)\n",
    "    print(\"X: \", x)\n",
    "    print(\"Y: \", repr(y))\n",
    "    print(\"~\" * 20)"
   ]
  },
  {
   "cell_type": "markdown",
   "metadata": {},
   "source": [
    "Here are the first outputs using the **dynamic** generator with no padding and shuffling enabled, given a max window size of 7. Notice how the padding character is no longer necessary."
   ]
  },
  {
   "cell_type": "code",
   "execution_count": 6,
   "metadata": {},
   "outputs": [
    {
     "name": "stdout",
     "output_type": "stream",
     "text": [
      "X:  ('<s>', '\"', '\"', '\"')\n",
      "Y:  'P'\n",
      "~~~~~~~~~~~~~~~~~~~~\n",
      "X:  ('<s>',)\n",
      "Y:  '\"'\n",
      "~~~~~~~~~~~~~~~~~~~~\n",
      "X:  ('<s>', '\"', '\"', '\"', 'P', 'r')\n",
      "Y:  'e'\n",
      "~~~~~~~~~~~~~~~~~~~~\n",
      "X:  ('<s>', '\"')\n",
      "Y:  '\"'\n",
      "~~~~~~~~~~~~~~~~~~~~\n",
      "X:  ('<s>', '\"', '\"', '\"', 'P')\n",
      "Y:  'r'\n",
      "~~~~~~~~~~~~~~~~~~~~\n",
      "X:  ('<s>', '\"', '\"')\n",
      "Y:  '\"'\n",
      "~~~~~~~~~~~~~~~~~~~~\n"
     ]
    }
   ],
   "source": [
    "file_char_seq = (FILE_START,) + tuple(text) + (FILE_END, )\n",
    "gen = dynamic_sliding_window_generator(file_char_seq, 7, gen_forever=False)\n",
    "\n",
    "# for _ in range(0, 3):\n",
    "#     x, y = next(gen)\n",
    "for x, y in gen:\n",
    "    if len(x) < 7:\n",
    "        print(\"X: \", x)\n",
    "        print(\"Y: \", repr(y))\n",
    "        print(\"~\" * 20)"
   ]
  },
  {
   "cell_type": "markdown",
   "metadata": {},
   "source": [
    "## Characters to Tensors\n",
    "Now that we have our inputs and outputs, they must be converted into Tensors for training.\n",
    "\n",
    "To represent a single character, a one-hot vector of size `(1, num_chars)` is used.\n",
    "* One-hot vector is filled with zeros except for a one at the index of the current letter.\n",
    "\n",
    "To make a training example, we join a bunch of these characters into a matrix of size `(window_size, 1, num_chars)`.\n",
    "\n",
    "The extra `1` dimension is necessary because PyTorch requires everything to be in batches."
   ]
  },
  {
   "cell_type": "code",
   "execution_count": 7,
   "metadata": {},
   "outputs": [],
   "source": [
    "def char_to_tensor(char, num_chars=len(characters)):\n",
    "    tensor = torch.zeros(1, num_chars)\n",
    "    tensor[0][char2int[char]] = 1\n",
    "    return tensor\n",
    "\n",
    "def charseq_to_tensor(charseq, num_chars=len(characters)):\n",
    "    tensor = torch.zeros(len(charseq), 1, num_chars)\n",
    "    for seq_idx, char in enumerate(charseq):\n",
    "        tensor[seq_idx][0][char2int[char]] = 1\n",
    "    return tensor"
   ]
  },
  {
   "cell_type": "markdown",
   "metadata": {},
   "source": [
    "Here are the tensor inputs and outputs for the generator function we defined earlier."
   ]
  },
  {
   "cell_type": "code",
   "execution_count": 8,
   "metadata": {},
   "outputs": [
    {
     "name": "stdout",
     "output_type": "stream",
     "text": [
      "('t', 'd', 'o', 'u', 't', '.', 'w')\n",
      "torch.Size([7, 1, 39])\n",
      "'r'\n",
      "torch.Size([1, 39])\n",
      "tensor([[0., 0., 0., 0., 0., 0., 0., 1., 0., 0., 0., 0., 0., 0., 0., 0., 0., 0.,\n",
      "         0., 0., 0., 0., 0., 0., 0., 0., 0., 0., 0., 0., 0., 0., 0., 0., 0., 0.,\n",
      "         0., 0., 0.]])\n"
     ]
    }
   ],
   "source": [
    "gen = dynamic_sliding_window_generator(file_char_seq, 7)\n",
    "\n",
    "x, y = next(gen)\n",
    "\n",
    "x_tensor = charseq_to_tensor(x)\n",
    "y_tensor = char_to_tensor(y)\n",
    "\n",
    "print(x)\n",
    "print(x_tensor.size())\n",
    "print(repr(y))\n",
    "print(y_tensor.size())\n",
    "print(y_tensor)"
   ]
  },
  {
   "cell_type": "markdown",
   "metadata": {},
   "source": [
    "## Creating the Network\n",
    "\n",
    "Time to create our recurrent neural network. We are extending the basic RNN module provided by the [char_rnn_classification_tutorial](https://pytorch.org/tutorials/intermediate/char_rnn_classification_tutorial.html) first, before moving into more complicated networks."
   ]
  },
  {
   "cell_type": "code",
   "execution_count": 9,
   "metadata": {},
   "outputs": [],
   "source": [
    "class PureRNN(nn.Module):\n",
    "    def __init__(self, input_size, hidden_size, output_size):\n",
    "        super(PureRNN, self).__init__()\n",
    "        \n",
    "        self.hidden_size = hidden_size\n",
    "        \n",
    "        self.input2hidden = nn.Linear(input_size + hidden_size, hidden_size)\n",
    "        self.input2output = nn.Linear(input_size + hidden_size, output_size)\n",
    "        self.softmax = nn.LogSoftmax(dim=1)\n",
    "    \n",
    "    def forward(self, input_val, hidden):\n",
    "        combined = torch.cat((input_val, hidden), 1)\n",
    "        hidden = self.input2hidden(combined)\n",
    "        output = self.input2output(combined)\n",
    "        output = self.softmax(output)\n",
    "        return output, hidden\n",
    "    \n",
    "    def init_hidden(self):\n",
    "        return torch.zeros(1, self.hidden_size)"
   ]
  },
  {
   "cell_type": "markdown",
   "metadata": {},
   "source": [
    "Initialize our simple recurrent neural network with values appropriate for our character predition task."
   ]
  },
  {
   "cell_type": "code",
   "execution_count": 10,
   "metadata": {},
   "outputs": [],
   "source": [
    "# hidden layer output vector size\n",
    "n_hidden = 128\n",
    "n_chars = len(characters)\n",
    "\n",
    "# Input is a single character, 128 hidden units of state, Output is a single character \n",
    "char_rnn = PureRNN(n_chars, n_hidden, n_chars)"
   ]
  },
  {
   "cell_type": "markdown",
   "metadata": {},
   "source": [
    "Before each file, we should zero out the RNN hidden state.\n",
    "\n",
    "For `PureRNN`, our starting sequence should always be the file start character."
   ]
  },
  {
   "cell_type": "code",
   "execution_count": 11,
   "metadata": {},
   "outputs": [
    {
     "name": "stdout",
     "output_type": "stream",
     "text": [
      "tensor([[-3.6304, -3.5635, -3.6941, -3.8169, -3.6556, -3.6965, -3.6300, -3.6755,\n",
      "         -3.5843, -3.6516, -3.6662, -3.6657, -3.6887, -3.7197, -3.7982, -3.7685,\n",
      "         -3.6558, -3.6583, -3.6741, -3.6591, -3.6776, -3.6134, -3.6160, -3.7190,\n",
      "         -3.7308, -3.6494, -3.5859, -3.6606, -3.6562, -3.5990, -3.7150, -3.6269,\n",
      "         -3.6544, -3.5446, -3.6921, -3.6420, -3.6225, -3.7590, -3.6267]],\n",
      "       grad_fn=<LogSoftmaxBackward>)\n",
      "tensor([[-3.6304, -3.5635, -3.6941, -3.8169, -3.6556, -3.6965, -3.6300, -3.6755,\n",
      "         -3.5843, -3.6516, -3.6662, -3.6657, -3.6887, -3.7197, -3.7982, -3.7685,\n",
      "         -3.6558, -3.6583, -3.6741, -3.6591, -3.6776, -3.6134, -3.6160, -3.7190,\n",
      "         -3.7308, -3.6494, -3.5859, -3.6606, -3.6562, -3.5990, -3.7150, -3.6269,\n",
      "         -3.6544, -3.5446, -3.6921, -3.6420, -3.6225, -3.7590, -3.6267]],\n",
      "       grad_fn=<LogSoftmaxBackward>)\n"
     ]
    }
   ],
   "source": [
    "input_val = char_to_tensor(FILE_START)\n",
    "hidden_val = char_rnn.init_hidden()\n",
    "\n",
    "output, next_hidden = char_rnn(input_val, hidden_val)\n",
    "print(output)\n",
    "\n",
    "# more efficient to make the whole file into one tensor and iterate over each character\n",
    "input_seq = charseq_to_tensor(file_char_seq)\n",
    "input_val = input_seq[0]\n",
    "hidden_val = char_rnn.init_hidden()\n",
    "\n",
    "output, next_hidden = char_rnn(input_val, hidden_val)\n",
    "print(output)"
   ]
  },
  {
   "cell_type": "markdown",
   "metadata": {},
   "source": [
    "## Preparing to Train our Model\n",
    "\n",
    "We want to evaluate the accuracy of our model in predicting the next character, it is helpful to be able to convert the network prediction back to a human readable character."
   ]
  },
  {
   "cell_type": "code",
   "execution_count": 12,
   "metadata": {},
   "outputs": [
    {
     "data": {
      "text/plain": [
       "('p', 33)"
      ]
     },
     "execution_count": 12,
     "metadata": {},
     "output_type": "execute_result"
    }
   ],
   "source": [
    "def char_from_output(output):\n",
    "    \"\"\"Covnvert network output prediction back to readable character\"\"\"\n",
    "    # return the k largest elements of the given tensor\n",
    "    top_n, top_i = output.topk(1)\n",
    "    char_index = top_i[0].item()\n",
    "    return int2char[char_index], char_index\n",
    "    \n",
    "char_from_output(output)"
   ]
  },
  {
   "cell_type": "markdown",
   "metadata": {},
   "source": [
    "Now, all we need to do is to show the network examples, have it make predictions, and let inform the network when predictions are incorrect.\n",
    "\n",
    "For the loss function, `nn.NLLLoss` is used as the last layer of the RNN is a `nn.LogSoftmax`.\n",
    "\n",
    "Different loss functions that can be used are defined in [pyTorch Loss functions](https://pytorch.org/docs/stable/nn.html#loss-functions).\n",
    "* **NLLLoss**: Negative Log Likelihood loss. [docs](https://pytorch.org/docs/stable/nn.html#nllloss)"
   ]
  },
  {
   "cell_type": "code",
   "execution_count": 13,
   "metadata": {},
   "outputs": [],
   "source": [
    "criterion = nn.NLLLoss()"
   ]
  },
  {
   "cell_type": "markdown",
   "metadata": {},
   "source": [
    "Each training loop will:\n",
    "0. Create input and target tensors\n",
    "0. Initialize a zerored hidden state\n",
    "0. Read each letter in and keep the hidden state for the next letter\n",
    "0. Compare the final output to the target\n",
    "0. Back-propagate\n",
    "0. Return the output and loss"
   ]
  },
  {
   "cell_type": "code",
   "execution_count": 14,
   "metadata": {},
   "outputs": [],
   "source": [
    "learning_rate = 0.005\n",
    "\n",
    "def train(true_output_tensor, char_sequence_tensor):\n",
    "    hidden = char_rnn.init_hidden()\n",
    "    \n",
    "    # Sets gradients of all model parameters to zero\n",
    "    char_rnn.zero_grad()\n",
    "    \n",
    "    for i in range(char_sequence_tensor.size()[0]):\n",
    "        output, hidden = char_rnn(char_sequence_tensor[i], hidden)\n",
    "\n",
    "    # diagnose datatype error\n",
    "    # import pdb; pdb.set_trace()\n",
    "\n",
    "    loss = criterion(output, true_output_tensor)\n",
    "    loss.backward()\n",
    "    \n",
    "    for p in char_rnn.parameters():\n",
    "        p.data.add_(-learning_rate, p.grad.data)\n",
    "    \n",
    "    return output, loss.item()"
   ]
  },
  {
   "cell_type": "markdown",
   "metadata": {},
   "source": [
    "## Training our Model\n",
    "\n",
    "We will now train our model. Keep track of loss for plotting."
   ]
  },
  {
   "cell_type": "code",
   "execution_count": 15,
   "metadata": {},
   "outputs": [
    {
     "name": "stdout",
     "output_type": "stream",
     "text": [
      "    0 0.00 (0m 00s) 3.7509 | ('n', 'a', 'm', 'e', '_', '_', ' ', '=', '=', ' ', '\"', '_', '_', 'm', 'a') 'e' '✗ (i)'\n",
      "    1 0.50 (0m 00s) 3.6420 | ('n', 'a', 'm', 'e', '_', '_', ' ', '=', '=', ' ', '\"', '_', '_', 'm', 'a') ' ' '✗ (i)'\n",
      "    3 1.50 (0m 01s) 3.5943 | ('p', 'o', 'r', 't', ' ', 's', 'y', 's', '\\n', 'f', 'r', 'o', 'm', ' ', 'o') ' ' '✗ (s)'\n",
      "    4 2.00 (0m 02s) 3.7548 | ('\\n', ' ', ' ', ' ', ' ', 'f', 'o', 'r', ' ', 'i', ' ', 'i', 'n', ' ', 'r') ' ' '✗ (a)'\n",
      "    6 3.00 (0m 02s) 2.9558 | ('o', 'p', '\"', '.', 'f', 'o', 'r', 'm', 'a', 't', '(', 'i', ')', ',', ' ') ' ' '✗ (i)'\n",
      "    7 3.50 (0m 03s) 3.1594 | ('F', 'a', 'l', 's', 'e', '\\n', '\\n', 'i', 'f', ' ', '_', '_', 'n', 'a', 'm') ' ' '✗ (e)'\n",
      "    9 4.50 (0m 04s) 3.3918 | ('r', 't', ' ', 'g', 'e', 't', 'c', 'w', 'd', '\\n', '\\n', 'd', 'e', 'f', ' ') ' ' '✗ (m)'\n",
      "   11 5.50 (0m 04s) 3.1354 | ('s', 't', '\"', '\"', '\"', '\\n', 'i', 'm', 'p', 'o', 'r', 't', ' ', 's', 'y') ' ' '✗ (s)'\n",
      "   12 6.00 (0m 05s) 3.2219 | ('i', 'n', '_', '_', '\"', ':', '\\n', ' ', ' ', ' ', ' ', 'm', 'a', 'i', 'n') ' ' '✗ (()'\n",
      "   14 7.00 (0m 06s) 3.0520 | ('<s>', '\"', '\"') ' ' '✗ (\")'\n",
      "   15 7.50 (0m 07s) 2.9730 | (' ', ' ', ' ', ' ', 'r', 'e', 't', 'u', 'r', 'n', ' ', 'F', 'a', 'l', 's') ' ' '✗ (e)'\n",
      "   17 8.50 (0m 07s) 1.4185 | (' ', ' ', ' ', ' ', 'p', 'r', 'i', 'n', 't', '(', '\"', '{', '}', ' ', ':') ' ' '✓'\n",
      "   18 9.00 (0m 08s) 4.5390 | ('e', '\\n', '\\n', 'i', 'f', ' ', '_', '_', 'n', 'a', 'm', 'e', '_', '_', ' ') ' ' '✗ (=)'\n",
      "   20 10.00 (0m 09s) 3.0758 | ('\\n', 'i', 'm', 'p', 'o', 'r', 't', ' ', 's', 'y', 's', '\\n', 'f', 'r', 'o') ' ' '✗ (m)'\n",
      "   22 11.00 (0m 09s) 0.7276 | ('=', ' ', '\"', '_', '_', 'm', 'a', 'i', 'n', '_', '_', '\"', ':', '\\n', ' ') ' ' '✓'\n",
      "   23 11.50 (0m 10s) 3.0154 | (' ', ' ', ' ', ' ', 'f', 'o', 'r', ' ', 'i', ' ', 'i', 'n', ' ', 'r', 'a') ' ' '✗ (n)'\n",
      "   25 12.50 (0m 11s) 2.6181 | ('a', 'i', 'n', '(', ')', ':', '\\n', ' ', ' ', ' ', ' ', 's', 'y', 's', '.') 'i' '✗ (s)'\n",
      "   26 13.00 (0m 11s) 3.9411 | ('\\n', ' ', ' ', ' ', ' ', 's', 'y', 's', '.', 's', 't', 'd', 'o', 'u', 't') ' ' '✗ (.)'\n",
      "   28 14.00 (0m 12s) 3.1755 | ('t', 'u', 'r', 'n', ' ', 'F', 'a', 'l', 's', 'e', '\\n', '\\n', 'i', 'f', ' ') ' ' '✗ (_)'\n",
      "   29 14.50 (0m 13s) 0.3328 | ('\\n', '\\n', 'd', 'e', 'f', ' ', 'm', 'a', 'i', 'n', '(', ')', ':', '\\n', ' ') ' ' '✓'\n",
      "   31 15.50 (0m 13s) 2.3337 | ('t', '(', '\"', '{', '}', ' ', ':', ' ', 'B', 'o', 'o', 'p', '\"', '.', 'f') ' ' '✗ (o)'\n",
      "   33 16.50 (0m 14s) 1.3043 | ('g', 'e', '(', '0', ',', ' ', '1', '0', ')', ':', '\\n', ' ', ' ', ' ', ' ') ' ' '✓'\n",
      "   34 17.00 (0m 15s) 1.0689 | ('=', '=', ' ', '\"', '_', '_', 'm', 'a', 'i', 'n', '_', '_', '\"', ':', '\\n') ' ' '✓'\n",
      "   36 18.00 (0m 15s) 2.2309 | ('<s>', '\"', '\"', '\"', 'P', 'r', 'e', 'd', 'i', 'c', 't', ' ', 'T', 'e', 's') 't' '✓'\n",
      "   37 18.50 (0m 16s) 2.7550 | ('r', 'e', 't', 'u', 'r', 'n', ' ', 'F', 'a', 'l', 's', 'e', '\\n', '\\n', 'i') ' ' '✗ (f)'\n",
      "   39 19.50 (0m 17s) 1.4241 | ('t', ' ', 'T', 'e', 's', 't', '\"', '\"', '\"', '\\n', 'i', 'm', 'p', 'o', 'r') '\\n' '✗ (t)'\n",
      "   41 20.50 (0m 17s) 2.3386 | ('t', '\"', '\"', '\"', '\\n', 'i', 'm', 'p', 'o', 'r', 't', ' ', 's', 'y', 's') 't' '✗ (\\n)'\n",
      "   42 21.00 (0m 18s) 1.5835 | ('f', 'o', 'r', 'm', 'a', 't', '(', 'i', ')', ',', ' ', 'i', ')', '\\n', ' ') ' ' '✓'\n",
      "   44 22.00 (0m 19s) 4.5266 | ('(', ')', ':', '\\n', ' ', ' ', ' ', ' ', 's', 'y', 's', '.', 's', 't', 'd') 'g' '✗ (o)'\n",
      "   45 22.50 (0m 20s) 0.0528 | ('\\n', '\\n', 'd', 'e', 'f', ' ', 'm', 'a', 'i', 'n', '(', ')', ':', '\\n', ' ') ' ' '✓'\n",
      "   47 23.50 (0m 20s) 1.9842 | ('\"', '.', 'f', 'o', 'r', 'm', 'a', 't', '(', 'i', ')', ',', ' ', 'i', ')') ' ' '✗ (\\n)'\n",
      "   48 24.00 (0m 21s) 0.6834 | ('_', 'm', 'a', 'i', 'n', '_', '_', '\"', ':', '\\n', ' ', ' ', ' ', ' ', 'm') 'a' '✓'\n",
      "   50 25.00 (0m 22s) 1.2693 | (' ', ' ', ' ', ' ', 'f', 'o', 'r', ' ', 'i', ' ', 'i', 'n', ' ', 'r', 'a') 'n' '✓'\n",
      "   52 26.00 (0m 22s) 1.3286 | ('m', 'p', 'o', 'r', 't', ' ', 'g', 'e', 't', 'c', 'w', 'd', '\\n', '\\n', 'd') 'e' '✓'\n",
      "   53 26.50 (0m 23s) 1.1549 | ('.', 's', 't', 'd', 'o', 'u', 't', '.', 'w', 'r', 'i', 't', 'e', '(', 'g') 'e' '✓'\n",
      "   55 27.50 (0m 24s) 0.6734 | ('d', 'i', 'c', 't', ' ', 'T', 'e', 's', 't', '\"', '\"', '\"', '\\n', 'i', 'm') 'p' '✓'\n",
      "   56 28.00 (0m 24s) 0.4561 | ('n', '_', '_', '\"', ':', '\\n', ' ', ' ', ' ', ' ', 'm', 'a', 'i', 'n', '(') ')' '✓'\n",
      "   58 29.00 (0m 25s) 0.5441 | ('s', 'y', 's', '\\n', 'f', 'r', 'o', 'm', ' ', 'o', 's', ' ', 'i', 'm', 'p') 'o' '✓'\n",
      "   59 29.50 (0m 26s) 0.0056 | ('=', ' ', '\"', '_', '_', 'm', 'a', 'i', 'n', '_', '_', '\"', ':', '\\n', ' ') ' ' '✓'\n",
      "   61 30.50 (0m 26s) 0.7200 | (')', ')', '\\n', ' ', ' ', ' ', ' ', 'f', 'o', 'r', ' ', 'i', ' ', 'i', 'n') ' ' '✓'\n",
      "   63 31.50 (0m 27s) 1.4974 | ('m', 'a', 'i', 'n', '(', ')', ':', '\\n', ' ', ' ', ' ', ' ', 's', 'y', 's') 'r' '✗ (.)'\n",
      "   64 32.00 (0m 28s) 0.3110 | ('m', 'p', 'o', 'r', 't', ' ', 's', 'y', 's', '\\n', 'f', 'r', 'o', 'm', ' ') 'o' '✓'\n",
      "   66 33.00 (0m 29s) 0.3904 | ('r', 't', ' ', 's', 'y', 's', '\\n', 'f', 'r', 'o', 'm', ' ', 'o', 's', ' ') 'i' '✓'\n",
      "   67 33.50 (0m 29s) 0.3258 | ('r', 't', ' ', 'g', 'e', 't', 'c', 'w', 'd', '\\n', '\\n', 'd', 'e', 'f', ' ') 'm' '✓'\n",
      "   69 34.50 (0m 30s) 0.0240 | ('r', 'i', 't', 'e', '(', 'g', 'e', 't', 'c', 'w', 'd', '(', ')', ')', '\\n') ' ' '✓'\n",
      "   70 35.00 (0m 31s) 0.1640 | ('\\n', ' ', ' ', ' ', ' ', 'f', 'o', 'r', ' ', 'i', ' ', 'i', 'n', ' ', 'r') 'a' '✓'\n",
      "   72 36.00 (0m 31s) 0.5321 | ('s', ' ', 'i', 'm', 'p', 'o', 'r', 't', ' ', 'g', 'e', 't', 'c', 'w', 'd') '\\n' '✓'\n",
      "   74 37.00 (0m 32s) 0.0160 | ('p', 'o', 'r', 't', ' ', 's', 'y', 's', '\\n', 'f', 'r', 'o', 'm', ' ', 'o') 's' '✓'\n",
      "   75 37.50 (0m 33s) 0.3248 | ('_', 'n', 'a', 'm', 'e', '_', '_', ' ', '=', '=', ' ', '\"', '_', '_', 'm') 'a' '✓'\n",
      "   77 38.50 (0m 33s) 1.4311 | ('o', 'r', ' ', 'i', ' ', 'i', 'n', ' ', 'r', 'a', 'n', 'g', 'e', '(', '0') 'i' '✗ (,)'\n",
      "   78 39.00 (0m 34s) 0.3546 | ('d', '\\n', '\\n', 'd', 'e', 'f', ' ', 'm', 'a', 'i', 'n', '(', ')', ':', '\\n') ' ' '✓'\n",
      "   80 40.00 (0m 35s) 0.7607 | ('m', 'a', 'i', 'n', '_', '_', '\"', ':', '\\n', ' ', ' ', ' ', ' ', 'm', 'a') 'i' '✓'\n",
      "   82 41.00 (0m 35s) 0.3851 | (' ', ' ', ' ', 'p', 'r', 'i', 'n', 't', '(', '\"', '{', '}', ' ', ':', ' ') 'B' '✓'\n",
      "   83 41.50 (0m 36s) 0.7924 | (' ', ' ', ' ', 'p', 'r', 'i', 'n', 't', '(', '\"', '{', '}', ' ', ':', ' ') 'B' '✓'\n",
      "   85 42.50 (0m 37s) 0.0030 | ('r', 'm', 'a', 't', '(', 'i', ')', ',', ' ', 'i', ')', '\\n', ' ', ' ', ' ') ' ' '✓'\n",
      "   86 43.00 (0m 38s) 0.0279 | (' ', 'f', 'o', 'r', ' ', 'i', ' ', 'i', 'n', ' ', 'r', 'a', 'n', 'g', 'e') '(' '✓'\n",
      "   88 44.00 (0m 38s) 0.6827 | ('<s>', '\"', '\"', '\"', 'P', 'r', 'e') 'd' '✓'\n",
      "   89 44.50 (0m 39s) 0.1192 | (' ', 'm', 'a', 'i', 'n', '(', ')', ':', '\\n', ' ', ' ', ' ', ' ', 's', 'y') 's' '✓'\n",
      "   91 45.50 (0m 40s) 0.6450 | ('p', 'o', 'r', 't', ' ', 's', 'y', 's', '\\n', 'f', 'r', 'o', 'm', ' ', 'o') 's' '✓'\n",
      "   93 46.50 (0m 40s) 0.0231 | ('_', '_', 'n', 'a', 'm', 'e', '_', '_', ' ', '=', '=', ' ', '\"', '_', '_') 'm' '✓'\n",
      "   94 47.00 (0m 41s) 0.0081 | ('i', 'n', ' ', 'r', 'a', 'n', 'g', 'e', '(', '0', ',', ' ', '1', '0', ')') ':' '✓'\n",
      "   96 48.00 (0m 42s) 0.0552 | ('<s>', '\"', '\"', '\"', 'P', 'r', 'e', 'd', 'i') 'c' '✓'\n",
      "   97 48.50 (0m 42s) 0.0018 | ('B', 'o', 'o', 'p', '\"', '.', 'f', 'o', 'r', 'm', 'a', 't', '(', 'i', ')') ',' '✓'\n",
      "   99 49.50 (0m 43s) 0.0032 | ('i', 'c', 't', ' ', 'T', 'e', 's', 't', '\"', '\"', '\"', '\\n', 'i', 'm', 'p') 'o' '✓'\n",
      "  100 50.00 (0m 44s) 0.0046 | ('i', ')', '\\n', ' ', ' ', ' ', ' ', 'r', 'e', 't', 'u', 'r', 'n', ' ', 'F') 'a' '✓'\n",
      "  102 51.00 (0m 45s) 0.0008 | ('g', 'e', '(', '0', ',', ' ', '1', '0', ')', ':', '\\n', ' ', ' ', ' ', ' ') ' ' '✓'\n",
      "  104 52.00 (0m 45s) 0.0022 | ('\\n', 'i', 'm', 'p', 'o', 'r', 't', ' ', 's', 'y', 's', '\\n', 'f', 'r', 'o') 'm' '✓'\n",
      "  105 52.50 (0m 46s) 0.0000 | ('r', 'm', 'a', 't', '(', 'i', ')', ',', ' ', 'i', ')', '\\n', ' ', ' ', ' ') ' ' '✓'\n",
      "  107 53.50 (0m 47s) 0.0004 | (' ', ' ', 's', 'y', 's', '.', 's', 't', 'd', 'o', 'u', 't', '.', 'w', 'r') 'i' '✓'\n",
      "  108 54.00 (0m 47s) 0.0002 | ('m', 'a', 't', '(', 'i', ')', ',', ' ', 'i', ')', '\\n', ' ', ' ', ' ', ' ') 'r' '✓'\n",
      "  110 55.00 (0m 48s) 0.0153 | ('<s>', '\"', '\"', '\"', 'P', 'r', 'e', 'd') 'i' '✓'\n",
      "  111 55.50 (0m 49s) 0.0000 | ('f', ' ', 'm', 'a', 'i', 'n', '(', ')', ':', '\\n', ' ', ' ', ' ', ' ', 's') 'y' '✓'\n"
     ]
    },
    {
     "name": "stdout",
     "output_type": "stream",
     "text": [
      "  113 56.50 (0m 49s) 0.0027 | ('\"', '_', '_', 'm', 'a', 'i', 'n', '_', '_', '\"', ':', '\\n', ' ', ' ', ' ') ' ' '✓'\n",
      "  115 57.50 (0m 50s) 0.0000 | ('.', 's', 't', 'd', 'o', 'u', 't', '.', 'w', 'r', 'i', 't', 'e', '(', 'g') 'e' '✓'\n",
      "  116 58.00 (0m 51s) 0.0010 | (' ', ' ', ' ', 'f', 'o', 'r', ' ', 'i', ' ', 'i', 'n', ' ', 'r', 'a', 'n') 'g' '✓'\n",
      "  118 59.00 (0m 51s) 0.4168 | ('<s>', '\"') '\"' '✓'\n",
      "  119 59.50 (0m 52s) 0.0005 | ('w', 'd', '(', ')', ')', '\\n', ' ', ' ', ' ', ' ', 'f', 'o', 'r', ' ', 'i') ' ' '✓'\n",
      "  121 60.50 (0m 53s) 0.0009 | (' ', ' ', 'p', 'r', 'i', 'n', 't', '(', '\"', '{', '}', ' ', ':', ' ', 'B') 'o' '✓'\n",
      "  123 61.50 (0m 54s) 0.0017 | ('n', '(', ')', ':', '\\n', ' ', ' ', ' ', ' ', 's', 'y', 's', '.', 's', 't') 'd' '✓'\n",
      "  124 62.00 (0m 54s) 0.0000 | ('w', 'r', 'i', 't', 'e', '(', 'g', 'e', 't', 'c', 'w', 'd', '(', ')', ')') '\\n' '✓'\n",
      "  126 63.00 (0m 55s) 0.0019 | ('s', 'y', 's', '\\n', 'f', 'r', 'o', 'm', ' ', 'o', 's', ' ', 'i', 'm', 'p') 'o' '✓'\n",
      "  127 63.50 (0m 56s) 0.0026 | (' ', 's', 'y', 's', '\\n', 'f', 'r', 'o', 'm', ' ', 'o', 's', ' ', 'i', 'm') 'p' '✓'\n",
      "  129 64.50 (0m 56s) 0.0000 | ('t', 'c', 'w', 'd', '(', ')', ')', '\\n', ' ', ' ', ' ', ' ', 'f', 'o', 'r') ' ' '✓'\n",
      "  130 65.00 (0m 57s) 0.0005 | ('p', 'o', 'r', 't', ' ', 'g', 'e', 't', 'c', 'w', 'd', '\\n', '\\n', 'd', 'e') 'f' '✓'\n",
      "  132 66.00 (0m 58s) 0.0019 | ('s', 'y', 's', '\\n', 'f', 'r', 'o', 'm', ' ', 'o', 's', ' ', 'i', 'm', 'p') 'o' '✓'\n",
      "  134 67.00 (0m 58s) 0.0009 | (')', ',', ' ', 'i', ')', '\\n', ' ', ' ', ' ', ' ', 'r', 'e', 't', 'u', 'r') 'n' '✓'\n",
      "  135 67.50 (0m 59s) 0.0007 | ('w', 'd', '\\n', '\\n', 'd', 'e', 'f', ' ', 'm', 'a', 'i', 'n', '(', ')', ':') '\\n' '✓'\n",
      "  137 68.50 (1m 00s) 0.0853 | ('<s>', '\"', '\"', '\"') 'P' '✓'\n",
      "  138 69.00 (1m 01s) 0.0002 | ('w', 'd', '(', ')', ')', '\\n', ' ', ' ', ' ', ' ', 'f', 'o', 'r', ' ', 'i') ' ' '✓'\n",
      "  140 70.00 (1m 01s) 0.0004 | ('(', 'i', ')', ',', ' ', 'i', ')', '\\n', ' ', ' ', ' ', ' ', 'r', 'e', 't') 'u' '✓'\n",
      "  141 70.50 (1m 02s) 0.0006 | ('i', ')', '\\n', ' ', ' ', ' ', ' ', 'r', 'e', 't', 'u', 'r', 'n', ' ', 'F') 'a' '✓'\n",
      "  143 71.50 (1m 03s) 0.0009 | ('i', 'n', '_', '_', '\"', ':', '\\n', ' ', ' ', ' ', ' ', 'm', 'a', 'i', 'n') '(' '✓'\n",
      "  145 72.50 (1m 03s) 0.0011 | (' ', 'p', 'r', 'i', 'n', 't', '(', '\"', '{', '}', ' ', ':', ' ', 'B', 'o') 'o' '✓'\n",
      "  146 73.00 (1m 04s) 0.0000 | ('r', 'm', 'a', 't', '(', 'i', ')', ',', ' ', 'i', ')', '\\n', ' ', ' ', ' ') ' ' '✓'\n",
      "  148 74.00 (1m 05s) 0.0000 | ('f', 'r', 'o', 'm', ' ', 'o', 's', ' ', 'i', 'm', 'p', 'o', 'r', 't', ' ') 'g' '✓'\n",
      "  149 74.50 (1m 05s) 0.0024 | (' ', ' ', ' ', ' ', 'p', 'r', 'i', 'n', 't', '(', '\"', '{', '}', ' ', ':') ' ' '✓'\n",
      "  151 75.50 (1m 06s) 0.0000 | ('o', 'p', '\"', '.', 'f', 'o', 'r', 'm', 'a', 't', '(', 'i', ')', ',', ' ') 'i' '✓'\n",
      "  152 76.00 (1m 07s) 0.0003 | ('\\n', '\\n', 'i', 'f', ' ', '_', '_', 'n', 'a', 'm', 'e', '_', '_', ' ', '=') '=' '✓'\n",
      "  154 77.00 (1m 07s) 0.0001 | ('m', ' ', 'o', 's', ' ', 'i', 'm', 'p', 'o', 'r', 't', ' ', 'g', 'e', 't') 'c' '✓'\n",
      "  156 78.00 (1m 08s) 0.0001 | (' ', 'r', 'e', 't', 'u', 'r', 'n', ' ', 'F', 'a', 'l', 's', 'e', '\\n', '\\n') 'i' '✓'\n",
      "  157 78.50 (1m 09s) 0.0000 | ('a', 't', '(', 'i', ')', ',', ' ', 'i', ')', '\\n', ' ', ' ', ' ', ' ', 'r') 'e' '✓'\n",
      "  159 79.50 (1m 09s) 0.0003 | ('(', 'i', ')', ',', ' ', 'i', ')', '\\n', ' ', ' ', ' ', ' ', 'r', 'e', 't') 'u' '✓'\n",
      "  160 80.00 (1m 10s) 0.0003 | ('r', 't', ' ', 'g', 'e', 't', 'c', 'w', 'd', '\\n', '\\n', 'd', 'e', 'f', ' ') 'm' '✓'\n",
      "  162 81.00 (1m 11s) 0.0005 | ('m', 'a', 'i', 'n', '(', ')', ':', '\\n', ' ', ' ', ' ', ' ', 's', 'y', 's') '.' '✓'\n",
      "  164 82.00 (1m 11s) 0.0003 | ('i', 'n', ' ', 'r', 'a', 'n', 'g', 'e', '(', '0', ',', ' ', '1', '0', ')') ':' '✓'\n",
      "  165 82.50 (1m 12s) 0.0000 | ('<s>', '\"', '\"', '\"', 'P', 'r', 'e', 'd', 'i', 'c') 't' '✓'\n",
      "  167 83.50 (1m 13s) 0.0005 | ('n', '(', ')', ':', '\\n', ' ', ' ', ' ', ' ', 's', 'y', 's', '.', 's', 't') 'd' '✓'\n",
      "  168 84.00 (1m 14s) 0.0000 | ('\\n', '\\n', 'd', 'e', 'f', ' ', 'm', 'a', 'i', 'n', '(', ')', ':', '\\n', ' ') ' ' '✓'\n",
      "  170 85.00 (1m 14s) 0.0002 | ('t', '(', '\"', '{', '}', ' ', ':', ' ', 'B', 'o', 'o', 'p', '\"', '.', 'f') 'o' '✓'\n",
      "  171 85.50 (1m 15s) 0.0009 | (' ', 'i', 'm', 'p', 'o', 'r', 't', ' ', 'g', 'e', 't', 'c', 'w', 'd', '\\n') '\\n' '✓'\n",
      "  173 86.50 (1m 16s) 0.0005 | ('i', 'n', '_', '_', '\"', ':', '\\n', ' ', ' ', ' ', ' ', 'm', 'a', 'i', 'n') '(' '✓'\n",
      "  175 87.50 (1m 16s) 0.0000 | (' ', 'f', 'o', 'r', ' ', 'i', ' ', 'i', 'n', ' ', 'r', 'a', 'n', 'g', 'e') '(' '✓'\n",
      "  176 88.00 (1m 17s) 0.0004 | (' ', '_', '_', 'n', 'a', 'm', 'e', '_', '_', ' ', '=', '=', ' ', '\"', '_') '_' '✓'\n",
      "  178 89.00 (1m 18s) 0.0004 | (' ', '_', '_', 'n', 'a', 'm', 'e', '_', '_', ' ', '=', '=', ' ', '\"', '_') '_' '✓'\n",
      "  179 89.50 (1m 18s) 0.0001 | (' ', 'r', 'e', 't', 'u', 'r', 'n', ' ', 'F', 'a', 'l', 's', 'e', '\\n', '\\n') 'i' '✓'\n",
      "  181 90.50 (1m 19s) 0.0000 | ('_', 'm', 'a', 'i', 'n', '_', '_', '\"', ':', '\\n', ' ', ' ', ' ', ' ', 'm') 'a' '✓'\n",
      "  182 91.00 (1m 20s) 0.0000 | ('f', ' ', 'm', 'a', 'i', 'n', '(', ')', ':', '\\n', ' ', ' ', ' ', ' ', 's') 'y' '✓'\n",
      "  184 92.00 (1m 21s) 0.0001 | ('F', 'a', 'l', 's', 'e', '\\n', '\\n', 'i', 'f', ' ', '_', '_', 'n', 'a', 'm') 'e' '✓'\n",
      "  186 93.00 (1m 21s) 0.0002 | ('n', ' ', 'F', 'a', 'l', 's', 'e', '\\n', '\\n', 'i', 'f', ' ', '_', '_', 'n') 'a' '✓'\n",
      "  187 93.50 (1m 22s) 0.0003 | ('s', 't', '\"', '\"', '\"', '\\n', 'i', 'm', 'p', 'o', 'r', 't', ' ', 's', 'y') 's' '✓'\n",
      "  189 94.50 (1m 23s) 0.0005 | ('m', 'p', 'o', 'r', 't', ' ', 'g', 'e', 't', 'c', 'w', 'd', '\\n', '\\n', 'd') 'e' '✓'\n",
      "  190 95.00 (1m 23s) 0.0003 | ('t', ' ', 'T', 'e', 's', 't', '\"', '\"', '\"', '\\n', 'i', 'm', 'p', 'o', 'r') 't' '✓'\n",
      "  192 96.00 (1m 24s) 0.0007 | (' ', ' ', ' ', ' ', 'p', 'r', 'i', 'n', 't', '(', '\"', '{', '}', ' ', ':') ' ' '✓'\n",
      "  194 97.00 (1m 25s) 0.0000 | ('m', ' ', 'o', 's', ' ', 'i', 'm', 'p', 'o', 'r', 't', ' ', 'g', 'e', 't') 'c' '✓'\n",
      "  195 97.50 (1m 25s) 0.0002 | ('f', ' ', '_', '_', 'n', 'a', 'm', 'e', '_', '_', ' ', '=', '=', ' ', '\"') '_' '✓'\n",
      "  197 98.50 (1m 26s) 0.0000 | ('d', 'e', 'f', ' ', 'm', 'a', 'i', 'n', '(', ')', ':', '\\n', ' ', ' ', ' ') ' ' '✓'\n",
      "  198 99.00 (1m 27s) 0.0054 | ('<s>', '\"', '\"', '\"', 'P') 'r' '✓'\n"
     ]
    }
   ],
   "source": [
    "n_epochs = 200\n",
    "print_every = 347\n",
    "window_size = 15\n",
    "\n",
    "file_char_seq = (FILE_START,) + tuple(text) + (FILE_END, )\n",
    "\n",
    "# Keep track of losses for plotting\n",
    "all_losses = []\n",
    "\n",
    "def time_since(since):\n",
    "    delta = time() - since\n",
    "    sec = int(delta)\n",
    "    mins = floor(sec / 60)\n",
    "    sec -= mins * 60\n",
    "    return \"{}m {:0>2d}s\".format(mins, sec)\n",
    "\n",
    "start = time()\n",
    "iter_idx = 0\n",
    "\n",
    "# This generator will terminate when it finishes the file.\n",
    "for epoch_idx in range(n_epochs):\n",
    "    #gen = sliding_window_generator(file_char_seq, window_size)\n",
    "    gen = dynamic_sliding_window_generator(file_char_seq, max_window_size=window_size, gen_forever=False)\n",
    "    for input_char_seq, output_char in gen:\n",
    "        input_seq_tensor = charseq_to_tensor(input_char_seq)\n",
    "\n",
    "        # output_tensor = char_to_tensor(output_char)\n",
    "        # NLLLoss expects the output tensor to be datatype long index of expected character\n",
    "        output_tensor = torch.tensor([char2int[output_char]], dtype=torch.long)\n",
    "        output, loss = train(output_tensor, input_seq_tensor)\n",
    "        \n",
    "        # Print iter number, loss, name and guess\n",
    "        if iter_idx % print_every == 0:\n",
    "            guess, guess_i = char_from_output(output)\n",
    "            correct = \"✓\" if guess == output_char else \"✗ ({})\".format(output_char)\n",
    "            print(\"{:5d} {:.2f} ({}) {:.4f} | {} {} {}\".format(\n",
    "                epoch_idx, epoch_idx/n_epochs * 100, time_since(start), loss,\n",
    "                input_char_seq, repr(guess), repr(correct)))\n",
    "        iter_idx += 1\n",
    "\n",
    "    # Add current loss avg to list of losses after each epoch\n",
    "    all_losses.append(loss)\n"
   ]
  },
  {
   "cell_type": "markdown",
   "metadata": {},
   "source": [
    "## Plotting the Training Process\n",
    "\n",
    "Plotting the historical loss from `all_losses` shows the network learning!"
   ]
  },
  {
   "cell_type": "code",
   "execution_count": 16,
   "metadata": {},
   "outputs": [
    {
     "data": {
      "text/plain": [
       "[<matplotlib.lines.Line2D at 0x7f774020e208>]"
      ]
     },
     "execution_count": 16,
     "metadata": {},
     "output_type": "execute_result"
    },
    {
     "data": {
      "image/png": "[encoded data removed]",
      "text/plain": [
       "<Figure size 432x288 with 1 Axes>"
      ]
     },
     "metadata": {
      "needs_background": "light"
     },
     "output_type": "display_data"
    }
   ],
   "source": [
    "plt.figure()\n",
    "plt.title(\"Char-RNN Toy Source Code Loss over Epoch\")\n",
    "plt.xlabel(\"Epoch\")\n",
    "plt.ylabel(\"Negative Log Likelihood\")\n",
    "plt.plot(all_losses)"
   ]
  },
  {
   "cell_type": "markdown",
   "metadata": {},
   "source": [
    "## Evaluating our Model Results\n",
    "\n",
    "Are there certain characters that the network predicts better than others?\n",
    "\n",
    "How well can the neural network predict each character? We can visualize this using a confusion matrix."
   ]
  },
  {
   "cell_type": "code",
   "execution_count": 17,
   "metadata": {},
   "outputs": [],
   "source": [
    "# Keep track of correct guesses in a confusion matrix\n",
    "n_predictabchars = len(characters)\n",
    "confusion = np.zeros((n_chars, n_chars))\n",
    "n_confusion = 10000\n",
    "\n",
    "gen = dynamic_sliding_window_generator(file_char_seq, window_size)\n",
    "\n",
    "def evaluate(line_tensor, hidden = char_rnn.init_hidden()):\n",
    "    \"\"\"Return an output, given a line.\"\"\"\n",
    "    for i in range(line_tensor.size()[0]):\n",
    "        output, hidden = char_rnn(line_tensor[i], hidden)\n",
    "    return output, hidden\n",
    "\n",
    "\n",
    "# Keep track of a bunch of examples and record which are correctly guessed\n",
    "for i in range(n_confusion):\n",
    "    input_char_seq, true_output_char = next(gen)\n",
    "    true_output_idx = char2int[true_output_char]\n",
    "\n",
    "    input_seq_tensor = charseq_to_tensor(input_char_seq)\n",
    "    pred_output_tensor, _ = evaluate(input_seq_tensor)\n",
    "    pred_output_char, pred_output_idx = char_from_output(pred_output_tensor)\n",
    "    \n",
    "    confusion[true_output_idx][pred_output_idx] += 1\n",
    "\n",
    "# Normalize by dividing every row by its sum\n",
    "for i in range(confusion.shape[0]):\n",
    "    row_sum = confusion[i].sum()\n",
    "    if row_sum <= 0:\n",
    "        # the next discretely distinguishable floating point value greater than zero\n",
    "        row_sum = np.nextafter(0,1) \n",
    "    confusion[i] = confusion[i] / row_sum"
   ]
  },
  {
   "cell_type": "markdown",
   "metadata": {},
   "source": [
    "The confusion matrix can now be plotted. "
   ]
  },
  {
   "cell_type": "code",
   "execution_count": 18,
   "metadata": {},
   "outputs": [
    {
     "data": {
      "image/png": "[encoded data removed]",
      "text/plain": [
       "<Figure size 1200x1200 with 2 Axes>"
      ]
     },
     "metadata": {
      "needs_background": "light"
     },
     "output_type": "display_data"
    }
   ],
   "source": [
    "# Plot the confusion matrix\n",
    "fig = plt.figure(figsize=(15, 15), dpi=80)\n",
    "ax = fig.add_subplot(111)\n",
    "cax = ax.matshow(confusion)\n",
    "fig.colorbar(cax)\n",
    "\n",
    "# Setup Axes labels, make whitespace more readable\n",
    "char_labels = [val for key, val in sorted(int2char.items())]\n",
    "for idx, char_label in enumerate(char_labels):\n",
    "    if char_label in [\" \", \"\\n\"]:\n",
    "        char_labels[idx] = repr(char_label)\n",
    "ax.set_xticklabels([\"\"] + char_labels, rotation=90)\n",
    "ax.set_yticklabels([\"\"] + char_labels)\n",
    "\n",
    "# Force a label at every tick\n",
    "ax.xaxis.set_major_locator(ticker.MultipleLocator(1))\n",
    "ax.yaxis.set_major_locator(ticker.MultipleLocator(1))\n",
    "# plt.xlabel(\"Actual Charcter\")\n",
    "plt.ylabel(\"Predicted Character\")\n",
    "plt.title(\"Predicted Character to Actual Character\")\n",
    "plt.show()"
   ]
  },
  {
   "cell_type": "markdown",
   "metadata": {},
   "source": [
    "## Using User Specified Input\n",
    "\n",
    "You can test this yourself by supplying your own prelimiary Python source code."
   ]
  },
  {
   "cell_type": "code",
   "execution_count": 19,
   "metadata": {},
   "outputs": [
    {
     "name": "stdout",
     "output_type": "stream",
     "text": [
      "<s>\n",
      "~~~~~Auto Completion~~~~~\n",
      "<s>\"\"\"Predict Test\"\"\"\n",
      "import sys\n",
      "from os import getcwd\n",
      "\n",
      "def main():\n",
      "    sys.stdout.write(getcwd())\n",
      "    for i in range(0, 10):\n",
      "        print(\"{} : Boop\".format(i), i)\n",
      "    return False\n",
      "\n",
      "if __name__ == \"__main__\":\n",
      "    main()\n"
     ]
    }
   ],
   "source": [
    "def predict(input_char_seq, max_len=1000):\n",
    "    print(\"\".join(input_char_seq))\n",
    "    print(\"~~~~~Auto Completion~~~~~\")\n",
    "    with torch.no_grad():\n",
    "        print(\"\".join(input_char_seq), end=\"\")\n",
    "        output, hidden = evaluate(charseq_to_tensor(input_char_seq))\n",
    "\n",
    "        for i in range(max_len):\n",
    "            # Suggestion: Maybe probabalistically choose using weights over all choices?\n",
    "            topv, topi = output.topk(1, 1, True)        \n",
    "            # value = topv[0][0].item()\n",
    "            char_idx = topi[0][0].item()\n",
    "            next_char = int2char[char_idx]\n",
    "            if next_char == FILE_END:\n",
    "                return\n",
    "            print(next_char, end=\"\")\n",
    "            input_char_seq = input_char_seq + (next_char, )\n",
    "            output, hidden = evaluate(charseq_to_tensor(input_char_seq[-window_size:]))\n",
    "        print(\"\\n~~~~~max_len reached~~~~~\")\n",
    "\n",
    "# Replace CODE with whatever you want\n",
    "CODE = (FILE_START,) # this is symbolic, to demonstrate that we have memorized the training data.\n",
    "# CODE = \"print(\"\n",
    "predict(tuple(CODE))"
   ]
  },
  {
   "cell_type": "markdown",
   "metadata": {},
   "source": [
    "Does it work with your own data? Some arbitrary starting text?"
   ]
  },
  {
   "cell_type": "code",
   "execution_count": 20,
   "metadata": {
    "scrolled": true
   },
   "outputs": [
    {
     "name": "stdout",
     "output_type": "stream",
     "text": [
      "ale\n",
      "~~~~~Auto Completion~~~~~\n",
      "ale\"\"\"Pe )  = snst\"\"dorwnetcrse\n",
      "\n",
      "do  asf(_in\n",
      "m    ainf_\n",
      "ag  _ =aine\n",
      " =  : iap \"n ratBed0Fans)\"\n",
      "i f  oar.n\n",
      "\n",
      "r s (\"ot rddtcs (tdgft\n",
      "iio():f i pnet c  g r B.esfrt sys.iditiosritei(taoie\n",
      "    rmsor)   oswdgrint arie\n",
      "     iepri\n",
      "  = sys ioot osoimpo(tdgei\n",
      "id\n",
      "  nf i_fo\n",
      "    sseinp):  se\n",
      "ief raot\")\n",
      "r  s _\n",
      " inirot id(0 aare g d 1  nae\" i i l  py\n",
      "f(r s s _\n",
      "aours_go( (\n",
      "ime( :t : B\n",
      "d=    sorti\n",
      "iicprn}d(0B \n",
      "=   or   p_nne()dg   Bopr\"\n",
      "foo poptowdnmetcw (fd(  mpfor :ain p\"ni ( Boor sfor paine( ige(_B==p\"\n",
      "  = io _:\n",
      " ot se\n",
      " i\" raig(i), 1 \n",
      "\"\"r r ou s Taos\"\" io  antritt(\"), = in p retu\"s 1))\n",
      " e iitt_\"\n",
      "\n",
      "F l oap.e))ma sed:   f or rgifmp ged:   \n",
      " om \"piomp)getgwd\n",
      "\n",
      "dn  m  o()ot \"apsy()gt cwd\n",
      "riop  s rm ie( i  ne(gri B n  \" \n",
      "f f i s.(\n",
      "\n",
      "ru sysas\"(\n",
      "dou iaiore(\n",
      "dtc da\n",
      "e(    ny_)o\n",
      " n  _aTin\n",
      "):      ra_ntFal0):\n",
      "B=  \"nfmp_rt i , Tr\n",
      "n (s)i s iformsfintsdnti\"0  r nt \"0se\n",
      ")dt iyst\n",
      "rin msormp\"rfmTan\n",
      "e(0, 10   _)         nn\n",
      "ratdd{} aBse\n",
      "p\"ietrrate\"_,map\"o_\n",
      " ie_ iapne(0 = s ra .\"nfone\n",
      " (} iasre)0t 1fdna \"(  m im iapnge gy : )\n",
      "~~~~~max_len reached~~~~~\n"
     ]
    }
   ],
   "source": [
    "CODE = \"ale\"\n",
    "predict(tuple(CODE))"
   ]
  },
  {
   "cell_type": "markdown",
   "metadata": {},
   "source": [
    "Next approaches will involve using Gated Recurrent Units and LSTM units. "
   ]
  }
 ],
 "metadata": {
  "kernelspec": {
   "display_name": "Python 3",
   "language": "python",
   "name": "python3"
  },
  "language_info": {
   "codemirror_mode": {
    "name": "ipython",
    "version": 3
   },
   "file_extension": ".py",
   "mimetype": "text/x-python",
   "name": "python",
   "nbconvert_exporter": "python",
   "pygments_lexer": "ipython3",
   "version": "3.6.7"
  }
 },
 "nbformat": 4,
 "nbformat_minor": 2
}
