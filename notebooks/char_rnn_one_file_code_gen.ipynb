{
 "cells": [
  {
   "cell_type": "code",
   "execution_count": 1,
   "metadata": {},
   "outputs": [],
   "source": [
    "%matplotlib inline"
   ]
  },
  {
   "cell_type": "markdown",
   "metadata": {},
   "source": [
    "# Determining Next Character with a Character-Level RNN"
   ]
  },
  {
   "cell_type": "markdown",
   "metadata": {},
   "source": [
    "*This is a simple proof of concept neural network. We will attempt to overfit on a single file of Python source code.*\n",
    "\n",
    "Build a character level recurrent neural network that:\n",
    "* Given a sequence of characters, predicts the next likely character in the sequence.\n",
    "\n",
    "The following are necessary term defintions:\n",
    "\n",
    "* **Vocabulary**: Set of all characters that our text consists of. Size of vocabulary is the number of unique characters in our text.\n"
   ]
  },
  {
   "cell_type": "code",
   "execution_count": 2,
   "metadata": {},
   "outputs": [],
   "source": [
    "import numpy as np\n",
    "import torch\n",
    "import torch.nn as nn\n",
    "import matplotlib.pyplot as plt\n",
    "import matplotlib.ticker as ticker\n",
    "from random import shuffle\n",
    "from math import floor\n",
    "from time import time"
   ]
  },
  {
   "cell_type": "markdown",
   "metadata": {},
   "source": [
    "## Preparing the Data\n",
    "We will be predicting for a single Python file, named `test.py`.\n"
   ]
  },
  {
   "cell_type": "code",
   "execution_count": 3,
   "metadata": {},
   "outputs": [
    {
     "name": "stdout",
     "output_type": "stream",
     "text": [
      "\"\"\"Predict Test\"\"\"\n",
      "import sys\n",
      "from os import getcwd\n",
      "\n",
      "def main():\n",
      "    sys.stdout.write(getcwd())\n",
      "    for i in range(0, 10):\n",
      "        print(\"{} : Boop\".format(i), i)\n",
      "    return False\n",
      "\n",
      "if __name__ == \"__main__\":\n",
      "    main()\n",
      "\n",
      "~~~~~~~~~~~~~~~~~~~~~~~~~~~~~~~~~~~~~~~~\n",
      "* Vocabulary Size: 39\n",
      "* Text Size: 219\n"
     ]
    }
   ],
   "source": [
    "with open(\"./data/test.py\", \"r\") as f:\n",
    "    text = f.read()\n",
    "\n",
    "print(text)\n",
    "\n",
    "# add a special characters for padding, file_start, and file_stop\n",
    "# PAD characters are necessary batching, but we will do that in another notebook.\n",
    "# For now, assume batch_size of 1\n",
    "# See dynamic_sliding_window_generator\n",
    "PAD = \"<p>\"\n",
    "FILE_START = chr(2) # chr(2) is ASCII start of text\n",
    "FILE_END = chr(3)   # chr(3) is ASCII end of text\n",
    "\n",
    "characters = tuple(set(text)) + tuple((PAD, FILE_START, FILE_END))\n",
    "int2char = dict(enumerate(characters))\n",
    "char2int = {char: index for index, char in int2char.items()}\n",
    "\n",
    "# encode text using the character to integer dictionary\n",
    "encoded = np.array([char2int[char] for char in text])\n",
    "print(\"~\" * 40)\n",
    "print(\"* Vocabulary Size: {}\".format(len(characters)))\n",
    "print(\"* Text Size: {}\".format(len(encoded)))"
   ]
  },
  {
   "cell_type": "markdown",
   "metadata": {},
   "source": [
    "## Sliding Window Algorithm\n",
    "\n",
    "Given some iterable, we want a generator that yields X, Y pairs for evaluation.\n",
    "\n",
    "We want a sequence of a given context length as X, and the next character as Y."
   ]
  },
  {
   "cell_type": "code",
   "execution_count": 4,
   "metadata": {},
   "outputs": [],
   "source": [
    "def sliding_window_generator(iterable, window_size, pad_char=PAD):\n",
    "    \"\"\"Generator that returns sliding window (X,Y) pairs over the provided iterable\"\"\"\n",
    "    # to generate first character, use PAD, PAD, ..., iterable[0], with output iterable[1]\n",
    "    for window_idx in range(1, len(iterable)):\n",
    "        x = iterable[:window_idx]\n",
    "        if len(x) < window_size:\n",
    "            x = ((pad_char,) * (window_size - len(x))) + x\n",
    "\n",
    "        x = x[-window_size:]\n",
    "        y = iterable[window_idx]\n",
    "        yield x, y\n",
    "        \n",
    "def dynamic_sliding_window_generator(iterable, max_window_size=None, gen_forever=True, shuffle_data=True):\n",
    "    if max_window_size is None:\n",
    "        max_window_size = len(iterable)\n",
    "    while True:\n",
    "        if shuffle_data:\n",
    "            data_pairs = []\n",
    "        for window_idx in range(1, len(iterable)):\n",
    "            x = iterable[:window_idx]\n",
    "            if len(x) > max_window_size:\n",
    "                x = x[-max_window_size:]\n",
    "            y = iterable[window_idx]\n",
    "\n",
    "            if shuffle_data:\n",
    "                data_pairs.append((x, y))\n",
    "            else:\n",
    "                yield x, y\n",
    "        if shuffle_data:\n",
    "            shuffle(data_pairs)\n",
    "            while data_pairs:\n",
    "                x, y = data_pairs.pop()\n",
    "                yield x, y\n",
    "        if not gen_forever:\n",
    "            break\n",
    "        "
   ]
  },
  {
   "cell_type": "markdown",
   "metadata": {},
   "source": [
    "Here are the first 3 generator outputs, given a window size of 7."
   ]
  },
  {
   "cell_type": "code",
   "execution_count": 5,
   "metadata": {},
   "outputs": [
    {
     "name": "stdout",
     "output_type": "stream",
     "text": [
      "X:  ('<p>', '<p>', '<p>', '<p>', '<p>', '<p>', '\\x02')\n",
      "Y:  '\"'\n",
      "~~~~~~~~~~~~~~~~~~~~\n",
      "X:  ('<p>', '<p>', '<p>', '<p>', '<p>', '\\x02', '\"')\n",
      "Y:  '\"'\n",
      "~~~~~~~~~~~~~~~~~~~~\n",
      "X:  ('<p>', '<p>', '<p>', '<p>', '\\x02', '\"', '\"')\n",
      "Y:  '\"'\n",
      "~~~~~~~~~~~~~~~~~~~~\n"
     ]
    }
   ],
   "source": [
    "file_char_seq = (FILE_START,) + tuple(text) + (FILE_END, )\n",
    "gen = sliding_window_generator(file_char_seq, 7)\n",
    "\n",
    "for _ in range(0, 3):\n",
    "    x, y = next(gen)\n",
    "    print(\"X: \", x)\n",
    "    print(\"Y: \", repr(y))\n",
    "    print(\"~\" * 20)"
   ]
  },
  {
   "cell_type": "markdown",
   "metadata": {},
   "source": [
    "Here are the first outputs using the **dynamic** generator with no padding and shuffling enabled, given a max window size of 7. Notice how the padding character is no longer necessary."
   ]
  },
  {
   "cell_type": "code",
   "execution_count": 6,
   "metadata": {},
   "outputs": [
    {
     "name": "stdout",
     "output_type": "stream",
     "text": [
      "X:  ('\\x02',)\n",
      "Y:  '\"'\n",
      "~~~~~~~~~~~~~~~~~~~~\n",
      "X:  ('\\x02', '\"', '\"', '\"', 'P', 'r')\n",
      "Y:  'e'\n",
      "~~~~~~~~~~~~~~~~~~~~\n",
      "X:  ('\\x02', '\"', '\"', '\"', 'P')\n",
      "Y:  'r'\n",
      "~~~~~~~~~~~~~~~~~~~~\n",
      "X:  ('\\x02', '\"', '\"', '\"')\n",
      "Y:  'P'\n",
      "~~~~~~~~~~~~~~~~~~~~\n",
      "X:  ('\\x02', '\"')\n",
      "Y:  '\"'\n",
      "~~~~~~~~~~~~~~~~~~~~\n",
      "X:  ('\\x02', '\"', '\"')\n",
      "Y:  '\"'\n",
      "~~~~~~~~~~~~~~~~~~~~\n"
     ]
    }
   ],
   "source": [
    "file_char_seq = (FILE_START,) + tuple(text) + (FILE_END, )\n",
    "gen = dynamic_sliding_window_generator(file_char_seq, 7, gen_forever=False)\n",
    "\n",
    "# for _ in range(0, 3):\n",
    "#     x, y = next(gen)\n",
    "for x, y in gen:\n",
    "    if len(x) < 7:\n",
    "        print(\"X: \", x)\n",
    "        print(\"Y: \", repr(y))\n",
    "        print(\"~\" * 20)"
   ]
  },
  {
   "cell_type": "markdown",
   "metadata": {},
   "source": [
    "### Utilize CUDA & GPU\n",
    "Trainng neural networks can be slow. Utilize GPUs if they are available."
   ]
  },
  {
   "cell_type": "code",
   "execution_count": 7,
   "metadata": {},
   "outputs": [
    {
     "name": "stdout",
     "output_type": "stream",
     "text": [
      "CUDA is available\n",
      " • Number of CUDA devices: 1\n",
      " • Current Device Name: TITAN Xp\n",
      " • Device CUDA Capability: (6, 1)\n"
     ]
    }
   ],
   "source": [
    "device = torch.device(\"cpu\")\n",
    "HAS_GPU = False\n",
    "if torch.cuda.is_available():\n",
    "    HAS_GPU = True\n",
    "    print(\"CUDA is available\")\n",
    "    print(\" • Number of CUDA devices: {}\".format(torch.cuda.device_count()))\n",
    "    device = torch.device(\"cuda\")\n",
    "    print(\" • Current Device Name: {}\".format(torch.cuda.get_device_name(device)))\n",
    "    print(\" • Device CUDA Capability: {}\".format(torch.cuda.get_device_capability(device)))\n",
    "\n",
    "else:\n",
    "    print(\"CUDA is not available.\")\n",
    "    \n",
    "# force GPU off.\n",
    "HAS_GPU = False\n",
    "device = torch.device(\"cpu\")"
   ]
  },
  {
   "cell_type": "markdown",
   "metadata": {},
   "source": [
    "## Characters to Tensors\n",
    "Now that we have our inputs and outputs, they must be converted into Tensors for training.\n",
    "\n",
    "To represent a single character, a one-hot vector of size `(1, num_chars)` is used.\n",
    "* One-hot vector is filled with zeros except for a one at the index of the current letter.\n",
    "\n",
    "To make a training example, we join a bunch of these characters into a matrix of size `(window_size, 1, num_chars)`.\n",
    "\n",
    "The extra `1` dimension is necessary because PyTorch requires everything to be in batches."
   ]
  },
  {
   "cell_type": "code",
   "execution_count": 8,
   "metadata": {},
   "outputs": [],
   "source": [
    "def char_to_tensor(char, num_chars=len(characters)):\n",
    "    tensor = torch.zeros(1, num_chars, device=device)\n",
    "    tensor[0][char2int[char]] = 1\n",
    "    return tensor\n",
    "\n",
    "def charseq_to_tensor(charseq, num_chars=len(characters)):\n",
    "    tensor = torch.zeros(len(charseq), 1, num_chars, device=device)\n",
    "    for seq_idx, char in enumerate(charseq):\n",
    "        tensor[seq_idx][0][char2int[char]] = 1\n",
    "    return tensor"
   ]
  },
  {
   "cell_type": "markdown",
   "metadata": {},
   "source": [
    "Here are the tensor inputs and outputs for the generator function we defined earlier."
   ]
  },
  {
   "cell_type": "code",
   "execution_count": 9,
   "metadata": {},
   "outputs": [
    {
     "name": "stdout",
     "output_type": "stream",
     "text": [
      "('\"', '\"', '\"', '\\n', 'i', 'm', 'p')\n",
      "torch.Size([7, 1, 39])\n",
      "'o'\n",
      "torch.Size([1, 39])\n",
      "tensor([[0., 0., 0., 0., 0., 0., 0., 0., 0., 0., 0., 0., 0., 0., 0., 0., 0., 0.,\n",
      "         1., 0., 0., 0., 0., 0., 0., 0., 0., 0., 0., 0., 0., 0., 0., 0., 0., 0.,\n",
      "         0., 0., 0.]])\n"
     ]
    }
   ],
   "source": [
    "gen = dynamic_sliding_window_generator(file_char_seq, 7)\n",
    "\n",
    "x, y = next(gen)\n",
    "\n",
    "x_tensor = charseq_to_tensor(x)\n",
    "y_tensor = char_to_tensor(y)\n",
    "\n",
    "print(x)\n",
    "print(x_tensor.size())\n",
    "print(repr(y))\n",
    "print(y_tensor.size())\n",
    "print(y_tensor)"
   ]
  },
  {
   "cell_type": "markdown",
   "metadata": {},
   "source": [
    "## Creating the Network\n",
    "\n",
    "Time to create our recurrent neural network. We are extending the basic RNN module provided by the [char_rnn_classification_tutorial](https://pytorch.org/tutorials/intermediate/char_rnn_classification_tutorial.html) first, before moving into more complicated networks."
   ]
  },
  {
   "cell_type": "code",
   "execution_count": 10,
   "metadata": {},
   "outputs": [],
   "source": [
    "class PureRNN(nn.Module):\n",
    "    def __init__(self, input_size, hidden_size, output_size):\n",
    "        super(PureRNN, self).__init__()\n",
    "        \n",
    "        self.hidden_size = hidden_size\n",
    "        \n",
    "        self.input2hidden = nn.Linear(input_size + hidden_size, hidden_size)\n",
    "        self.input2output = nn.Linear(input_size + hidden_size, output_size)\n",
    "        self.softmax = nn.LogSoftmax(dim=1)\n",
    "    \n",
    "    def forward(self, input_val, hidden):\n",
    "        combined = torch.cat((input_val, hidden), 1)\n",
    "        hidden = self.input2hidden(combined)\n",
    "        pre_output = self.input2output(combined)\n",
    "        output = self.softmax(pre_output)\n",
    "        return output, hidden\n",
    "    \n",
    "    def init_hidden(self):\n",
    "        return torch.zeros(1, self.hidden_size, device=device)"
   ]
  },
  {
   "cell_type": "markdown",
   "metadata": {},
   "source": [
    "Initialize our simple recurrent neural network with values appropriate for our character predition task."
   ]
  },
  {
   "cell_type": "code",
   "execution_count": 11,
   "metadata": {},
   "outputs": [],
   "source": [
    "# hidden layer output vector size\n",
    "n_hidden = 128\n",
    "n_chars = len(characters)\n",
    "\n",
    "# Input is a single character, 128 hidden units of state, Output is a single character \n",
    "char_rnn = PureRNN(n_chars, n_hidden, n_chars)\n",
    "if HAS_GPU:\n",
    "    char_rnn.cuda()"
   ]
  },
  {
   "cell_type": "markdown",
   "metadata": {},
   "source": [
    "Before each file, we should zero out the RNN hidden state.\n",
    "\n",
    "For `PureRNN`, our starting sequence should always be the file start character."
   ]
  },
  {
   "cell_type": "code",
   "execution_count": 12,
   "metadata": {},
   "outputs": [
    {
     "name": "stdout",
     "output_type": "stream",
     "text": [
      "torch.Size([1, 39])\n",
      "torch.Size([1, 39])\n",
      "torch.Size([1, 128])\n"
     ]
    }
   ],
   "source": [
    "input_val = char_to_tensor(FILE_START)\n",
    "hidden_val = char_rnn.init_hidden()\n",
    "\n",
    "output, next_hidden = char_rnn(input_val, hidden_val)\n",
    "\n",
    "# more efficient to make the whole file into one tensor and iterate over each character\n",
    "input_seq = charseq_to_tensor(file_char_seq)\n",
    "input_val = input_seq[0]\n",
    "hidden_val = char_rnn.init_hidden()\n",
    "\n",
    "output, next_hidden = char_rnn(input_val, hidden_val)\n",
    "print(input_val.size())\n",
    "print(output.size())\n",
    "print(next_hidden.size())"
   ]
  },
  {
   "cell_type": "markdown",
   "metadata": {},
   "source": [
    "## Preparing to Train our Model\n",
    "\n",
    "We want to evaluate the accuracy of our model in predicting the next character, it is helpful to be able to convert the network prediction back to a human readable character."
   ]
  },
  {
   "cell_type": "code",
   "execution_count": 13,
   "metadata": {},
   "outputs": [
    {
     "data": {
      "text/plain": [
       "('s', 21)"
      ]
     },
     "execution_count": 13,
     "metadata": {},
     "output_type": "execute_result"
    }
   ],
   "source": [
    "def char_from_output(output):\n",
    "    \"\"\"Covnvert network output prediction back to readable character\"\"\"\n",
    "    # return the k largest elements of the given tensor\n",
    "    top_n, top_i = output.topk(1)\n",
    "    char_index = top_i[0].item()\n",
    "    return int2char[char_index], char_index\n",
    "    \n",
    "char_from_output(output)"
   ]
  },
  {
   "cell_type": "markdown",
   "metadata": {},
   "source": [
    "Now, all we need to do is to show the network examples, have it make predictions, and inform the network when predictions are incorrect.\n",
    "\n",
    "For the loss function, `nn.NLLLoss` is used as the last layer of the RNN is a `nn.LogSoftmax`.\n",
    "\n",
    "Different loss functions that can be used are defined in [pyTorch Loss functions](https://pytorch.org/docs/stable/nn.html#loss-functions).\n",
    "\n",
    "For classifing input into `C` number of classes, the following loss functions are useful:\n",
    "\n",
    "* **Cross Entropy Loss**: [CrossEntropyLoss docs](https://pytorch.org/docs/stable/nn.html#crossentropyloss)\n",
    "* **Negative Log Likelihood Loss**: [NLLLoss docs](https://pytorch.org/docs/stable/nn.html#nllloss)\n"
   ]
  },
  {
   "cell_type": "code",
   "execution_count": 14,
   "metadata": {},
   "outputs": [],
   "source": [
    "# criterion = nn.NLLLoss()\n",
    "criterion = nn.CrossEntropyLoss()"
   ]
  },
  {
   "cell_type": "markdown",
   "metadata": {},
   "source": [
    "Each training loop will:\n",
    "0. Create input and target tensors\n",
    "0. Initialize a zerored hidden state\n",
    "0. Read each letter in and keep the hidden state for the next letter\n",
    "0. Compare the final output to the target\n",
    "0. Back-propagate\n",
    "0. Return the output and loss"
   ]
  },
  {
   "cell_type": "code",
   "execution_count": 15,
   "metadata": {},
   "outputs": [],
   "source": [
    "learning_rate = 0.005\n",
    "\n",
    "def train(true_output_tensor, char_sequence_tensor):\n",
    "    char_rnn.train()\n",
    "    hidden = char_rnn.init_hidden()\n",
    "    \n",
    "    # Sets gradients of all model parameters to zero\n",
    "    char_rnn.zero_grad()\n",
    "    \n",
    "    for i in range(char_sequence_tensor.size()[0]):\n",
    "        output, hidden = char_rnn(char_sequence_tensor[i], hidden)\n",
    "\n",
    "    # diagnose datatype error\n",
    "    # import pdb; pdb.set_trace()\n",
    "\n",
    "    loss = criterion(output, true_output_tensor)\n",
    "    loss.backward()\n",
    "    \n",
    "    for p in char_rnn.parameters():\n",
    "        p.data.add_(-learning_rate, p.grad.data)\n",
    "    \n",
    "    return output, loss.item()"
   ]
  },
  {
   "cell_type": "markdown",
   "metadata": {},
   "source": [
    "## Training our Model\n",
    "\n",
    "We will now train our model. Keep track of loss for plotting."
   ]
  },
  {
   "cell_type": "code",
   "execution_count": 16,
   "metadata": {},
   "outputs": [
    {
     "name": "stdout",
     "output_type": "stream",
     "text": [
      "    0 0.0% (0m 00s) 3.51964 | '=' '✓'\n",
      "    1 0.5% (0m 00s) 3.66165 | ' ' '✗ (s)'\n",
      "    3 1.5% (0m 01s) 2.88855 | ' ' '✗ (i)'\n",
      "    4 2.0% (0m 01s) 3.48610 | ' ' '✗ (d)'\n",
      "    6 3.0% (0m 02s) 4.05578 | ' ' '✗ (:)'\n",
      "    7 3.5% (0m 03s) 2.89933 | ' ' '✗ (t)'\n",
      "    9 4.5% (0m 03s) 1.47111 | ' ' '✓'\n",
      "   11 5.5% (0m 04s) 2.95988 | ' ' '✗ (s)'\n",
      "   12 6.0% (0m 05s) 2.73092 | ' ' '✗ (i)'\n",
      "   14 7.0% (0m 06s) 2.77497 | ' ' '✗ (i)'\n",
      "   15 7.5% (0m 06s) 4.07184 | ' ' '✗ (g)'\n",
      "   17 8.5% (0m 07s) 3.61004 | ' ' '✗ (d)'\n",
      "   18 9.0% (0m 08s) 2.79775 | ' ' '✗ (t)'\n",
      "   20 10.0% (0m 08s) 3.57085 | 'i' '✗ (f)'\n",
      "   22 11.0% (0m 09s) 4.37530 | ' ' '✗ (0)'\n",
      "   23 11.5% (0m 10s) 4.55992 | ' ' '✗ (P)'\n",
      "   25 12.5% (0m 10s) 2.12691 | '\\n' '✓'\n",
      "   26 13.0% (0m 11s) 0.42828 | ' ' '✓'\n",
      "   28 14.0% (0m 12s) 3.69470 | ' ' '✗ (f)'\n",
      "   29 14.5% (0m 13s) 3.15814 | 'i' '✗ (s)'\n",
      "   31 15.5% (0m 13s) 3.37567 | 't' '✗ (e)'\n",
      "   33 16.5% (0m 14s) 2.15842 | 'd' '✓'\n",
      "   34 17.0% (0m 15s) 1.47101 | 'r' '✓'\n",
      "   36 18.0% (0m 15s) 2.65344 | ' ' '✗ (=)'\n",
      "   37 18.5% (0m 16s) 2.23701 | 't' '✗ (F)'\n",
      "   39 19.5% (0m 17s) 1.77373 | 'w' '✓'\n",
      "   41 20.5% (0m 17s) 1.82614 | 'f' '✓'\n",
      "   42 21.0% (0m 18s) 1.39306 | '\\n' '✗ ( )'\n",
      "   44 22.0% (0m 19s) 1.19298 | '=' '✓'\n",
      "   45 22.5% (0m 19s) 0.98135 | 'n' '✓'\n",
      "   47 23.5% (0m 20s) 0.26087 | ' ' '✓'\n",
      "   48 24.0% (0m 21s) 3.44178 | ' ' '✗ (\\n)'\n",
      "   50 25.0% (0m 22s) 0.38843 | '\\n' '✓'\n",
      "   52 26.0% (0m 22s) 0.38461 | 'p' '✓'\n",
      "   53 26.5% (0m 23s) 0.46256 | '_' '✓'\n",
      "   55 27.5% (0m 24s) 0.21880 | ' ' '✓'\n",
      "   56 28.0% (0m 24s) 0.41021 | '\\n' '✓'\n",
      "   58 29.0% (0m 25s) 1.92011 | 'e' '✗ ())'\n",
      "   59 29.5% (0m 26s) 0.37499 | ' ' '✓'\n",
      "   61 30.5% (0m 26s) 0.27655 | 't' '✓'\n",
      "   63 31.5% (0m 27s) 0.67975 | '\\x03' '✓'\n",
      "   64 32.0% (0m 28s) 0.32470 | ' ' '✓'\n",
      "   66 33.0% (0m 28s) 0.09384 | 't' '✓'\n",
      "   67 33.5% (0m 29s) 0.27032 | 'f' '✓'\n",
      "   69 34.5% (0m 30s) 1.68849 | 't' '✗ (m)'\n",
      "   70 35.0% (0m 30s) 0.31790 | '\\n' '✓'\n",
      "   72 36.0% (0m 31s) 0.30007 | 'e' '✓'\n",
      "   74 37.0% (0m 32s) 0.00000 | ' ' '✓'\n",
      "   75 37.5% (0m 33s) 0.02750 | '\"' '✓'\n",
      "   77 38.5% (0m 33s) 0.18935 | 'i' '✓'\n",
      "   78 39.0% (0m 34s) 0.71810 | ')' '✓'\n",
      "   80 40.0% (0m 35s) 0.45434 | ':' '✓'\n",
      "   82 41.0% (0m 35s) 0.19259 | ' ' '✓'\n",
      "   83 41.5% (0m 36s) 0.12535 | ':' '✓'\n",
      "   85 42.5% (0m 37s) 0.29680 | 'T' '✓'\n",
      "   86 43.0% (0m 37s) 0.64706 | 'i' '✓'\n",
      "   88 44.0% (0m 38s) 0.04308 | 't' '✓'\n",
      "   89 44.5% (0m 39s) 0.70216 | '(' '✓'\n",
      "   91 45.5% (0m 40s) 0.68355 | 'f' '✓'\n",
      "   93 46.5% (0m 40s) 0.02057 | 'r' '✓'\n",
      "   94 47.0% (0m 41s) 0.08523 | 'i' '✓'\n",
      "   96 48.0% (0m 42s) 0.00372 | ' ' '✓'\n",
      "   97 48.5% (0m 42s) 0.01553 | 'T' '✓'\n",
      "   99 49.5% (0m 43s) 0.00881 | 'e' '✓'\n",
      "  100 50.0% (0m 44s) 0.00381 | 'a' '✓'\n",
      "  102 51.0% (0m 44s) 0.00483 | ' ' '✓'\n",
      "  104 52.0% (0m 45s) 0.00144 | 'o' '✓'\n",
      "  105 52.5% (0m 46s) 0.00202 | 'i' '✓'\n",
      "  107 53.5% (0m 46s) 0.00390 | 'r' '✓'\n",
      "  108 54.0% (0m 47s) 0.00078 | 'r' '✓'\n",
      "  110 55.0% (0m 48s) 0.00100 | ' ' '✓'\n",
      "  111 55.5% (0m 48s) 0.00437 | ' ' '✓'\n",
      "  113 56.5% (0m 49s) 0.00353 | 'r' '✓'\n",
      "  115 57.5% (0m 50s) 0.00017 | 's' '✓'\n",
      "  116 58.0% (0m 50s) 0.00340 | ':' '✓'\n",
      "  118 59.0% (0m 51s) 0.00218 | 'o' '✓'\n",
      "  119 59.5% (0m 52s) 0.00031 | '\\n' '✓'\n",
      "  121 60.5% (0m 52s) 0.00004 | ' ' '✓'\n",
      "  123 61.5% (0m 53s) 0.00481 | 'd' '✓'\n",
      "  124 62.0% (0m 54s) 0.00051 | 's' '✓'\n",
      "  126 63.0% (0m 54s) 0.00084 | '\\n' '✓'\n",
      "  127 63.5% (0m 55s) 0.00391 | ' ' '✓'\n",
      "  129 64.5% (0m 56s) 0.00032 | ' ' '✓'\n",
      "  130 65.0% (0m 57s) 0.00042 | 'n' '✓'\n",
      "  132 66.0% (0m 57s) 0.00070 | '\"' '✓'\n",
      "  134 67.0% (0m 58s) 0.00004 | '\\x03' '✓'\n",
      "  135 67.5% (0m 59s) 0.00063 | '0' '✓'\n",
      "  137 68.5% (0m 59s) 0.00013 | 'i' '✓'\n",
      "  138 69.0% (1m 00s) 0.00035 | ' ' '✓'\n",
      "  140 70.0% (1m 00s) 0.00007 | 'i' '✓'\n",
      "  141 70.5% (1m 01s) 0.00089 | 'f' '✓'\n",
      "  143 71.5% (1m 01s) 0.00039 | 'm' '✓'\n",
      "  145 72.5% (1m 02s) 0.00015 | 's' '✓'\n",
      "  146 73.0% (1m 02s) 0.00000 | '_' '✓'\n",
      "  148 74.0% (1m 03s) 0.00016 | 'i' '✓'\n",
      "  149 74.5% (1m 03s) 0.00085 | '\\n' '✓'\n",
      "  151 75.5% (1m 04s) 0.00000 | '(' '✓'\n",
      "  152 76.0% (1m 04s) 0.00000 | '(' '✓'\n",
      "  154 77.0% (1m 04s) 0.00083 | 't' '✓'\n",
      "  156 78.0% (1m 05s) 0.00024 | 't' '✓'\n",
      "  157 78.5% (1m 05s) 0.00001 | 'a' '✓'\n",
      "  159 79.5% (1m 06s) 0.00037 | '\"' '✓'\n",
      "  160 80.0% (1m 06s) 0.00009 | 'i' '✓'\n",
      "  162 81.0% (1m 07s) 0.00090 | 'm' '✓'\n",
      "  164 82.0% (1m 07s) 0.00002 | ' ' '✓'\n",
      "  165 82.5% (1m 08s) 0.00012 | '_' '✓'\n",
      "  167 83.5% (1m 08s) 0.00000 | ' ' '✓'\n",
      "  168 84.0% (1m 09s) 0.00016 | ' ' '✓'\n",
      "  170 85.0% (1m 09s) 0.00015 | 'e' '✓'\n",
      "  171 85.5% (1m 10s) 0.00152 | ' ' '✓'\n",
      "  173 86.5% (1m 10s) 0.00033 | ' ' '✓'\n",
      "  175 87.5% (1m 11s) 0.00039 | '_' '✓'\n",
      "  176 88.0% (1m 11s) 0.00015 | 's' '✓'\n",
      "  178 89.0% (1m 12s) 0.00041 | 's' '✓'\n",
      "  179 89.5% (1m 12s) 0.00003 | ')' '✓'\n",
      "  181 90.5% (1m 13s) 0.00004 | 'g' '✓'\n",
      "  182 91.0% (1m 13s) 0.00029 | '\\n' '✓'\n",
      "  184 92.0% (1m 14s) 0.00011 | 'i' '✓'\n",
      "  186 93.0% (1m 14s) 0.00010 | ' ' '✓'\n",
      "  187 93.5% (1m 15s) 0.00000 | ' ' '✓'\n",
      "  189 94.5% (1m 15s) 0.00000 | 'a' '✓'\n",
      "  190 95.0% (1m 16s) 0.00021 | '0' '✓'\n",
      "  192 96.0% (1m 16s) 0.00017 | '0' '✓'\n",
      "  194 97.0% (1m 17s) 0.00008 | '=' '✓'\n",
      "  195 97.5% (1m 17s) 0.00034 | 'i' '✓'\n",
      "  197 98.5% (1m 18s) 0.00015 | ' ' '✓'\n",
      "  198 99.0% (1m 18s) 0.00039 | '\\n' '✓'\n"
     ]
    }
   ],
   "source": [
    "n_epochs = 200\n",
    "print_every = 347\n",
    "window_size = 15\n",
    "\n",
    "file_char_seq = (FILE_START,) + tuple(text) + (FILE_END, )\n",
    "\n",
    "# Keep track of losses for plotting\n",
    "all_losses = []\n",
    "\n",
    "def time_since(since):\n",
    "    delta = time() - since\n",
    "    sec = int(delta)\n",
    "    mins = floor(sec / 60)\n",
    "    sec -= mins * 60\n",
    "    return \"{}m {:0>2d}s\".format(mins, sec)\n",
    "\n",
    "start = time()\n",
    "iter_idx = 0\n",
    "\n",
    "# This generator will terminate when it finishes the file.\n",
    "for epoch_idx in range(n_epochs):\n",
    "    #gen = sliding_window_generator(file_char_seq, window_size)\n",
    "    gen = dynamic_sliding_window_generator(file_char_seq, max_window_size=window_size, gen_forever=False)\n",
    "    for input_char_seq, output_char in gen:\n",
    "        input_seq_tensor = charseq_to_tensor(input_char_seq)\n",
    "\n",
    "        # output_tensor = char_to_tensor(output_char)\n",
    "        # NLLLoss expects the output tensor to be datatype long index of expected character\n",
    "        output_tensor = torch.tensor([char2int[output_char]], dtype=torch.long, device=device)\n",
    "        output, loss = train(output_tensor, input_seq_tensor)\n",
    "        \n",
    "        # Print iter number, loss, name and guess\n",
    "        if iter_idx % print_every == 0:\n",
    "            guess, guess_i = char_from_output(output)\n",
    "            correct = \"✓\" if guess == output_char else \"✗ ({})\".format(output_char)\n",
    "            print(\"{:5d} {:.1f}% ({}) {:.5f} | {} {}\".format(\n",
    "                epoch_idx, epoch_idx/n_epochs * 100, time_since(start),\n",
    "                loss, repr(guess), repr(correct)))\n",
    "        iter_idx += 1\n",
    "\n",
    "    # Add current loss avg to list of losses after each epoch\n",
    "    all_losses.append(loss)\n"
   ]
  },
  {
   "cell_type": "markdown",
   "metadata": {},
   "source": [
    "## Plotting the Training Process\n",
    "\n",
    "Plotting the historical loss from `all_losses` shows the network learning!"
   ]
  },
  {
   "cell_type": "code",
   "execution_count": 17,
   "metadata": {},
   "outputs": [
    {
     "data": {
      "text/plain": [
       "[<matplotlib.lines.Line2D at 0x7fd6b0380630>]"
      ]
     },
     "execution_count": 17,
     "metadata": {},
     "output_type": "execute_result"
    },
    {
     "data": {
      "image/png": "[encoded data removed]",
      "text/plain": [
       "<Figure size 432x288 with 1 Axes>"
      ]
     },
     "metadata": {
      "needs_background": "light"
     },
     "output_type": "display_data"
    }
   ],
   "source": [
    "plt.figure()\n",
    "plt.title(\"Char-RNN Toy Source Code Loss over Epoch\")\n",
    "plt.xlabel(\"Epoch\")\n",
    "plt.ylabel(\"Negative Log Likelihood\")\n",
    "plt.plot(all_losses)"
   ]
  },
  {
   "cell_type": "markdown",
   "metadata": {},
   "source": [
    "## Evaluating our Model Results\n",
    "\n",
    "Are there certain characters that the network predicts better than others?\n",
    "\n",
    "How well can the neural network predict each character? We can visualize this using a confusion matrix."
   ]
  },
  {
   "cell_type": "code",
   "execution_count": 18,
   "metadata": {},
   "outputs": [],
   "source": [
    "# Keep track of correct guesses in a confusion matrix\n",
    "n_predictabchars = len(characters)\n",
    "confusion = np.zeros((n_chars, n_chars))\n",
    "n_confusion = 1000\n",
    "\n",
    "gen = dynamic_sliding_window_generator(file_char_seq, window_size)\n",
    "\n",
    "def evaluate(line_tensor, hidden = char_rnn.init_hidden()):\n",
    "    char_rnn.eval()\n",
    "    \"\"\"Return an output, given a line.\"\"\"\n",
    "    for i in range(line_tensor.size()[0]):\n",
    "        output, hidden = char_rnn(line_tensor[i], hidden)\n",
    "    return output, hidden\n",
    "\n",
    "\n",
    "# Keep track of a bunch of examples and record which are correctly guessed\n",
    "for i in range(n_confusion):\n",
    "    input_char_seq, true_output_char = next(gen)\n",
    "    true_output_idx = char2int[true_output_char]\n",
    "\n",
    "    input_seq_tensor = charseq_to_tensor(input_char_seq)\n",
    "    pred_output_tensor, _ = evaluate(input_seq_tensor)\n",
    "    pred_output_char, pred_output_idx = char_from_output(pred_output_tensor)\n",
    "    \n",
    "    confusion[true_output_idx][pred_output_idx] += 1\n",
    "\n",
    "# Normalize by dividing every row by its sum\n",
    "for i in range(confusion.shape[0]):\n",
    "    row_sum = confusion[i].sum()\n",
    "    if row_sum <= 0:\n",
    "        # the next discretely distinguishable floating point value greater than zero\n",
    "        row_sum = np.nextafter(0,1) \n",
    "    confusion[i] = confusion[i] / row_sum"
   ]
  },
  {
   "cell_type": "markdown",
   "metadata": {},
   "source": [
    "The confusion matrix can now be plotted. "
   ]
  },
  {
   "cell_type": "code",
   "execution_count": 19,
   "metadata": {},
   "outputs": [
    {
     "data": {
      "image/png": "[encoded data removed]",
      "text/plain": [
       "<Figure size 1200x1200 with 2 Axes>"
      ]
     },
     "metadata": {
      "needs_background": "light"
     },
     "output_type": "display_data"
    }
   ],
   "source": [
    "# Plot the confusion matrix\n",
    "fig = plt.figure(figsize=(15, 15), dpi=80)\n",
    "ax = fig.add_subplot(111)\n",
    "cax = ax.matshow(confusion)\n",
    "fig.colorbar(cax)\n",
    "\n",
    "# Setup Axes labels, make whitespace more readable\n",
    "char_labels = [val for key, val in sorted(int2char.items())]\n",
    "for idx, char_label in enumerate(char_labels):\n",
    "    if char_label in [\" \", \"\\n\", FILE_START, FILE_END]:\n",
    "        char_labels[idx] = repr(char_label)\n",
    "ax.set_xticklabels([\"\"] + char_labels, rotation=90)\n",
    "ax.set_yticklabels([\"\"] + char_labels)\n",
    "\n",
    "# Force a label at every tick\n",
    "ax.xaxis.set_major_locator(ticker.MultipleLocator(1))\n",
    "ax.yaxis.set_major_locator(ticker.MultipleLocator(1))\n",
    "# plt.xlabel(\"Actual Charcter\")\n",
    "plt.ylabel(\"Predicted Character\")\n",
    "plt.title(\"Predicted Character to Actual Character\")\n",
    "plt.show()"
   ]
  },
  {
   "cell_type": "markdown",
   "metadata": {},
   "source": [
    "## Using User Specified Input\n",
    "\n",
    "You can test this yourself by supplying your own prelimiary Python source code."
   ]
  },
  {
   "cell_type": "code",
   "execution_count": 20,
   "metadata": {},
   "outputs": [
    {
     "name": "stdout",
     "output_type": "stream",
     "text": [
      "\u0002\n",
      "~~~~~Auto Completion~~~~~\n",
      "\u0002\"\"\"Predict Test\"\"\"\n",
      "import sys\n",
      "from os import getcwd\n",
      "\n",
      "def main():\n",
      "    sys.stdout.write(getcwd())\n",
      "    for i in range(0, 10):\n",
      "        print(\"{} : Boop\".format(i), i)\n",
      "    return False\n",
      "\n",
      "if __name__ == \"__main__\":\n",
      "    main()\n"
     ]
    }
   ],
   "source": [
    "def predict(input_char_seq, max_len=1000):\n",
    "    print(\"\".join(input_char_seq))\n",
    "    print(\"~~~~~Auto Completion~~~~~\")\n",
    "    with torch.no_grad():\n",
    "        print(\"\".join(input_char_seq), end=\"\")\n",
    "        output, hidden = evaluate(charseq_to_tensor(input_char_seq))\n",
    "\n",
    "        for i in range(max_len):\n",
    "            # Suggestion: Maybe probabalistically choose using weights over all choices?\n",
    "            topv, topi = output.topk(1, 1, True)        \n",
    "            # value = topv[0][0].item()\n",
    "            char_idx = topi[0][0].item()\n",
    "            next_char = int2char[char_idx]\n",
    "            if next_char == FILE_END:\n",
    "                return\n",
    "            print(next_char, end=\"\")\n",
    "            input_char_seq = input_char_seq + (next_char, )\n",
    "            output, hidden = evaluate(charseq_to_tensor(input_char_seq[-window_size:]))\n",
    "        print(\"\\n~~~~~max_len reached~~~~~\")\n",
    "\n",
    "# this is symbolic, to demonstrate that we have memorized the training data.\n",
    "CODE = (FILE_START,)\n",
    "predict(tuple(CODE))"
   ]
  },
  {
   "cell_type": "markdown",
   "metadata": {},
   "source": [
    "Does it work with your own data? Some arbitrary starting text?"
   ]
  },
  {
   "cell_type": "code",
   "execution_count": 21,
   "metadata": {
    "scrolled": true
   },
   "outputs": [
    {
     "name": "stdout",
     "output_type": "stream",
     "text": [
      "ale\n",
      "~~~~~Auto Completion~~~~~\n",
      "ale\"\n",
      "\"\n",
      "   maors)\n",
      "     sye(_it l s\n",
      "\n",
      "\n",
      "    pmre(\n",
      "o=  \"\n",
      "Bmrtimd=  :\n",
      " \" prmt c  }e: r  p nt :    0 r rstitt. s sepoio rrtter0it(}   \n",
      "fft r i  \"\n",
      "rm s_s s s.frrmde( :\n",
      "(\"n\n",
      ")\n",
      "    imsesn\n",
      "t tswr\n",
      "tdcfo,msoe_ , icpn\n",
      "tdn   \n",
      "i r np s (\n",
      "{g   Biepe\n",
      "f = sys\n",
      " r ou serante(0icw f)      ior n t(s{e\n",
      "g\n",
      "f , s\n",
      "edf  oa se)c\n",
      "   p\"g  giio t Boot\".fotmwt(t), i)\n",
      "    rfturn False\n",
      "\n",
      "if __name__ == \"__main__\":\n",
      "    main()\n"
     ]
    }
   ],
   "source": [
    "# replace CODE with your own sequence of characters\n",
    "CODE = \"ale\"\n",
    "predict(tuple(CODE))"
   ]
  },
  {
   "cell_type": "markdown",
   "metadata": {},
   "source": [
    "Next approaches will involve using Gated Recurrent Units and LSTM units. "
   ]
  }
 ],
 "metadata": {
  "kernelspec": {
   "display_name": "Python 3",
   "language": "python",
   "name": "python3"
  },
  "language_info": {
   "codemirror_mode": {
    "name": "ipython",
    "version": 3
   },
   "file_extension": ".py",
   "mimetype": "text/x-python",
   "name": "python",
   "nbconvert_exporter": "python",
   "pygments_lexer": "ipython3",
   "version": "3.6.7"
  }
 },
 "nbformat": 4,
 "nbformat_minor": 2
}
