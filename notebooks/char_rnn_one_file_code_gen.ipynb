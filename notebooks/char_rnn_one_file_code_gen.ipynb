{
 "cells": [
  {
   "cell_type": "code",
   "execution_count": 1,
   "metadata": {},
   "outputs": [],
   "source": [
    "%matplotlib inline"
   ]
  },
  {
   "cell_type": "markdown",
   "metadata": {},
   "source": [
    "# Determining Next Character with a Character-Level RNN"
   ]
  },
  {
   "cell_type": "markdown",
   "metadata": {},
   "source": [
    "*This is a simple proof of concept neural network. We will attempt to overfit on a single file of Python source code.*\n",
    "\n",
    "Build a character level recurrent neural network that:\n",
    "* Given a sequence of characters, predicts the next likely character in the sequence.\n",
    "\n",
    "The following are necessary term defintions:\n",
    "\n",
    "* **Vocabulary**: Set of all characters that our text consists of. Size of vocabulary is the number of unique characters in our text.\n"
   ]
  },
  {
   "cell_type": "code",
   "execution_count": 2,
   "metadata": {},
   "outputs": [],
   "source": [
    "import numpy as np\n",
    "import torch\n",
    "import torch.nn as nn\n",
    "import matplotlib.pyplot as plt\n",
    "import matplotlib.ticker as ticker\n",
    "from random import shuffle\n",
    "from math import floor\n",
    "from time import time"
   ]
  },
  {
   "cell_type": "markdown",
   "metadata": {},
   "source": [
    "## Preparing the Data\n",
    "We will be predicting for a single Python file, named `test.py`.\n"
   ]
  },
  {
   "cell_type": "code",
   "execution_count": 3,
   "metadata": {},
   "outputs": [
    {
     "name": "stdout",
     "output_type": "stream",
     "text": [
      "\"\"\"Predict Test\"\"\"\n",
      "import sys\n",
      "from os import getcwd\n",
      "\n",
      "def main():\n",
      "    sys.stdout.write(getcwd())\n",
      "    for i in range(0, 10):\n",
      "        print(\"{} : Boop\".format(i), i)\n",
      "    return False\n",
      "\n",
      "if __name__ == \"__main__\":\n",
      "    main()\n",
      "\n",
      "~~~~~~~~~~~~~~~~~~~~~~~~~~~~~~~~~~~~~~~~\n",
      "* Vocabulary Size: 39\n",
      "* Text Size: 219\n"
     ]
    }
   ],
   "source": [
    "with open(\"./test.py\", \"r\") as f:\n",
    "    text = f.read()\n",
    "print(text)\n",
    "\n",
    "# add a special characters for padding, file_start, and file_stop\n",
    "PAD = \"<p>\" # Are PAD characters even necessary for the task? See dynamic_sliding_window_generator\n",
    "FILE_START = \"<s>\"\n",
    "FILE_END = \"<e>\"\n",
    "\n",
    "characters = tuple(set(text)) + tuple((PAD, FILE_START, FILE_END))\n",
    "int2char = dict(enumerate(characters))\n",
    "char2int = {char: index for index, char in int2char.items()}\n",
    "\n",
    "# encode text using the character to integer dictionary\n",
    "encoded = np.array([char2int[char] for char in text])\n",
    "print(\"~\" * 40)\n",
    "print(\"* Vocabulary Size: {}\".format(len(characters)))\n",
    "print(\"* Text Size: {}\".format(len(encoded)))"
   ]
  },
  {
   "cell_type": "markdown",
   "metadata": {},
   "source": [
    "## Sliding Window Algorithm\n",
    "\n",
    "Given some iterable, we want a generator that yields X, Y pairs for evaluation.\n",
    "\n",
    "We want a sequence of a given context length as X, and the next character as Y."
   ]
  },
  {
   "cell_type": "code",
   "execution_count": 4,
   "metadata": {},
   "outputs": [],
   "source": [
    "def sliding_window_generator(iterable, window_size, pad_char=PAD):\n",
    "    \"\"\"Generator that returns sliding window (X,Y) pairs over the provided iterable\"\"\"\n",
    "    # to generate first character, use PAD, PAD, ..., iterable[0], with output iterable[1]\n",
    "    for window_idx in range(1, len(iterable)):\n",
    "        x = iterable[:window_idx]\n",
    "        if len(x) < window_size:\n",
    "            x = ((pad_char,) * (window_size - len(x))) + x\n",
    "\n",
    "        x = x[-window_size:]\n",
    "        y = iterable[window_idx]\n",
    "        yield x, y\n",
    "        \n",
    "def dynamic_sliding_window_generator(iterable, max_window_size=None, gen_forever=True, shuffle_data=True):\n",
    "    if max_window_size is None:\n",
    "        max_window_size = len(iterable)\n",
    "    while True:\n",
    "        if shuffle_data:\n",
    "            data_pairs = []\n",
    "        for window_idx in range(1, len(iterable)):\n",
    "            x = iterable[:window_idx]\n",
    "            if len(x) > max_window_size:\n",
    "                x = x[-max_window_size:]\n",
    "            y = iterable[window_idx]\n",
    "\n",
    "            if shuffle_data:\n",
    "                data_pairs.append((x, y))\n",
    "            else:\n",
    "                yield x, y\n",
    "        if shuffle_data:\n",
    "            shuffle(data_pairs)\n",
    "            while data_pairs:\n",
    "                x, y = data_pairs.pop()\n",
    "                yield x, y\n",
    "        if not gen_forever:\n",
    "            break\n",
    "        "
   ]
  },
  {
   "cell_type": "markdown",
   "metadata": {},
   "source": [
    "Here are the first 3 generator outputs, given a window size of 7."
   ]
  },
  {
   "cell_type": "code",
   "execution_count": 5,
   "metadata": {},
   "outputs": [
    {
     "name": "stdout",
     "output_type": "stream",
     "text": [
      "X:  ('<p>', '<p>', '<p>', '<p>', '<p>', '<p>', '<s>')\n",
      "Y:  '\"'\n",
      "~~~~~~~~~~~~~~~~~~~~\n",
      "X:  ('<p>', '<p>', '<p>', '<p>', '<p>', '<s>', '\"')\n",
      "Y:  '\"'\n",
      "~~~~~~~~~~~~~~~~~~~~\n",
      "X:  ('<p>', '<p>', '<p>', '<p>', '<s>', '\"', '\"')\n",
      "Y:  '\"'\n",
      "~~~~~~~~~~~~~~~~~~~~\n"
     ]
    }
   ],
   "source": [
    "file_char_seq = (FILE_START,) + tuple(text) + (FILE_END, )\n",
    "gen = sliding_window_generator(file_char_seq, 7)\n",
    "\n",
    "for _ in range(0, 3):\n",
    "    x, y = next(gen)\n",
    "    print(\"X: \", x)\n",
    "    print(\"Y: \", repr(y))\n",
    "    print(\"~\" * 20)"
   ]
  },
  {
   "cell_type": "markdown",
   "metadata": {},
   "source": [
    "Here are the first outputs using the **dynamic** generator with no padding and shuffling enabled, given a max window size of 7. Notice how the padding character is no longer necessary."
   ]
  },
  {
   "cell_type": "code",
   "execution_count": 6,
   "metadata": {},
   "outputs": [
    {
     "name": "stdout",
     "output_type": "stream",
     "text": [
      "X:  ('<s>', '\"', '\"')\n",
      "Y:  '\"'\n",
      "~~~~~~~~~~~~~~~~~~~~\n",
      "X:  ('<s>', '\"', '\"', '\"')\n",
      "Y:  'P'\n",
      "~~~~~~~~~~~~~~~~~~~~\n",
      "X:  ('<s>', '\"')\n",
      "Y:  '\"'\n",
      "~~~~~~~~~~~~~~~~~~~~\n",
      "X:  ('<s>',)\n",
      "Y:  '\"'\n",
      "~~~~~~~~~~~~~~~~~~~~\n",
      "X:  ('<s>', '\"', '\"', '\"', 'P')\n",
      "Y:  'r'\n",
      "~~~~~~~~~~~~~~~~~~~~\n",
      "X:  ('<s>', '\"', '\"', '\"', 'P', 'r')\n",
      "Y:  'e'\n",
      "~~~~~~~~~~~~~~~~~~~~\n"
     ]
    }
   ],
   "source": [
    "file_char_seq = (FILE_START,) + tuple(text) + (FILE_END, )\n",
    "gen = dynamic_sliding_window_generator(file_char_seq, 7, gen_forever=False)\n",
    "\n",
    "# for _ in range(0, 3):\n",
    "#     x, y = next(gen)\n",
    "for x, y in gen:\n",
    "    if len(x) < 7:\n",
    "        print(\"X: \", x)\n",
    "        print(\"Y: \", repr(y))\n",
    "        print(\"~\" * 20)"
   ]
  },
  {
   "cell_type": "markdown",
   "metadata": {},
   "source": [
    "## Characters to Tensors\n",
    "Now that we have our inputs and outputs, they must be converted into Tensors for training.\n",
    "\n",
    "To represent a single character, a one-hot vector of size `(1, num_chars)` is used.\n",
    "* One-hot vector is filled with zeros except for a one at the index of the current letter.\n",
    "\n",
    "To make a training example, we join a bunch of these characters into a matrix of size `(window_size, 1, num_chars)`.\n",
    "\n",
    "The extra `1` dimension is necessary because PyTorch requires everything to be in batches."
   ]
  },
  {
   "cell_type": "code",
   "execution_count": 7,
   "metadata": {},
   "outputs": [],
   "source": [
    "def char_to_tensor(char, num_chars=len(characters)):\n",
    "    tensor = torch.zeros(1, num_chars)\n",
    "    tensor[0][char2int[char]] = 1\n",
    "    return tensor\n",
    "\n",
    "def charseq_to_tensor(charseq, num_chars=len(characters)):\n",
    "    tensor = torch.zeros(len(charseq), 1, num_chars)\n",
    "    for seq_idx, char in enumerate(charseq):\n",
    "        tensor[seq_idx][0][char2int[char]] = 1\n",
    "    return tensor"
   ]
  },
  {
   "cell_type": "markdown",
   "metadata": {},
   "source": [
    "Here are the tensor inputs and outputs for the generator function we defined earlier."
   ]
  },
  {
   "cell_type": "code",
   "execution_count": 8,
   "metadata": {},
   "outputs": [
    {
     "name": "stdout",
     "output_type": "stream",
     "text": [
      "('p', '\"', '.', 'f', 'o', 'r', 'm')\n",
      "torch.Size([7, 1, 39])\n",
      "'a'\n",
      "torch.Size([1, 39])\n",
      "tensor([[0., 0., 0., 0., 0., 0., 0., 0., 0., 0., 0., 0., 0., 0., 0., 0., 0., 0.,\n",
      "         0., 0., 0., 0., 0., 0., 0., 0., 0., 0., 0., 0., 0., 0., 0., 1., 0., 0.,\n",
      "         0., 0., 0.]])\n"
     ]
    }
   ],
   "source": [
    "gen = dynamic_sliding_window_generator(file_char_seq, 7)\n",
    "\n",
    "x, y = next(gen)\n",
    "\n",
    "x_tensor = charseq_to_tensor(x)\n",
    "y_tensor = char_to_tensor(y)\n",
    "\n",
    "print(x)\n",
    "print(x_tensor.size())\n",
    "print(repr(y))\n",
    "print(y_tensor.size())\n",
    "print(y_tensor)"
   ]
  },
  {
   "cell_type": "markdown",
   "metadata": {},
   "source": [
    "## Creating the Network\n",
    "\n",
    "Time to create our recurrent neural network. We are extending the basic RNN module provided by the [char_rnn_classification_tutorial](https://pytorch.org/tutorials/intermediate/char_rnn_classification_tutorial.html) first, before moving into more complicated networks."
   ]
  },
  {
   "cell_type": "code",
   "execution_count": 9,
   "metadata": {},
   "outputs": [],
   "source": [
    "class PureRNN(nn.Module):\n",
    "    def __init__(self, input_size, hidden_size, output_size):\n",
    "        super(PureRNN, self).__init__()\n",
    "        \n",
    "        self.hidden_size = hidden_size\n",
    "        \n",
    "        self.input2hidden = nn.Linear(input_size + hidden_size, hidden_size)\n",
    "        self.input2output = nn.Linear(input_size + hidden_size, output_size)\n",
    "        self.softmax = nn.LogSoftmax(dim=1)\n",
    "    \n",
    "    def forward(self, input_val, hidden):\n",
    "        combined = torch.cat((input_val, hidden), 1)\n",
    "        hidden = self.input2hidden(combined)\n",
    "        output = self.input2output(combined)\n",
    "        output = self.softmax(output)\n",
    "        return output, hidden\n",
    "    \n",
    "    def init_hidden(self):\n",
    "        return torch.zeros(1, self.hidden_size)"
   ]
  },
  {
   "cell_type": "markdown",
   "metadata": {},
   "source": [
    "Initialize our simple recurrent neural network with values appropriate for our character predition task."
   ]
  },
  {
   "cell_type": "code",
   "execution_count": 10,
   "metadata": {},
   "outputs": [],
   "source": [
    "# hidden layer output vector size\n",
    "n_hidden = 128\n",
    "n_chars = len(characters)\n",
    "\n",
    "# Input is a single character, 128 hidden units of state, Output is a single character \n",
    "char_rnn = PureRNN(n_chars, n_hidden, n_chars)"
   ]
  },
  {
   "cell_type": "markdown",
   "metadata": {},
   "source": [
    "Before each file, we should zero out the RNN hidden state.\n",
    "\n",
    "For `PureRNN`, our starting sequence should always be the file start character."
   ]
  },
  {
   "cell_type": "code",
   "execution_count": 11,
   "metadata": {},
   "outputs": [
    {
     "name": "stdout",
     "output_type": "stream",
     "text": [
      "tensor([[-3.7392, -3.6733, -3.7736, -3.7000, -3.6438, -3.6392, -3.5870, -3.6946,\n",
      "         -3.6001, -3.6353, -3.6968, -3.6220, -3.6981, -3.5880, -3.6682, -3.7347,\n",
      "         -3.6477, -3.6484, -3.7412, -3.5783, -3.5738, -3.6427, -3.7034, -3.7628,\n",
      "         -3.6354, -3.6392, -3.7750, -3.6970, -3.6367, -3.6567, -3.6539, -3.6207,\n",
      "         -3.5814, -3.5284, -3.7684, -3.6526, -3.7074, -3.6514, -3.7546]],\n",
      "       grad_fn=<LogSoftmaxBackward>)\n",
      "tensor([[-3.7392, -3.6733, -3.7736, -3.7000, -3.6438, -3.6392, -3.5870, -3.6946,\n",
      "         -3.6001, -3.6353, -3.6968, -3.6220, -3.6981, -3.5880, -3.6682, -3.7347,\n",
      "         -3.6477, -3.6484, -3.7412, -3.5783, -3.5738, -3.6427, -3.7034, -3.7628,\n",
      "         -3.6354, -3.6392, -3.7750, -3.6970, -3.6367, -3.6567, -3.6539, -3.6207,\n",
      "         -3.5814, -3.5284, -3.7684, -3.6526, -3.7074, -3.6514, -3.7546]],\n",
      "       grad_fn=<LogSoftmaxBackward>)\n"
     ]
    }
   ],
   "source": [
    "input_val = char_to_tensor(FILE_START)\n",
    "hidden_val = char_rnn.init_hidden()\n",
    "\n",
    "output, next_hidden = char_rnn(input_val, hidden_val)\n",
    "print(output)\n",
    "\n",
    "# more efficient to make the whole file into one tensor and iterate over each character\n",
    "input_seq = charseq_to_tensor(file_char_seq)\n",
    "input_val = input_seq[0]\n",
    "hidden_val = char_rnn.init_hidden()\n",
    "\n",
    "output, next_hidden = char_rnn(input_val, hidden_val)\n",
    "print(output)"
   ]
  },
  {
   "cell_type": "markdown",
   "metadata": {},
   "source": [
    "## Preparing to Train our Model\n",
    "\n",
    "We want to evaluate the accuracy of our model in predicting the next character, it is helpful to be able to convert the network prediction back to a human readable character."
   ]
  },
  {
   "cell_type": "code",
   "execution_count": 12,
   "metadata": {},
   "outputs": [
    {
     "data": {
      "text/plain": [
       "('a', 33)"
      ]
     },
     "execution_count": 12,
     "metadata": {},
     "output_type": "execute_result"
    }
   ],
   "source": [
    "def char_from_output(output):\n",
    "    \"\"\"Covnvert network output prediction back to readable character\"\"\"\n",
    "    # return the k largest elements of the given tensor\n",
    "    top_n, top_i = output.topk(1)\n",
    "    char_index = top_i[0].item()\n",
    "    return int2char[char_index], char_index\n",
    "    \n",
    "char_from_output(output)"
   ]
  },
  {
   "cell_type": "markdown",
   "metadata": {},
   "source": [
    "Now, all we need to do is to show the network examples, have it make predictions, and let inform the network when predictions are incorrect.\n",
    "\n",
    "For the loss function, `nn.NLLLoss` is used as the last layer of the RNN is a `nn.LogSoftmax`.\n",
    "\n",
    "Different loss functions that can be used are defined in [pyTorch Loss functions](https://pytorch.org/docs/stable/nn.html#loss-functions).\n",
    "* **NLLLoss**: Negative Log Likelihood loss. [docs](https://pytorch.org/docs/stable/nn.html#nllloss)"
   ]
  },
  {
   "cell_type": "code",
   "execution_count": 13,
   "metadata": {},
   "outputs": [],
   "source": [
    "criterion = nn.NLLLoss()"
   ]
  },
  {
   "cell_type": "markdown",
   "metadata": {},
   "source": [
    "Each training loop will:\n",
    "0. Create input and target tensors\n",
    "0. Initialize a zerored hidden state\n",
    "0. Read each letter in and keep the hidden state for the next letter\n",
    "0. Compare the final output to the target\n",
    "0. Back-propagate\n",
    "0. Return the output and loss"
   ]
  },
  {
   "cell_type": "code",
   "execution_count": 14,
   "metadata": {},
   "outputs": [],
   "source": [
    "learning_rate = 0.005\n",
    "\n",
    "def train(true_output_tensor, char_sequence_tensor):\n",
    "    hidden = char_rnn.init_hidden()\n",
    "    \n",
    "    # Sets gradients of all model parameters to zero\n",
    "    char_rnn.zero_grad()\n",
    "    \n",
    "    for i in range(char_sequence_tensor.size()[0]):\n",
    "        output, hidden = char_rnn(char_sequence_tensor[i], hidden)\n",
    "\n",
    "    # diagnose datatype error\n",
    "    # import pdb; pdb.set_trace()\n",
    "\n",
    "    loss = criterion(output, true_output_tensor)\n",
    "    loss.backward()\n",
    "    \n",
    "    for p in char_rnn.parameters():\n",
    "        p.data.add_(-learning_rate, p.grad.data)\n",
    "    \n",
    "    return output, loss.item()"
   ]
  },
  {
   "cell_type": "markdown",
   "metadata": {},
   "source": [
    "## Training our Model\n",
    "\n",
    "We will now train our model. Keep track of loss for plotting."
   ]
  },
  {
   "cell_type": "code",
   "execution_count": 15,
   "metadata": {},
   "outputs": [
    {
     "name": "stdout",
     "output_type": "stream",
     "text": [
      "    0 0.00 (0m 00s) 3.6979 | ('<s>', '\"', '\"', '\"') ',' '✗ (P)'\n",
      "    1 0.33 (0m 00s) 3.6086 | (' ', 'g', 'e', 't', 'c', 'w', 'd', '\\n', '\\n', 'd', 'e', 'f', ' ', 'm', 'a', 'i', 'n', '(', ')', ':') ' ' '✗ (\\n)'\n",
      "    2 0.67 (0m 01s) 3.9701 | ('t', '(', 'i', ')', ',', ' ', 'i', ')', '\\n', ' ', ' ', ' ', ' ', 'r', 'e', 't', 'u', 'r', 'n', ' ') ' ' '✗ (F)'\n",
      "    3 1.00 (0m 02s) 3.1084 | (' ', ' ', 's', 'y', 's', '.', 's', 't', 'd', 'o', 'u', 't', '.', 'w', 'r', 'i', 't', 'e', '(', 'g') ' ' '✗ (e)'\n",
      "    4 1.33 (0m 02s) 3.1401 | ('r', 't', ' ', 's', 'y', 's', '\\n', 'f', 'r', 'o', 'm', ' ', 'o', 's', ' ', 'i', 'm', 'p', 'o', 'r') ' ' '✗ (t)'\n",
      "    5 1.67 (0m 03s) 3.2930 | ('<s>', '\"', '\"', '\"', 'P', 'r', 'e', 'd', 'i', 'c', 't', ' ', 'T', 'e') ' ' '✗ (s)'\n",
      "    6 2.00 (0m 04s) 1.9049 | ('m', 'e', '_', '_', ' ', '=', '=', ' ', '\"', '_', '_', 'm', 'a', 'i', 'n', '_', '_', '\"', ':', '\\n') ' ' '✓'\n",
      "    8 2.67 (0m 04s) 1.3041 | ('.', 'w', 'r', 'i', 't', 'e', '(', 'g', 'e', 't', 'c', 'w', 'd', '(', ')', ')', '\\n', ' ', ' ', ' ') ' ' '✓'\n",
      "    9 3.00 (0m 05s) 3.2152 | (' ', ' ', ' ', ' ', ' ', ' ', ' ', 'p', 'r', 'i', 'n', 't', '(', '\"', '{', '}', ' ', ':', ' ', 'B') ' ' '✗ (o)'\n",
      "   10 3.33 (0m 05s) 3.2658 | ('w', 'd', '\\n', '\\n', 'd', 'e', 'f', ' ', 'm', 'a', 'i', 'n', '(', ')', ':', '\\n', ' ', ' ', ' ', ' ') ' ' '✗ (s)'\n",
      "   11 3.67 (0m 06s) 4.7329 | ('m', 'a', 'i', 'n', '_', '_', '\"', ':', '\\n', ' ', ' ', ' ', ' ', 'm', 'a', 'i', 'n', '(', ')', '\\n') ' ' '✗ (<e>)'\n",
      "   12 4.00 (0m 06s) 2.8641 | ('<s>', '\"', '\"', '\"', 'P', 'r', 'e', 'd') ' ' '✗ (i)'\n",
      "   13 4.33 (0m 07s) 3.2190 | ('d', '(', ')', ')', '\\n', ' ', ' ', ' ', ' ', 'f', 'o', 'r', ' ', 'i', ' ', 'i', 'n', ' ', 'r', 'a') ' ' '✗ (n)'\n",
      "   15 5.00 (0m 08s) 1.2112 | ('e', '_', '_', ' ', '=', '=', ' ', '\"', '_', '_', 'm', 'a', 'i', 'n', '_', '_', '\"', ':', '\\n', ' ') ' ' '✓'\n",
      "   16 5.33 (0m 08s) 2.5200 | ('<s>', '\"', '\"', '\"', 'P', 'r', 'e', 'd', 'i', 'c', 't', ' ', 'T', 'e', 's') ' ' '✗ (t)'\n",
      "   17 5.67 (0m 09s) 2.9962 | ('m', 'a', 't', '(', 'i', ')', ',', ' ', 'i', ')', '\\n', ' ', ' ', ' ', ' ', 'r', 'e', 't', 'u', 'r') 'i' '✗ (n)'\n",
      "   18 6.00 (0m 10s) 0.7904 | ('_', ' ', '=', '=', ' ', '\"', '_', '_', 'm', 'a', 'i', 'n', '_', '_', '\"', ':', '\\n', ' ', ' ', ' ') ' ' '✓'\n",
      "   19 6.33 (0m 10s) 2.1769 | ('o', 'r', 't', ' ', 's', 'y', 's', '\\n', 'f', 'r', 'o', 'm', ' ', 'o', 's', ' ', 'i', 'm', 'p', 'o') 'r' '✓'\n",
      "   20 6.67 (0m 11s) 4.4236 | ('0', ')', ':', '\\n', ' ', ' ', ' ', ' ', ' ', ' ', ' ', ' ', 'p', 'r', 'i', 'n', 't', '(', '\"', '{') ' ' '✗ (})'\n",
      "   22 7.33 (0m 12s) 2.6480 | ('o', 'r', 't', ' ', 'g', 'e', 't', 'c', 'w', 'd', '\\n', '\\n', 'd', 'e', 'f', ' ', 'm', 'a', 'i', 'n') 'i' '✗ (()'\n",
      "   23 7.67 (0m 12s) 1.4777 | (')', ':', '\\n', ' ', ' ', ' ', ' ', ' ', ' ', ' ', ' ', 'p', 'r', 'i', 'n', 't', '(', '\"', '{', '}') ' ' '✓'\n",
      "   24 8.00 (0m 13s) 4.0208 | (' ', 's', 'y', 's', '\\n', 'f', 'r', 'o', 'm', ' ', 'o', 's', ' ', 'i', 'm', 'p', 'o', 'r', 't', ' ') ' ' '✗ (g)'\n",
      "   25 8.33 (0m 14s) 1.8701 | ('\"', '\\n', 'i', 'm', 'p', 'o', 'r', 't', ' ', 's', 'y', 's', '\\n', 'f', 'r', 'o', 'm', ' ', 'o', 's') ' ' '✓'\n",
      "   26 8.67 (0m 14s) 3.0315 | ('t', 'u', 'r', 'n', ' ', 'F', 'a', 'l', 's', 'e', '\\n', '\\n', 'i', 'f', ' ', '_', '_', 'n', 'a', 'm') '\\n' '✗ (e)'\n",
      "   27 9.00 (0m 15s) 2.4372 | (' ', 'i', ')', '\\n', ' ', ' ', ' ', ' ', 'r', 'e', 't', 'u', 'r', 'n', ' ', 'F', 'a', 'l', 's', 'e') '\\n' '✓'\n",
      "   29 9.67 (0m 15s) 3.0890 | ('\\n', 'f', 'r', 'o', 'm', ' ', 'o', 's', ' ', 'i', 'm', 'p', 'o', 'r', 't', ' ', 'g', 'e', 't', 'c') 'r' '✗ (w)'\n",
      "   30 10.00 (0m 16s) 3.2536 | ('\"', '.', 'f', 'o', 'r', 'm', 'a', 't', '(', 'i', ')', ',', ' ', 'i', ')', '\\n', ' ', ' ', ' ', ' ') ' ' '✗ (r)'\n",
      "   31 10.33 (0m 17s) 2.6090 | ('w', 'd', '\\n', '\\n', 'd', 'e', 'f', ' ', 'm', 'a', 'i', 'n', '(', ')', ':', '\\n', ' ', ' ', ' ', ' ') ' ' '✗ (s)'\n",
      "   32 10.67 (0m 17s) 2.5806 | ('w', 'd', '(', ')', ')', '\\n', ' ', ' ', ' ', ' ', 'f', 'o', 'r', ' ', 'i', ' ', 'i', 'n', ' ', 'r') 'r' '✗ (a)'\n",
      "   33 11.00 (0m 18s) 2.3662 | ('i', 'c', 't', ' ', 'T', 'e', 's', 't', '\"', '\"', '\"', '\\n', 'i', 'm', 'p', 'o', 'r', 't', ' ', 's') 'e' '✗ (y)'\n",
      "   34 11.33 (0m 19s) 4.0657 | ('\\n', ' ', ' ', ' ', ' ', 'r', 'e', 't', 'u', 'r', 'n', ' ', 'F', 'a', 'l', 's', 'e', '\\n', '\\n', 'i') ' ' '✗ (f)'\n",
      "   36 12.00 (0m 19s) 2.6070 | (' ', ':', ' ', 'B', 'o', 'o', 'p', '\"', '.', 'f', 'o', 'r', 'm', 'a', 't', '(', 'i', ')', ',', ' ') ' ' '✗ (i)'\n",
      "   37 12.33 (0m 20s) 1.0648 | ('f', 'r', 'o', 'm', ' ', 'o', 's', ' ', 'i', 'm', 'p', 'o', 'r', 't', ' ', 'g', 'e', 't', 'c', 'w') 'd' '✓'\n",
      "   38 12.67 (0m 21s) 2.6601 | ('\\n', ' ', ' ', ' ', ' ', ' ', ' ', ' ', ' ', 'p', 'r', 'i', 'n', 't', '(', '\"', '{', '}', ' ', ':') 'e' '✗ ( )'\n",
      "   39 13.00 (0m 21s) 2.3798 | ('t', ' ', 'T', 'e', 's', 't', '\"', '\"', '\"', '\\n', 'i', 'm', 'p', 'o', 'r', 't', ' ', 's', 'y', 's') 'o' '✗ (\\n)'\n",
      "   40 13.33 (0m 22s) 0.7208 | ('r', 't', ' ', 'g', 'e', 't', 'c', 'w', 'd', '\\n', '\\n', 'd', 'e', 'f', ' ', 'm', 'a', 'i', 'n', '(') ')' '✓'\n",
      "   41 13.67 (0m 23s) 1.9222 | ('d', '(', ')', ')', '\\n', ' ', ' ', ' ', ' ', 'f', 'o', 'r', ' ', 'i', ' ', 'i', 'n', ' ', 'r', 'a') 'i' '✗ (n)'\n",
      "   43 14.33 (0m 23s) 0.5651 | ('(', '0', ',', ' ', '1', '0', ')', ':', '\\n', ' ', ' ', ' ', ' ', ' ', ' ', ' ', ' ', 'p', 'r', 'i') 'n' '✓'\n",
      "   44 14.67 (0m 24s) 1.0813 | (' ', ' ', ' ', ' ', 'f', 'o', 'r', ' ', 'i', ' ', 'i', 'n', ' ', 'r', 'a', 'n', 'g', 'e', '(', '0') ',' '✓'\n",
      "   45 15.00 (0m 24s) 2.6353 | ('(', '\"', '{', '}', ' ', ':', ' ', 'B', 'o', 'o', 'p', '\"', '.', 'f', 'o', 'r', 'm', 'a', 't', '(') 't' '✗ (i)'\n",
      "   46 15.33 (0m 25s) 1.1499 | ('\\n', '\\n', 'd', 'e', 'f', ' ', 'm', 'a', 'i', 'n', '(', ')', ':', '\\n', ' ', ' ', ' ', ' ', 's', 'y') 'r' '✗ (s)'\n",
      "   47 15.67 (0m 26s) 0.3002 | ('r', 't', ' ', 's', 'y', 's', '\\n', 'f', 'r', 'o', 'm', ' ', 'o', 's', ' ', 'i', 'm', 'p', 'o', 'r') 't' '✓'\n",
      "   48 16.00 (0m 26s) 0.7245 | ('m', 'p', 'o', 'r', 't', ' ', 's', 'y', 's', '\\n', 'f', 'r', 'o', 'm', ' ', 'o', 's', ' ', 'i', 'm') 'p' '✓'\n",
      "   50 16.67 (0m 27s) 2.0134 | (')', '\\n', ' ', ' ', ' ', ' ', 'r', 'e', 't', 'u', 'r', 'n', ' ', 'F', 'a', 'l', 's', 'e', '\\n', '\\n') '\\n' '✗ (i)'\n",
      "   51 17.00 (0m 28s) 1.7707 | ('<s>', '\"', '\"', '\"', 'P', 'r', 'e', 'd') 'i' '✓'\n",
      "   52 17.33 (0m 28s) 0.9714 | ('i', 'f', ' ', '_', '_', 'n', 'a', 'm', 'e', '_', '_', ' ', '=', '=', ' ', '\"', '_', '_', 'm', 'a') 'i' '✓'\n",
      "   53 17.67 (0m 29s) 0.2314 | (' ', '\"', '_', '_', 'm', 'a', 'i', 'n', '_', '_', '\"', ':', '\\n', ' ', ' ', ' ', ' ', 'm', 'a', 'i') 'n' '✓'\n",
      "   54 18.00 (0m 30s) 3.2319 | (':', '\\n', ' ', ' ', ' ', ' ', ' ', ' ', ' ', ' ', 'p', 'r', 'i', 'n', 't', '(', '\"', '{', '}', ' ') ',' '✗ (:)'\n",
      "   55 18.33 (0m 30s) 0.6281 | ('f', ' ', 'm', 'a', 'i', 'n', '(', ')', ':', '\\n', ' ', ' ', ' ', ' ', 's', 'y', 's', '.', 's', 't') 'd' '✓'\n",
      "   57 19.00 (0m 31s) 0.6796 | (')', '\\n', ' ', ' ', ' ', ' ', 'f', 'o', 'r', ' ', 'i', ' ', 'i', 'n', ' ', 'r', 'a', 'n', 'g', 'e') '(' '✓'\n",
      "   58 19.33 (0m 32s) 1.2320 | (',', ' ', '1', '0', ')', ':', '\\n', ' ', ' ', ' ', ' ', ' ', ' ', ' ', ' ', 'p', 'r', 'i', 'n', 't') '(' '✓'\n",
      "   59 19.67 (0m 32s) 0.5013 | ('\"', '\"', '\"', 'P', 'r', 'e', 'd', 'i', 'c', 't', ' ', 'T', 'e', 's', 't', '\"', '\"', '\"', '\\n', 'i') 'm' '✓'\n",
      "   60 20.00 (0m 33s) 1.5476 | ('<s>', '\"', '\"', '\"', 'P', 'r') 'e' '✓'\n",
      "   61 20.33 (0m 34s) 0.0176 | ('i', ' ', 'i', 'n', ' ', 'r', 'a', 'n', 'g', 'e', '(', '0', ',', ' ', '1', '0', ')', ':', '\\n', ' ') ' ' '✓'\n",
      "   62 20.67 (0m 34s) 0.8104 | ('(', '0', ',', ' ', '1', '0', ')', ':', '\\n', ' ', ' ', ' ', ' ', ' ', ' ', ' ', ' ', 'p', 'r', 'i') 'n' '✓'\n",
      "   64 21.33 (0m 35s) 0.2533 | ('\"', 'P', 'r', 'e', 'd', 'i', 'c', 't', ' ', 'T', 'e', 's', 't', '\"', '\"', '\"', '\\n', 'i', 'm', 'p') 'o' '✓'\n",
      "   65 21.67 (0m 36s) 0.0861 | (' ', ' ', 'p', 'r', 'i', 'n', 't', '(', '\"', '{', '}', ' ', ':', ' ', 'B', 'o', 'o', 'p', '\"', '.') 'f' '✓'\n",
      "   66 22.00 (0m 36s) 0.0987 | ('p', 'o', 'r', 't', ' ', 'g', 'e', 't', 'c', 'w', 'd', '\\n', '\\n', 'd', 'e', 'f', ' ', 'm', 'a', 'i') 'n' '✓'\n",
      "   67 22.33 (0m 37s) 1.1611 | ('r', 't', ' ', 's', 'y', 's', '\\n', 'f', 'r', 'o', 'm', ' ', 'o', 's', ' ', 'i', 'm', 'p', 'o', 'r') 'm' '✗ (t)'\n",
      "   68 22.67 (0m 37s) 0.5515 | (' ', ' ', 's', 'y', 's', '.', 's', 't', 'd', 'o', 'u', 't', '.', 'w', 'r', 'i', 't', 'e', '(', 'g') 'e' '✓'\n"
     ]
    },
    {
     "name": "stdout",
     "output_type": "stream",
     "text": [
      "   69 23.00 (0m 38s) 0.5782 | ('e', 's', 't', '\"', '\"', '\"', '\\n', 'i', 'm', 'p', 'o', 'r', 't', ' ', 's', 'y', 's', '\\n', 'f', 'r') 'o' '✓'\n",
      "   70 23.33 (0m 39s) 0.2597 | ('w', 'd', '(', ')', ')', '\\n', ' ', ' ', ' ', ' ', 'f', 'o', 'r', ' ', 'i', ' ', 'i', 'n', ' ', 'r') 'a' '✓'\n",
      "   72 24.00 (0m 39s) 0.0874 | ('_', '_', 'm', 'a', 'i', 'n', '_', '_', '\"', ':', '\\n', ' ', ' ', ' ', ' ', 'm', 'a', 'i', 'n', '(') ')' '✓'\n",
      "   73 24.33 (0m 40s) 0.1813 | ('\\n', 'i', 'f', ' ', '_', '_', 'n', 'a', 'm', 'e', '_', '_', ' ', '=', '=', ' ', '\"', '_', '_', 'm') 'a' '✓'\n",
      "   74 24.67 (0m 41s) 0.2137 | (' ', 'F', 'a', 'l', 's', 'e', '\\n', '\\n', 'i', 'f', ' ', '_', '_', 'n', 'a', 'm', 'e', '_', '_', ' ') '=' '✓'\n",
      "   75 25.00 (0m 41s) 0.4144 | ('<s>', '\"', '\"', '\"', 'P', 'r', 'e', 'd', 'i', 'c', 't', ' ', 'T', 'e') 's' '✓'\n",
      "   76 25.33 (0m 42s) 0.3974 | (' ', ' ', ' ', ' ', 's', 'y', 's', '.', 's', 't', 'd', 'o', 'u', 't', '.', 'w', 'r', 'i', 't', 'e') '(' '✓'\n",
      "   77 25.67 (0m 43s) 0.1784 | (' ', 'i', 'n', ' ', 'r', 'a', 'n', 'g', 'e', '(', '0', ',', ' ', '1', '0', ')', ':', '\\n', ' ', ' ') ' ' '✓'\n",
      "   79 26.33 (0m 43s) 1.8411 | ('t', 'e', '(', 'g', 'e', 't', 'c', 'w', 'd', '(', ')', ')', '\\n', ' ', ' ', ' ', ' ', 'f', 'o', 'r') 'm' '✗ ( )'\n",
      "   80 26.67 (0m 44s) 0.8814 | ('<s>', '\"', '\"', '\"', 'P', 'r', 'e', 'd', 'i', 'c', 't', ' ', 'T') 'e' '✓'\n",
      "   81 27.00 (0m 45s) 0.3038 | ('d', 'o', 'u', 't', '.', 'w', 'r', 'i', 't', 'e', '(', 'g', 'e', 't', 'c', 'w', 'd', '(', ')', ')') '\\n' '✓'\n",
      "   82 27.33 (0m 45s) 0.1805 | ('m', 'p', 'o', 'r', 't', ' ', 's', 'y', 's', '\\n', 'f', 'r', 'o', 'm', ' ', 'o', 's', ' ', 'i', 'm') 'p' '✓'\n",
      "   83 27.67 (0m 46s) 0.0733 | ('d', 'i', 'c', 't', ' ', 'T', 'e', 's', 't', '\"', '\"', '\"', '\\n', 'i', 'm', 'p', 'o', 'r', 't', ' ') 's' '✓'\n",
      "   84 28.00 (0m 47s) 0.2162 | ('\\n', '\\n', 'i', 'f', ' ', '_', '_', 'n', 'a', 'm', 'e', '_', '_', ' ', '=', '=', ' ', '\"', '_', '_') 'm' '✓'\n",
      "   86 28.67 (0m 47s) 0.0201 | ('F', 'a', 'l', 's', 'e', '\\n', '\\n', 'i', 'f', ' ', '_', '_', 'n', 'a', 'm', 'e', '_', '_', ' ', '=') '=' '✓'\n",
      "   87 29.00 (0m 48s) 0.8623 | ('\\n', 'd', 'e', 'f', ' ', 'm', 'a', 'i', 'n', '(', ')', ':', '\\n', ' ', ' ', ' ', ' ', 's', 'y', 's') ' ' '✗ (.)'\n",
      "   88 29.33 (0m 49s) 0.0405 | ('<s>', '\"', '\"', '\"', 'P', 'r', 'e', 'd', 'i', 'c', 't', ' ', 'T', 'e', 's', 't', '\"') '\"' '✓'\n",
      "   89 29.67 (0m 49s) 0.3947 | ('m', 'p', 'o', 'r', 't', ' ', 's', 'y', 's', '\\n', 'f', 'r', 'o', 'm', ' ', 'o', 's', ' ', 'i', 'm') 'p' '✓'\n",
      "   90 30.00 (0m 50s) 0.2367 | ('i', ')', '\\n', ' ', ' ', ' ', ' ', 'r', 'e', 't', 'u', 'r', 'n', ' ', 'F', 'a', 'l', 's', 'e', '\\n') '\\n' '✓'\n",
      "   91 30.33 (0m 51s) 0.6098 | ('a', 'n', 'g', 'e', '(', '0', ',', ' ', '1', '0', ')', ':', '\\n', ' ', ' ', ' ', ' ', ' ', ' ', ' ') ' ' '✓'\n",
      "   93 31.00 (0m 51s) 0.0697 | (' ', 'f', 'o', 'r', ' ', 'i', ' ', 'i', 'n', ' ', 'r', 'a', 'n', 'g', 'e', '(', '0', ',', ' ', '1') '0' '✓'\n",
      "   94 31.33 (0m 52s) 0.1586 | ('a', 'l', 's', 'e', '\\n', '\\n', 'i', 'f', ' ', '_', '_', 'n', 'a', 'm', 'e', '_', '_', ' ', '=', '=') ' ' '✓'\n",
      "   95 31.67 (0m 53s) 0.2417 | (' ', 'F', 'a', 'l', 's', 'e', '\\n', '\\n', 'i', 'f', ' ', '_', '_', 'n', 'a', 'm', 'e', '_', '_', ' ') '=' '✓'\n",
      "   96 32.00 (0m 53s) 0.0234 | ('o', 'u', 't', '.', 'w', 'r', 'i', 't', 'e', '(', 'g', 'e', 't', 'c', 'w', 'd', '(', ')', ')', '\\n') ' ' '✓'\n",
      "   97 32.33 (0m 54s) 0.0416 | ('e', '(', '0', ',', ' ', '1', '0', ')', ':', '\\n', ' ', ' ', ' ', ' ', ' ', ' ', ' ', ' ', 'p', 'r') 'i' '✓'\n",
      "   98 32.67 (0m 54s) 0.2003 | ('e', '\\n', '\\n', 'i', 'f', ' ', '_', '_', 'n', 'a', 'm', 'e', '_', '_', ' ', '=', '=', ' ', '\"', '_') '_' '✓'\n",
      "  100 33.33 (0m 55s) 0.6012 | ('y', 's', '\\n', 'f', 'r', 'o', 'm', ' ', 'o', 's', ' ', 'i', 'm', 'p', 'o', 'r', 't', ' ', 'g', 'e') 't' '✓'\n",
      "  101 33.67 (0m 56s) 0.2498 | ('n', 't', '(', '\"', '{', '}', ' ', ':', ' ', 'B', 'o', 'o', 'p', '\"', '.', 'f', 'o', 'r', 'm', 'a') 't' '✓'\n",
      "  102 34.00 (0m 56s) 0.0757 | ('_', 'm', 'a', 'i', 'n', '_', '_', '\"', ':', '\\n', ' ', ' ', ' ', ' ', 'm', 'a', 'i', 'n', '(', ')') '\\n' '✓'\n",
      "  103 34.33 (0m 57s) 0.0571 | ('s', '.', 's', 't', 'd', 'o', 'u', 't', '.', 'w', 'r', 'i', 't', 'e', '(', 'g', 'e', 't', 'c', 'w') 'd' '✓'\n",
      "  104 34.67 (0m 58s) 1.0017 | ('r', 'e', 'd', 'i', 'c', 't', ' ', 'T', 'e', 's', 't', '\"', '\"', '\"', '\\n', 'i', 'm', 'p', 'o', 'r') 't' '✓'\n",
      "  105 35.00 (0m 58s) 0.0838 | ('s', '.', 's', 't', 'd', 'o', 'u', 't', '.', 'w', 'r', 'i', 't', 'e', '(', 'g', 'e', 't', 'c', 'w') 'd' '✓'\n",
      "  107 35.67 (0m 59s) 0.0079 | ('\"', '\"', '\"', '\\n', 'i', 'm', 'p', 'o', 'r', 't', ' ', 's', 'y', 's', '\\n', 'f', 'r', 'o', 'm', ' ') 'o' '✓'\n",
      "  108 36.00 (1m 00s) 0.0808 | ('d', '\\n', '\\n', 'd', 'e', 'f', ' ', 'm', 'a', 'i', 'n', '(', ')', ':', '\\n', ' ', ' ', ' ', ' ', 's') 'y' '✓'\n",
      "  109 36.33 (1m 00s) 0.0304 | ('o', 'm', ' ', 'o', 's', ' ', 'i', 'm', 'p', 'o', 'r', 't', ' ', 'g', 'e', 't', 'c', 'w', 'd', '\\n') '\\n' '✓'\n",
      "  110 36.67 (1m 01s) 0.0093 | ('i', ' ', 'i', 'n', ' ', 'r', 'a', 'n', 'g', 'e', '(', '0', ',', ' ', '1', '0', ')', ':', '\\n', ' ') ' ' '✓'\n",
      "  111 37.00 (1m 02s) 0.2069 | ('(', 'g', 'e', 't', 'c', 'w', 'd', '(', ')', ')', '\\n', ' ', ' ', ' ', ' ', 'f', 'o', 'r', ' ', 'i') ' ' '✓'\n",
      "  112 37.33 (1m 02s) 0.0059 | ('m', 'p', 'o', 'r', 't', ' ', 's', 'y', 's', '\\n', 'f', 'r', 'o', 'm', ' ', 'o', 's', ' ', 'i', 'm') 'p' '✓'\n",
      "  114 38.00 (1m 03s) 0.0007 | ('\"', '\"', '\\n', 'i', 'm', 'p', 'o', 'r', 't', ' ', 's', 'y', 's', '\\n', 'f', 'r', 'o', 'm', ' ', 'o') 's' '✓'\n",
      "  115 38.33 (1m 04s) 0.0023 | ('.', 'f', 'o', 'r', 'm', 'a', 't', '(', 'i', ')', ',', ' ', 'i', ')', '\\n', ' ', ' ', ' ', ' ', 'r') 'e' '✓'\n",
      "  116 38.67 (1m 04s) 0.0066 | (' ', ' ', ' ', ' ', ' ', ' ', ' ', 'p', 'r', 'i', 'n', 't', '(', '\"', '{', '}', ' ', ':', ' ', 'B') 'o' '✓'\n",
      "  117 39.00 (1m 05s) 0.0010 | (' ', ' ', ' ', 'f', 'o', 'r', ' ', 'i', ' ', 'i', 'n', ' ', 'r', 'a', 'n', 'g', 'e', '(', '0', ',') ' ' '✓'\n",
      "  118 39.33 (1m 06s) 0.0004 | ('<s>', '\"', '\"', '\"', 'P', 'r', 'e', 'd', 'i', 'c', 't', ' ', 'T', 'e', 's', 't', '\"', '\"', '\"', '\\n') 'i' '✓'\n",
      "  119 39.67 (1m 06s) 0.0017 | ('r', 'o', 'm', ' ', 'o', 's', ' ', 'i', 'm', 'p', 'o', 'r', 't', ' ', 'g', 'e', 't', 'c', 'w', 'd') '\\n' '✓'\n",
      "  121 40.33 (1m 07s) 0.0056 | ('0', ',', ' ', '1', '0', ')', ':', '\\n', ' ', ' ', ' ', ' ', ' ', ' ', ' ', ' ', 'p', 'r', 'i', 'n') 't' '✓'\n",
      "  122 40.67 (1m 08s) 0.0011 | ('_', '_', 'm', 'a', 'i', 'n', '_', '_', '\"', ':', '\\n', ' ', ' ', ' ', ' ', 'm', 'a', 'i', 'n', '(') ')' '✓'\n",
      "  123 41.00 (1m 08s) 0.0293 | ('<s>', '\"', '\"', '\"', 'P', 'r') 'e' '✓'\n",
      "  124 41.33 (1m 09s) 0.0002 | ('o', 'm', ' ', 'o', 's', ' ', 'i', 'm', 'p', 'o', 'r', 't', ' ', 'g', 'e', 't', 'c', 'w', 'd', '\\n') '\\n' '✓'\n",
      "  125 41.67 (1m 10s) 0.0090 | ('<s>', '\"', '\"', '\"', 'P', 'r', 'e', 'd', 'i', 'c', 't', ' ') 'T' '✓'\n",
      "  126 42.00 (1m 10s) 0.0027 | ('w', 'd', '(', ')', ')', '\\n', ' ', ' ', ' ', ' ', 'f', 'o', 'r', ' ', 'i', ' ', 'i', 'n', ' ', 'r') 'a' '✓'\n",
      "  128 42.67 (1m 11s) 0.0014 | ('c', 't', ' ', 'T', 'e', 's', 't', '\"', '\"', '\"', '\\n', 'i', 'm', 'p', 'o', 'r', 't', ' ', 's', 'y') 's' '✓'\n",
      "  129 43.00 (1m 12s) 0.0006 | ('i', 'n', '(', ')', ':', '\\n', ' ', ' ', ' ', ' ', 's', 'y', 's', '.', 's', 't', 'd', 'o', 'u', 't') '.' '✓'\n",
      "  130 43.33 (1m 12s) 0.0021 | (' ', 's', 'y', 's', '\\n', 'f', 'r', 'o', 'm', ' ', 'o', 's', ' ', 'i', 'm', 'p', 'o', 'r', 't', ' ') 'g' '✓'\n",
      "  131 43.67 (1m 13s) 0.0008 | (' ', ' ', ' ', ' ', ' ', ' ', ' ', 'p', 'r', 'i', 'n', 't', '(', '\"', '{', '}', ' ', ':', ' ', 'B') 'o' '✓'\n",
      "  132 44.00 (1m 14s) 0.0024 | ('t', '(', 'i', ')', ',', ' ', 'i', ')', '\\n', ' ', ' ', ' ', ' ', 'r', 'e', 't', 'u', 'r', 'n', ' ') 'F' '✓'\n",
      "  133 44.33 (1m 14s) 0.0033 | ('o', 'r', 't', ' ', 'g', 'e', 't', 'c', 'w', 'd', '\\n', '\\n', 'd', 'e', 'f', ' ', 'm', 'a', 'i', 'n') '(' '✓'\n",
      "  134 44.67 (1m 15s) 0.0047 | ('B', 'o', 'o', 'p', '\"', '.', 'f', 'o', 'r', 'm', 'a', 't', '(', 'i', ')', ',', ' ', 'i', ')', '\\n') ' ' '✓'\n",
      "  136 45.33 (1m 16s) 0.0017 | ('\\n', 'd', 'e', 'f', ' ', 'm', 'a', 'i', 'n', '(', ')', ':', '\\n', ' ', ' ', ' ', ' ', 's', 'y', 's') '.' '✓'\n",
      "  137 45.67 (1m 16s) 0.0008 | ('r', 't', ' ', 'g', 'e', 't', 'c', 'w', 'd', '\\n', '\\n', 'd', 'e', 'f', ' ', 'm', 'a', 'i', 'n', '(') ')' '✓'\n",
      "  138 46.00 (1m 17s) 0.0048 | ('<s>', '\"', '\"', '\"', 'P', 'r', 'e', 'd', 'i', 'c', 't', ' ', 'T') 'e' '✓'\n"
     ]
    },
    {
     "name": "stdout",
     "output_type": "stream",
     "text": [
      "  139 46.33 (1m 18s) 0.0006 | (' ', ' ', ' ', 'r', 'e', 't', 'u', 'r', 'n', ' ', 'F', 'a', 'l', 's', 'e', '\\n', '\\n', 'i', 'f', ' ') '_' '✓'\n",
      "  140 46.67 (1m 18s) 0.0000 | ('a', 't', '(', 'i', ')', ',', ' ', 'i', ')', '\\n', ' ', ' ', ' ', ' ', 'r', 'e', 't', 'u', 'r', 'n') ' ' '✓'\n",
      "  141 47.00 (1m 19s) 0.0002 | ('w', 'r', 'i', 't', 'e', '(', 'g', 'e', 't', 'c', 'w', 'd', '(', ')', ')', '\\n', ' ', ' ', ' ', ' ') 'f' '✓'\n",
      "  143 47.67 (1m 20s) 0.0018 | ('0', ')', ':', '\\n', ' ', ' ', ' ', ' ', ' ', ' ', ' ', ' ', 'p', 'r', 'i', 'n', 't', '(', '\"', '{') '}' '✓'\n",
      "  144 48.00 (1m 20s) 0.0005 | ('y', 's', '\\n', 'f', 'r', 'o', 'm', ' ', 'o', 's', ' ', 'i', 'm', 'p', 'o', 'r', 't', ' ', 'g', 'e') 't' '✓'\n",
      "  145 48.33 (1m 21s) 0.0012 | (' ', 's', 'y', 's', '\\n', 'f', 'r', 'o', 'm', ' ', 'o', 's', ' ', 'i', 'm', 'p', 'o', 'r', 't', ' ') 'g' '✓'\n",
      "  146 48.67 (1m 22s) 0.0005 | (' ', 'i', ')', '\\n', ' ', ' ', ' ', ' ', 'r', 'e', 't', 'u', 'r', 'n', ' ', 'F', 'a', 'l', 's', 'e') '\\n' '✓'\n",
      "  147 49.00 (1m 22s) 0.0015 | ('f', ' ', '_', '_', 'n', 'a', 'm', 'e', '_', '_', ' ', '=', '=', ' ', '\"', '_', '_', 'm', 'a', 'i') 'n' '✓'\n",
      "  148 49.33 (1m 23s) 0.0017 | (',', ' ', 'i', ')', '\\n', ' ', ' ', ' ', ' ', 'r', 'e', 't', 'u', 'r', 'n', ' ', 'F', 'a', 'l', 's') 'e' '✓'\n",
      "  150 50.00 (1m 24s) 0.1516 | ('<s>', '\"') '\"' '✓'\n",
      "  151 50.33 (1m 24s) 0.0003 | ('\\n', '\\n', 'i', 'f', ' ', '_', '_', 'n', 'a', 'm', 'e', '_', '_', ' ', '=', '=', ' ', '\"', '_', '_') 'm' '✓'\n",
      "  152 50.67 (1m 25s) 0.0002 | ('_', '_', 'm', 'a', 'i', 'n', '_', '_', '\"', ':', '\\n', ' ', ' ', ' ', ' ', 'm', 'a', 'i', 'n', '(') ')' '✓'\n",
      "  153 51.00 (1m 26s) 0.0005 | ('d', 'o', 'u', 't', '.', 'w', 'r', 'i', 't', 'e', '(', 'g', 'e', 't', 'c', 'w', 'd', '(', ')', ')') '\\n' '✓'\n",
      "  154 51.33 (1m 26s) 0.0020 | ('o', 'o', 'p', '\"', '.', 'f', 'o', 'r', 'm', 'a', 't', '(', 'i', ')', ',', ' ', 'i', ')', '\\n', ' ') ' ' '✓'\n",
      "  155 51.67 (1m 27s) 0.0001 | ('<s>', '\"', '\"', '\"', 'P', 'r', 'e', 'd', 'i', 'c', 't', ' ', 'T', 'e', 's', 't', '\"', '\"', '\"', '\\n') 'i' '✓'\n",
      "  157 52.33 (1m 27s) 0.0003 | ('f', 'o', 'r', 'm', 'a', 't', '(', 'i', ')', ',', ' ', 'i', ')', '\\n', ' ', ' ', ' ', ' ', 'r', 'e') 't' '✓'\n",
      "  158 52.67 (1m 28s) 0.0012 | (' ', ' ', ' ', ' ', ' ', 'p', 'r', 'i', 'n', 't', '(', '\"', '{', '}', ' ', ':', ' ', 'B', 'o', 'o') 'p' '✓'\n",
      "  159 53.00 (1m 29s) 0.0014 | ('e', '\\n', '\\n', 'i', 'f', ' ', '_', '_', 'n', 'a', 'm', 'e', '_', '_', ' ', '=', '=', ' ', '\"', '_') '_' '✓'\n",
      "  160 53.33 (1m 29s) 0.0009 | ('o', 's', ' ', 'i', 'm', 'p', 'o', 'r', 't', ' ', 'g', 'e', 't', 'c', 'w', 'd', '\\n', '\\n', 'd', 'e') 'f' '✓'\n",
      "  161 53.67 (1m 30s) 0.0006 | (' ', 'i', ' ', 'i', 'n', ' ', 'r', 'a', 'n', 'g', 'e', '(', '0', ',', ' ', '1', '0', ')', ':', '\\n') ' ' '✓'\n",
      "  162 54.00 (1m 31s) 0.0014 | ('\\n', ' ', ' ', ' ', ' ', 'f', 'o', 'r', ' ', 'i', ' ', 'i', 'n', ' ', 'r', 'a', 'n', 'g', 'e', '(') '0' '✓'\n",
      "  164 54.67 (1m 31s) 0.0011 | ('p', 'o', 'r', 't', ' ', 'g', 'e', 't', 'c', 'w', 'd', '\\n', '\\n', 'd', 'e', 'f', ' ', 'm', 'a', 'i') 'n' '✓'\n",
      "  165 55.00 (1m 32s) 0.0003 | ('s', 'y', 's', '\\n', 'f', 'r', 'o', 'm', ' ', 'o', 's', ' ', 'i', 'm', 'p', 'o', 'r', 't', ' ', 'g') 'e' '✓'\n",
      "  166 55.33 (1m 33s) 0.0001 | (' ', ' ', ' ', ' ', 's', 'y', 's', '.', 's', 't', 'd', 'o', 'u', 't', '.', 'w', 'r', 'i', 't', 'e') '(' '✓'\n",
      "  167 55.67 (1m 33s) 0.0001 | ('r', ' ', 'i', ' ', 'i', 'n', ' ', 'r', 'a', 'n', 'g', 'e', '(', '0', ',', ' ', '1', '0', ')', ':') '\\n' '✓'\n",
      "  168 56.00 (1m 34s) 0.0008 | ('a', 'm', 'e', '_', '_', ' ', '=', '=', ' ', '\"', '_', '_', 'm', 'a', 'i', 'n', '_', '_', '\"', ':') '\\n' '✓'\n",
      "  169 56.33 (1m 35s) 0.0001 | (' ', 'f', 'o', 'r', ' ', 'i', ' ', 'i', 'n', ' ', 'r', 'a', 'n', 'g', 'e', '(', '0', ',', ' ', '1') '0' '✓'\n",
      "  171 57.00 (1m 35s) 0.0029 | ('<s>', '\"', '\"', '\"', 'P', 'r', 'e', 'd') 'i' '✓'\n",
      "  172 57.33 (1m 36s) 0.0017 | ('d', '(', ')', ')', '\\n', ' ', ' ', ' ', ' ', 'f', 'o', 'r', ' ', 'i', ' ', 'i', 'n', ' ', 'r', 'a') 'n' '✓'\n",
      "  173 57.67 (1m 37s) 0.0011 | ('o', 'o', 'p', '\"', '.', 'f', 'o', 'r', 'm', 'a', 't', '(', 'i', ')', ',', ' ', 'i', ')', '\\n', ' ') ' ' '✓'\n",
      "  174 58.00 (1m 37s) 0.0011 | ('o', 'o', 'p', '\"', '.', 'f', 'o', 'r', 'm', 'a', 't', '(', 'i', ')', ',', ' ', 'i', ')', '\\n', ' ') ' ' '✓'\n",
      "  175 58.33 (1m 38s) 0.0008 | ('d', '\\n', '\\n', 'd', 'e', 'f', ' ', 'm', 'a', 'i', 'n', '(', ')', ':', '\\n', ' ', ' ', ' ', ' ', 's') 'y' '✓'\n",
      "  176 58.67 (1m 39s) 0.0003 | ('\"', '_', '_', 'm', 'a', 'i', 'n', '_', '_', '\"', ':', '\\n', ' ', ' ', ' ', ' ', 'm', 'a', 'i', 'n') '(' '✓'\n",
      "  178 59.33 (1m 39s) 0.0010 | ('<s>', '\"', '\"', '\"', 'P', 'r', 'e', 'd', 'i', 'c', 't', ' ', 'T', 'e') 's' '✓'\n",
      "  179 59.67 (1m 40s) 0.0009 | ('\\n', 'i', 'm', 'p', 'o', 'r', 't', ' ', 's', 'y', 's', '\\n', 'f', 'r', 'o', 'm', ' ', 'o', 's', ' ') 'i' '✓'\n",
      "  180 60.00 (1m 41s) 0.0000 | (' ', 's', 'y', 's', '.', 's', 't', 'd', 'o', 'u', 't', '.', 'w', 'r', 'i', 't', 'e', '(', 'g', 'e') 't' '✓'\n",
      "  181 60.33 (1m 41s) 0.0003 | ('t', '\"', '\"', '\"', '\\n', 'i', 'm', 'p', 'o', 'r', 't', ' ', 's', 'y', 's', '\\n', 'f', 'r', 'o', 'm') ' ' '✓'\n",
      "  182 60.67 (1m 42s) 0.0003 | ('y', 's', '\\n', 'f', 'r', 'o', 'm', ' ', 'o', 's', ' ', 'i', 'm', 'p', 'o', 'r', 't', ' ', 'g', 'e') 't' '✓'\n",
      "  183 61.00 (1m 43s) 0.0005 | ('<s>', '\"', '\"', '\"', 'P', 'r', 'e', 'd', 'i', 'c', 't') ' ' '✓'\n",
      "  185 61.67 (1m 43s) 0.0003 | ('{', '}', ' ', ':', ' ', 'B', 'o', 'o', 'p', '\"', '.', 'f', 'o', 'r', 'm', 'a', 't', '(', 'i', ')') ',' '✓'\n",
      "  186 62.00 (1m 44s) 0.0002 | (' ', 'i', ')', '\\n', ' ', ' ', ' ', ' ', 'r', 'e', 't', 'u', 'r', 'n', ' ', 'F', 'a', 'l', 's', 'e') '\\n' '✓'\n",
      "  187 62.33 (1m 45s) 0.0311 | ('<s>', '\"', '\"') '\"' '✓'\n",
      "  188 62.67 (1m 45s) 0.0001 | (' ', ' ', 'p', 'r', 'i', 'n', 't', '(', '\"', '{', '}', ' ', ':', ' ', 'B', 'o', 'o', 'p', '\"', '.') 'f' '✓'\n",
      "  189 63.00 (1m 46s) 0.0004 | ('t', '\"', '\"', '\"', '\\n', 'i', 'm', 'p', 'o', 'r', 't', ' ', 's', 'y', 's', '\\n', 'f', 'r', 'o', 'm') ' ' '✓'\n",
      "  190 63.33 (1m 46s) 0.0000 | ('o', 'p', '\"', '.', 'f', 'o', 'r', 'm', 'a', 't', '(', 'i', ')', ',', ' ', 'i', ')', '\\n', ' ', ' ') ' ' '✓'\n",
      "  192 64.00 (1m 47s) 0.0001 | ('(', 'i', ')', ',', ' ', 'i', ')', '\\n', ' ', ' ', ' ', ' ', 'r', 'e', 't', 'u', 'r', 'n', ' ', 'F') 'a' '✓'\n",
      "  193 64.33 (1m 48s) 0.0005 | ('o', 'r', 't', ' ', 's', 'y', 's', '\\n', 'f', 'r', 'o', 'm', ' ', 'o', 's', ' ', 'i', 'm', 'p', 'o') 'r' '✓'\n",
      "  194 64.67 (1m 48s) 0.0003 | (' ', '_', '_', 'n', 'a', 'm', 'e', '_', '_', ' ', '=', '=', ' ', '\"', '_', '_', 'm', 'a', 'i', 'n') '_' '✓'\n",
      "  195 65.00 (1m 49s) 0.0000 | ('_', '_', 'n', 'a', 'm', 'e', '_', '_', ' ', '=', '=', ' ', '\"', '_', '_', 'm', 'a', 'i', 'n', '_') '_' '✓'\n",
      "  196 65.33 (1m 50s) 0.0011 | ('\\n', ' ', ' ', ' ', ' ', ' ', ' ', ' ', ' ', 'p', 'r', 'i', 'n', 't', '(', '\"', '{', '}', ' ', ':') ' ' '✓'\n",
      "  197 65.67 (1m 50s) 0.0000 | ('(', 'i', ')', ',', ' ', 'i', ')', '\\n', ' ', ' ', ' ', ' ', 'r', 'e', 't', 'u', 'r', 'n', ' ', 'F') 'a' '✓'\n",
      "  198 66.00 (1m 51s) 0.0005 | ('\"', '\"', '\"', '\\n', 'i', 'm', 'p', 'o', 'r', 't', ' ', 's', 'y', 's', '\\n', 'f', 'r', 'o', 'm', ' ') 'o' '✓'\n",
      "  200 66.67 (1m 52s) 0.0000 | ('.', 'w', 'r', 'i', 't', 'e', '(', 'g', 'e', 't', 'c', 'w', 'd', '(', ')', ')', '\\n', ' ', ' ', ' ') ' ' '✓'\n",
      "  201 67.00 (1m 52s) 0.0001 | ('\\n', '\\n', 'i', 'f', ' ', '_', '_', 'n', 'a', 'm', 'e', '_', '_', ' ', '=', '=', ' ', '\"', '_', '_') 'm' '✓'\n",
      "  202 67.33 (1m 53s) 0.0001 | ('<s>', '\"', '\"', '\"', 'P', 'r', 'e', 'd', 'i', 'c', 't', ' ', 'T', 'e', 's') 't' '✓'\n",
      "  203 67.67 (1m 54s) 0.0000 | ('m', 'p', 'o', 'r', 't', ' ', 'g', 'e', 't', 'c', 'w', 'd', '\\n', '\\n', 'd', 'e', 'f', ' ', 'm', 'a') 'i' '✓'\n",
      "  204 68.00 (1m 54s) 0.0002 | ('{', '}', ' ', ':', ' ', 'B', 'o', 'o', 'p', '\"', '.', 'f', 'o', 'r', 'm', 'a', 't', '(', 'i', ')') ',' '✓'\n",
      "  205 68.33 (1m 55s) 0.0000 | ('.', 's', 't', 'd', 'o', 'u', 't', '.', 'w', 'r', 'i', 't', 'e', '(', 'g', 'e', 't', 'c', 'w', 'd') '(' '✓'\n",
      "  207 69.00 (1m 56s) 0.0002 | ('\"', '\\n', 'i', 'm', 'p', 'o', 'r', 't', ' ', 's', 'y', 's', '\\n', 'f', 'r', 'o', 'm', ' ', 'o', 's') ' ' '✓'\n",
      "  208 69.33 (1m 56s) 0.0004 | ('i', 't', 'e', '(', 'g', 'e', 't', 'c', 'w', 'd', '(', ')', ')', '\\n', ' ', ' ', ' ', ' ', 'f', 'o') 'r' '✓'\n",
      "  209 69.67 (1m 57s) 0.0007 | (':', ' ', 'B', 'o', 'o', 'p', '\"', '.', 'f', 'o', 'r', 'm', 'a', 't', '(', 'i', ')', ',', ' ', 'i') ')' '✓'\n"
     ]
    },
    {
     "name": "stdout",
     "output_type": "stream",
     "text": [
      "  210 70.00 (1m 58s) 0.0000 | ('(', 'i', ')', ',', ' ', 'i', ')', '\\n', ' ', ' ', ' ', ' ', 'r', 'e', 't', 'u', 'r', 'n', ' ', 'F') 'a' '✓'\n",
      "  211 70.33 (1m 58s) 0.0001 | (' ', ' ', ' ', ' ', 'f', 'o', 'r', ' ', 'i', ' ', 'i', 'n', ' ', 'r', 'a', 'n', 'g', 'e', '(', '0') ',' '✓'\n",
      "  212 70.67 (1m 59s) 0.0002 | ('\\n', 'i', 'f', ' ', '_', '_', 'n', 'a', 'm', 'e', '_', '_', ' ', '=', '=', ' ', '\"', '_', '_', 'm') 'a' '✓'\n",
      "  214 71.33 (2m 00s) 1.3983 | ('<s>',) '\"' '✓'\n",
      "  215 71.67 (2m 00s) 0.0002 | ('<s>', '\"', '\"', '\"', 'P', 'r', 'e', 'd', 'i', 'c') 't' '✓'\n",
      "  216 72.00 (2m 01s) 0.0000 | ('s', 'e', '\\n', '\\n', 'i', 'f', ' ', '_', '_', 'n', 'a', 'm', 'e', '_', '_', ' ', '=', '=', ' ', '\"') '_' '✓'\n",
      "  217 72.33 (2m 02s) 0.0001 | ('t', ' ', 's', 'y', 's', '\\n', 'f', 'r', 'o', 'm', ' ', 'o', 's', ' ', 'i', 'm', 'p', 'o', 'r', 't') ' ' '✓'\n",
      "  218 72.67 (2m 02s) 0.0005 | ('(', 'g', 'e', 't', 'c', 'w', 'd', '(', ')', ')', '\\n', ' ', ' ', ' ', ' ', 'f', 'o', 'r', ' ', 'i') ' ' '✓'\n",
      "  219 73.00 (2m 03s) 0.0005 | ('f', ' ', '_', '_', 'n', 'a', 'm', 'e', '_', '_', ' ', '=', '=', ' ', '\"', '_', '_', 'm', 'a', 'i') 'n' '✓'\n",
      "  221 73.67 (2m 04s) 0.0002 | ('<s>', '\"', '\"', '\"', 'P', 'r', 'e', 'd', 'i', 'c', 't', ' ', 'T', 'e', 's', 't', '\"', '\"') '\"' '✓'\n",
      "  222 74.00 (2m 04s) 0.0000 | ('m', 'a', 'i', 'n', '_', '_', '\"', ':', '\\n', ' ', ' ', ' ', ' ', 'm', 'a', 'i', 'n', '(', ')', '\\n') '<e>' '✓'\n",
      "  223 74.33 (2m 05s) 0.0002 | ('\"', '\\n', 'i', 'm', 'p', 'o', 'r', 't', ' ', 's', 'y', 's', '\\n', 'f', 'r', 'o', 'm', ' ', 'o', 's') ' ' '✓'\n",
      "  224 74.67 (2m 05s) 0.0002 | ('\\n', ' ', ' ', ' ', ' ', 'r', 'e', 't', 'u', 'r', 'n', ' ', 'F', 'a', 'l', 's', 'e', '\\n', '\\n', 'i') 'f' '✓'\n",
      "  225 75.00 (2m 06s) 0.0000 | ('s', '\\n', 'f', 'r', 'o', 'm', ' ', 'o', 's', ' ', 'i', 'm', 'p', 'o', 'r', 't', ' ', 'g', 'e', 't') 'c' '✓'\n",
      "  226 75.33 (2m 07s) 0.0003 | ('c', 't', ' ', 'T', 'e', 's', 't', '\"', '\"', '\"', '\\n', 'i', 'm', 'p', 'o', 'r', 't', ' ', 's', 'y') 's' '✓'\n",
      "  228 76.00 (2m 07s) 0.0181 | ('<s>', '\"', '\"') '\"' '✓'\n",
      "  229 76.33 (2m 08s) 0.0002 | ('y', 's', '\\n', 'f', 'r', 'o', 'm', ' ', 'o', 's', ' ', 'i', 'm', 'p', 'o', 'r', 't', ' ', 'g', 'e') 't' '✓'\n",
      "  230 76.67 (2m 09s) 0.0001 | ('d', 'i', 'c', 't', ' ', 'T', 'e', 's', 't', '\"', '\"', '\"', '\\n', 'i', 'm', 'p', 'o', 'r', 't', ' ') 's' '✓'\n",
      "  231 77.00 (2m 09s) 0.0001 | ('i', ')', '\\n', ' ', ' ', ' ', ' ', 'r', 'e', 't', 'u', 'r', 'n', ' ', 'F', 'a', 'l', 's', 'e', '\\n') '\\n' '✓'\n",
      "  232 77.33 (2m 10s) 0.0001 | (' ', ' ', 'p', 'r', 'i', 'n', 't', '(', '\"', '{', '}', ' ', ':', ' ', 'B', 'o', 'o', 'p', '\"', '.') 'f' '✓'\n",
      "  233 77.67 (2m 11s) 0.0000 | ('_', 'n', 'a', 'm', 'e', '_', '_', ' ', '=', '=', ' ', '\"', '_', '_', 'm', 'a', 'i', 'n', '_', '_') '\"' '✓'\n",
      "  235 78.33 (2m 11s) 0.0003 | ('=', ' ', '\"', '_', '_', 'm', 'a', 'i', 'n', '_', '_', '\"', ':', '\\n', ' ', ' ', ' ', ' ', 'm', 'a') 'i' '✓'\n",
      "  236 78.67 (2m 12s) 0.0003 | (')', '\\n', ' ', ' ', ' ', ' ', 'r', 'e', 't', 'u', 'r', 'n', ' ', 'F', 'a', 'l', 's', 'e', '\\n', '\\n') 'i' '✓'\n",
      "  237 79.00 (2m 13s) 0.0003 | ('\"', '\"', '\"', '\\n', 'i', 'm', 'p', 'o', 'r', 't', ' ', 's', 'y', 's', '\\n', 'f', 'r', 'o', 'm', ' ') 'o' '✓'\n",
      "  238 79.33 (2m 13s) 0.0000 | ('i', 'n', 't', '(', '\"', '{', '}', ' ', ':', ' ', 'B', 'o', 'o', 'p', '\"', '.', 'f', 'o', 'r', 'm') 'a' '✓'\n",
      "  239 79.67 (2m 14s) 0.0004 | ('}', ' ', ':', ' ', 'B', 'o', 'o', 'p', '\"', '.', 'f', 'o', 'r', 'm', 'a', 't', '(', 'i', ')', ',') ' ' '✓'\n",
      "  240 80.00 (2m 15s) 0.0000 | ('r', 'o', 'm', ' ', 'o', 's', ' ', 'i', 'm', 'p', 'o', 'r', 't', ' ', 'g', 'e', 't', 'c', 'w', 'd') '\\n' '✓'\n",
      "  242 80.67 (2m 15s) 0.0002 | (' ', ' ', 'f', 'o', 'r', ' ', 'i', ' ', 'i', 'n', ' ', 'r', 'a', 'n', 'g', 'e', '(', '0', ',', ' ') '1' '✓'\n",
      "  243 81.00 (2m 16s) 0.0002 | (' ', 'F', 'a', 'l', 's', 'e', '\\n', '\\n', 'i', 'f', ' ', '_', '_', 'n', 'a', 'm', 'e', '_', '_', ' ') '=' '✓'\n",
      "  244 81.33 (2m 17s) 0.0002 | (' ', 'm', 'a', 'i', 'n', '(', ')', ':', '\\n', ' ', ' ', ' ', ' ', 's', 'y', 's', '.', 's', 't', 'd') 'o' '✓'\n",
      "  245 81.67 (2m 17s) 0.0001 | (' ', ' ', 'p', 'r', 'i', 'n', 't', '(', '\"', '{', '}', ' ', ':', ' ', 'B', 'o', 'o', 'p', '\"', '.') 'f' '✓'\n",
      "  246 82.00 (2m 18s) 0.0007 | ('<s>', '\"', '\"', '\"', 'P', 'r', 'e', 'd', 'i', 'c', 't', ' ') 'T' '✓'\n",
      "  247 82.33 (2m 19s) 0.0002 | ('<s>', '\"', '\"', '\"', 'P', 'r', 'e', 'd', 'i', 'c', 't', ' ', 'T', 'e', 's', 't', '\"', '\"') '\"' '✓'\n",
      "  249 83.00 (2m 19s) 0.0003 | ('d', '\\n', '\\n', 'd', 'e', 'f', ' ', 'm', 'a', 'i', 'n', '(', ')', ':', '\\n', ' ', ' ', ' ', ' ', 's') 'y' '✓'\n",
      "  250 83.33 (2m 20s) 0.0003 | ('m', 'p', 'o', 'r', 't', ' ', 's', 'y', 's', '\\n', 'f', 'r', 'o', 'm', ' ', 'o', 's', ' ', 'i', 'm') 'p' '✓'\n",
      "  251 83.67 (2m 21s) 0.0002 | ('<s>', '\"', '\"', '\"', 'P', 'r', 'e', 'd', 'i', 'c', 't', ' ', 'T', 'e', 's', 't') '\"' '✓'\n",
      "  252 84.00 (2m 21s) 0.0003 | ('a', 'n', 'g', 'e', '(', '0', ',', ' ', '1', '0', ')', ':', '\\n', ' ', ' ', ' ', ' ', ' ', ' ', ' ') ' ' '✓'\n",
      "  253 84.33 (2m 22s) 0.0004 | ('B', 'o', 'o', 'p', '\"', '.', 'f', 'o', 'r', 'm', 'a', 't', '(', 'i', ')', ',', ' ', 'i', ')', '\\n') ' ' '✓'\n",
      "  254 84.67 (2m 23s) 0.0001 | (' ', ' ', ' ', ' ', ' ', ' ', 'p', 'r', 'i', 'n', 't', '(', '\"', '{', '}', ' ', ':', ' ', 'B', 'o') 'o' '✓'\n",
      "  256 85.33 (2m 23s) 0.0001 | ('u', 'r', 'n', ' ', 'F', 'a', 'l', 's', 'e', '\\n', '\\n', 'i', 'f', ' ', '_', '_', 'n', 'a', 'm', 'e') '_' '✓'\n",
      "  257 85.67 (2m 24s) 0.0002 | ('c', 't', ' ', 'T', 'e', 's', 't', '\"', '\"', '\"', '\\n', 'i', 'm', 'p', 'o', 'r', 't', ' ', 's', 'y') 's' '✓'\n",
      "  258 86.00 (2m 25s) 0.0002 | ('1', '0', ')', ':', '\\n', ' ', ' ', ' ', ' ', ' ', ' ', ' ', ' ', 'p', 'r', 'i', 'n', 't', '(', '\"') '{' '✓'\n",
      "  259 86.33 (2m 25s) 0.0005 | ('i', 'm', 'p', 'o', 'r', 't', ' ', 'g', 'e', 't', 'c', 'w', 'd', '\\n', '\\n', 'd', 'e', 'f', ' ', 'm') 'a' '✓'\n",
      "  260 86.67 (2m 26s) 0.0001 | ('y', 's', '\\n', 'f', 'r', 'o', 'm', ' ', 'o', 's', ' ', 'i', 'm', 'p', 'o', 'r', 't', ' ', 'g', 'e') 't' '✓'\n",
      "  261 87.00 (2m 27s) 0.0002 | ('a', 'i', 'n', '(', ')', ':', '\\n', ' ', ' ', ' ', ' ', 's', 'y', 's', '.', 's', 't', 'd', 'o', 'u') 't' '✓'\n",
      "  262 87.33 (2m 27s) 0.0000 | ('s', ' ', 'i', 'm', 'p', 'o', 'r', 't', ' ', 'g', 'e', 't', 'c', 'w', 'd', '\\n', '\\n', 'd', 'e', 'f') ' ' '✓'\n",
      "  264 88.00 (2m 28s) 0.0002 | ('n', 't', '(', '\"', '{', '}', ' ', ':', ' ', 'B', 'o', 'o', 'p', '\"', '.', 'f', 'o', 'r', 'm', 'a') 't' '✓'\n",
      "  265 88.33 (2m 28s) 0.0005 | ('(', '0', ',', ' ', '1', '0', ')', ':', '\\n', ' ', ' ', ' ', ' ', ' ', ' ', ' ', ' ', 'p', 'r', 'i') 'n' '✓'\n",
      "  266 88.67 (2m 29s) 0.0000 | ('r', 'a', 'n', 'g', 'e', '(', '0', ',', ' ', '1', '0', ')', ':', '\\n', ' ', ' ', ' ', ' ', ' ', ' ') ' ' '✓'\n",
      "  267 89.00 (2m 30s) 0.0000 | ('m', 'a', 'i', 'n', '_', '_', '\"', ':', '\\n', ' ', ' ', ' ', ' ', 'm', 'a', 'i', 'n', '(', ')', '\\n') '<e>' '✓'\n",
      "  268 89.33 (2m 31s) 0.0003 | (',', ' ', '1', '0', ')', ':', '\\n', ' ', ' ', ' ', ' ', ' ', ' ', ' ', ' ', 'p', 'r', 'i', 'n', 't') '(' '✓'\n",
      "  269 89.67 (2m 31s) 0.0000 | ('g', 'e', 't', 'c', 'w', 'd', '(', ')', ')', '\\n', ' ', ' ', ' ', ' ', 'f', 'o', 'r', ' ', 'i', ' ') 'i' '✓'\n",
      "  271 90.33 (2m 32s) 0.0002 | (' ', 'r', 'e', 't', 'u', 'r', 'n', ' ', 'F', 'a', 'l', 's', 'e', '\\n', '\\n', 'i', 'f', ' ', '_', '_') 'n' '✓'\n",
      "  272 90.67 (2m 33s) 0.0005 | ('<s>', '\"', '\"', '\"', 'P', 'r', 'e', 'd', 'i', 'c', 't', ' ', 'T') 'e' '✓'\n",
      "  273 91.00 (2m 33s) 0.0001 | ('p', 'r', 'i', 'n', 't', '(', '\"', '{', '}', ' ', ':', ' ', 'B', 'o', 'o', 'p', '\"', '.', 'f', 'o') 'r' '✓'\n",
      "  274 91.33 (2m 34s) 0.0022 | ('<s>', '\"', '\"', '\"', 'P', 'r', 'e') 'd' '✓'\n",
      "  275 91.67 (2m 35s) 0.0000 | ('s', 'e', '\\n', '\\n', 'i', 'f', ' ', '_', '_', 'n', 'a', 'm', 'e', '_', '_', ' ', '=', '=', ' ', '\"') '_' '✓'\n",
      "  276 92.00 (2m 35s) 0.0000 | ('o', 'u', 't', '.', 'w', 'r', 'i', 't', 'e', '(', 'g', 'e', 't', 'c', 'w', 'd', '(', ')', ')', '\\n') ' ' '✓'\n",
      "  278 92.67 (2m 36s) 0.0001 | ('<s>', '\"', '\"', '\"', 'P', 'r', 'e', 'd', 'i', 'c', 't', ' ', 'T', 'e', 's', 't', '\"') '\"' '✓'\n",
      "  279 93.00 (2m 36s) 0.0000 | ('s', 'e', '\\n', '\\n', 'i', 'f', ' ', '_', '_', 'n', 'a', 'm', 'e', '_', '_', ' ', '=', '=', ' ', '\"') '_' '✓'\n",
      "  280 93.33 (2m 37s) 0.0000 | ('_', 'm', 'a', 'i', 'n', '_', '_', '\"', ':', '\\n', ' ', ' ', ' ', ' ', 'm', 'a', 'i', 'n', '(', ')') '\\n' '✓'\n",
      "  281 93.67 (2m 38s) 0.0002 | ('p', '\"', '.', 'f', 'o', 'r', 'm', 'a', 't', '(', 'i', ')', ',', ' ', 'i', ')', '\\n', ' ', ' ', ' ') ' ' '✓'\n"
     ]
    },
    {
     "name": "stdout",
     "output_type": "stream",
     "text": [
      "  282 94.00 (2m 38s) 0.0000 | ('=', '=', ' ', '\"', '_', '_', 'm', 'a', 'i', 'n', '_', '_', '\"', ':', '\\n', ' ', ' ', ' ', ' ', 'm') 'a' '✓'\n",
      "  283 94.33 (2m 39s) 0.0000 | ('=', '=', ' ', '\"', '_', '_', 'm', 'a', 'i', 'n', '_', '_', '\"', ':', '\\n', ' ', ' ', ' ', ' ', 'm') 'a' '✓'\n",
      "  285 95.00 (2m 40s) 0.0003 | ('e', 't', 'c', 'w', 'd', '(', ')', ')', '\\n', ' ', ' ', ' ', ' ', 'f', 'o', 'r', ' ', 'i', ' ', 'i') 'n' '✓'\n",
      "  286 95.33 (2m 40s) 0.0001 | ('w', 'd', '\\n', '\\n', 'd', 'e', 'f', ' ', 'm', 'a', 'i', 'n', '(', ')', ':', '\\n', ' ', ' ', ' ', ' ') 's' '✓'\n",
      "  287 95.67 (2m 41s) 0.0000 | ('i', ' ', 'i', 'n', ' ', 'r', 'a', 'n', 'g', 'e', '(', '0', ',', ' ', '1', '0', ')', ':', '\\n', ' ') ' ' '✓'\n",
      "  288 96.00 (2m 42s) 0.0002 | ('w', 'd', '\\n', '\\n', 'd', 'e', 'f', ' ', 'm', 'a', 'i', 'n', '(', ')', ':', '\\n', ' ', ' ', ' ', ' ') 's' '✓'\n",
      "  289 96.33 (2m 42s) 0.0361 | ('<s>', '\"') '\"' '✓'\n",
      "  290 96.67 (2m 43s) 0.0000 | ('o', 'm', ' ', 'o', 's', ' ', 'i', 'm', 'p', 'o', 'r', 't', ' ', 'g', 'e', 't', 'c', 'w', 'd', '\\n') '\\n' '✓'\n",
      "  292 97.33 (2m 44s) 0.0001 | (' ', ' ', ' ', ' ', 'f', 'o', 'r', ' ', 'i', ' ', 'i', 'n', ' ', 'r', 'a', 'n', 'g', 'e', '(', '0') ',' '✓'\n",
      "  293 97.67 (2m 44s) 0.0001 | (' ', 's', 'y', 's', '\\n', 'f', 'r', 'o', 'm', ' ', 'o', 's', ' ', 'i', 'm', 'p', 'o', 'r', 't', ' ') 'g' '✓'\n",
      "  294 98.00 (2m 45s) 0.0001 | (' ', 'i', ' ', 'i', 'n', ' ', 'r', 'a', 'n', 'g', 'e', '(', '0', ',', ' ', '1', '0', ')', ':', '\\n') ' ' '✓'\n",
      "  295 98.33 (2m 46s) 0.0002 | ('\\n', '\\n', 'd', 'e', 'f', ' ', 'm', 'a', 'i', 'n', '(', ')', ':', '\\n', ' ', ' ', ' ', ' ', 's', 'y') 's' '✓'\n",
      "  296 98.67 (2m 46s) 0.0003 | ('e', '\\n', '\\n', 'i', 'f', ' ', '_', '_', 'n', 'a', 'm', 'e', '_', '_', ' ', '=', '=', ' ', '\"', '_') '_' '✓'\n",
      "  297 99.00 (2m 47s) 0.0003 | ('s', '.', 's', 't', 'd', 'o', 'u', 't', '.', 'w', 'r', 'i', 't', 'e', '(', 'g', 'e', 't', 'c', 'w') 'd' '✓'\n",
      "  299 99.67 (2m 48s) 0.0340 | ('<s>', '\"') '\"' '✓'\n"
     ]
    }
   ],
   "source": [
    "n_epochs = 300\n",
    "print_every = 256\n",
    "window_size = 20\n",
    "\n",
    "file_char_seq = (FILE_START,) + tuple(text) + (FILE_END, )\n",
    "\n",
    "# Keep track of losses for plotting\n",
    "all_losses = []\n",
    "\n",
    "def time_since(since):\n",
    "    delta = time() - since\n",
    "    sec = int(delta)\n",
    "    mins = floor(sec / 60)\n",
    "    sec -= mins * 60\n",
    "    return \"{}m {:0>2d}s\".format(mins, sec)\n",
    "\n",
    "start = time()\n",
    "iter_idx = 0\n",
    "\n",
    "# This generator will terminate when it finishes the file.\n",
    "for epoch_idx in range(n_epochs):\n",
    "    #gen = sliding_window_generator(file_char_seq, window_size)\n",
    "    gen = dynamic_sliding_window_generator(file_char_seq, max_window_size=window_size, gen_forever=False)\n",
    "    for input_char_seq, output_char in gen:\n",
    "        input_seq_tensor = charseq_to_tensor(input_char_seq)\n",
    "\n",
    "        # output_tensor = char_to_tensor(output_char)\n",
    "        # NLLLoss expects the output tensor to be datatype long index of expected character\n",
    "        output_tensor = torch.tensor([char2int[output_char]], dtype=torch.long)\n",
    "        output, loss = train(output_tensor, input_seq_tensor)\n",
    "        \n",
    "        # Print iter number, loss, name and guess\n",
    "        if iter_idx % print_every == 0:\n",
    "            guess, guess_i = char_from_output(output)\n",
    "            correct = \"✓\" if guess == output_char else \"✗ ({})\".format(output_char)\n",
    "            print(\"{:5d} {:.2f} ({}) {:.4f} | {} {} {}\".format(\n",
    "                epoch_idx, epoch_idx/n_epochs * 100, time_since(start), loss,\n",
    "                input_char_seq, repr(guess), repr(correct)))\n",
    "        iter_idx += 1\n",
    "\n",
    "    # Add current loss avg to list of losses after each epoch\n",
    "    all_losses.append(loss)\n"
   ]
  },
  {
   "cell_type": "markdown",
   "metadata": {},
   "source": [
    "## Plotting the Training Process\n",
    "\n",
    "Plotting the historical loss from `all_losses` shows the network learning!"
   ]
  },
  {
   "cell_type": "code",
   "execution_count": 16,
   "metadata": {},
   "outputs": [
    {
     "data": {
      "text/plain": [
       "[<matplotlib.lines.Line2D at 0x7f20a9081ba8>]"
      ]
     },
     "execution_count": 16,
     "metadata": {},
     "output_type": "execute_result"
    },
    {
     "data": {
      "image/png": "[encoded data removed]",
      "text/plain": [
       "<Figure size 432x288 with 1 Axes>"
      ]
     },
     "metadata": {
      "needs_background": "light"
     },
     "output_type": "display_data"
    }
   ],
   "source": [
    "plt.figure()\n",
    "plt.title(\"Char-RNN Toy Source Code Loss over Epoch\")\n",
    "plt.xlabel(\"Epoch\")\n",
    "plt.ylabel(\"Negative Log Likelihood\")\n",
    "plt.plot(all_losses)"
   ]
  },
  {
   "cell_type": "markdown",
   "metadata": {},
   "source": [
    "## Evaluating our Model Results\n",
    "\n",
    "Are there certain characters that the network predicts better than others?\n",
    "\n",
    "How well can the neural network predict each character? We can visualize this using a confusion matrix."
   ]
  },
  {
   "cell_type": "code",
   "execution_count": 17,
   "metadata": {},
   "outputs": [],
   "source": [
    "# Keep track of correct guesses in a confusion matrix\n",
    "n_predictabchars = len(characters)\n",
    "confusion = np.zeros((n_chars, n_chars))\n",
    "n_confusion = 10000\n",
    "\n",
    "gen = dynamic_sliding_window_generator(file_char_seq, window_size)\n",
    "\n",
    "def evaluate(line_tensor, hidden = char_rnn.init_hidden()):\n",
    "    \"\"\"Return an output, given a line.\"\"\"\n",
    "    for i in range(line_tensor.size()[0]):\n",
    "        output, hidden = char_rnn(line_tensor[i], hidden)\n",
    "    return output, hidden\n",
    "\n",
    "\n",
    "# Keep track of a bunch of examples and record which are correctly guessed\n",
    "for i in range(n_confusion):\n",
    "    input_char_seq, true_output_char = next(gen)\n",
    "    true_output_idx = char2int[true_output_char]\n",
    "\n",
    "    input_seq_tensor = charseq_to_tensor(input_char_seq)\n",
    "    pred_output_tensor, _ = evaluate(input_seq_tensor)\n",
    "    pred_output_char, pred_output_idx = char_from_output(pred_output_tensor)\n",
    "    \n",
    "    confusion[true_output_idx][pred_output_idx] += 1\n",
    "\n",
    "# Normalize by dividing every row by its sum\n",
    "for i in range(confusion.shape[0]):\n",
    "    row_sum = confusion[i].sum()\n",
    "    if row_sum <= 0:\n",
    "        # the next discretely distinguishable floating point value greater than zero\n",
    "        row_sum = np.nextafter(0,1) \n",
    "    confusion[i] = confusion[i] / row_sum"
   ]
  },
  {
   "cell_type": "markdown",
   "metadata": {},
   "source": [
    "The confusion matrix can now be plotted. "
   ]
  },
  {
   "cell_type": "code",
   "execution_count": 18,
   "metadata": {},
   "outputs": [
    {
     "data": {
      "image/png": "[encoded data removed]",
      "text/plain": [
       "<Figure size 1200x1200 with 2 Axes>"
      ]
     },
     "metadata": {
      "needs_background": "light"
     },
     "output_type": "display_data"
    }
   ],
   "source": [
    "# Plot the confusion matrix\n",
    "fig = plt.figure(figsize=(15, 15), dpi=80)\n",
    "ax = fig.add_subplot(111)\n",
    "cax = ax.matshow(confusion)\n",
    "fig.colorbar(cax)\n",
    "\n",
    "# Setup Axes labels, make whitespace more readable\n",
    "char_labels = [val for key, val in sorted(int2char.items())]\n",
    "for idx, char_label in enumerate(char_labels):\n",
    "    if char_label in [\" \", \"\\n\"]:\n",
    "        char_labels[idx] = repr(char_label)\n",
    "ax.set_xticklabels([\"\"] + char_labels, rotation=90)\n",
    "ax.set_yticklabels([\"\"] + char_labels)\n",
    "\n",
    "# Force a label at every tick\n",
    "ax.xaxis.set_major_locator(ticker.MultipleLocator(1))\n",
    "ax.yaxis.set_major_locator(ticker.MultipleLocator(1))\n",
    "# plt.xlabel(\"Actual Charcter\")\n",
    "plt.ylabel(\"Predicted Character\")\n",
    "plt.title(\"Predicted Character to Actual Character\")\n",
    "plt.show()"
   ]
  },
  {
   "cell_type": "markdown",
   "metadata": {},
   "source": [
    "## Using User Specified Input\n",
    "\n",
    "You can test this yourself by supplying your own prelimiary Python source code."
   ]
  },
  {
   "cell_type": "code",
   "execution_count": 19,
   "metadata": {},
   "outputs": [
    {
     "name": "stdout",
     "output_type": "stream",
     "text": [
      "<s>\n",
      "~~~~~Auto Completion~~~~~\n",
      "<s>\"\"\"Predict Test\"\"\"\n",
      "import sys\n",
      "from os import getcwd\n",
      "\n",
      "def main():\n",
      "    sys.stdout.write(getcwd())\n",
      "    for i in range(0, 10):\n",
      "        print(\"{} : Boop\".format(i), i)\n",
      "    return False\n",
      "\n",
      "if __name__ == \"__main__\":\n",
      "    main()\n"
     ]
    }
   ],
   "source": [
    "def predict(input_char_seq, max_len=1000):\n",
    "    print(\"\".join(input_char_seq))\n",
    "    print(\"~~~~~Auto Completion~~~~~\")\n",
    "    with torch.no_grad():\n",
    "        print(\"\".join(input_char_seq), end=\"\")\n",
    "        output, hidden = evaluate(charseq_to_tensor(input_char_seq))\n",
    "\n",
    "        for i in range(max_len):\n",
    "            # Suggestion: Maybe probabalistically choose using weights over all choices?\n",
    "            topv, topi = output.topk(1, 1, True)        \n",
    "            # value = topv[0][0].item()\n",
    "            char_idx = topi[0][0].item()\n",
    "            next_char = int2char[char_idx]\n",
    "            if next_char == FILE_END:\n",
    "                return\n",
    "            print(next_char, end=\"\")\n",
    "            input_char_seq = input_char_seq + (next_char, )\n",
    "            output, hidden = evaluate(charseq_to_tensor(input_char_seq[-window_size:]))\n",
    "        print(\"\\n~~~~~max_len reached~~~~~\")\n",
    "\n",
    "# Replace CODE with whatever you want\n",
    "CODE = (FILE_START,) # this is symbolic, to demonstrate that we have memorized the training data.\n",
    "# CODE = \"print(\"\n",
    "predict(tuple(CODE))"
   ]
  },
  {
   "cell_type": "markdown",
   "metadata": {},
   "source": [
    "Does it work with your own data? Some arbitrary starting text?"
   ]
  },
  {
   "cell_type": "code",
   "execution_count": 20,
   "metadata": {
    "scrolled": true
   },
   "outputs": [
    {
     "name": "stdout",
     "output_type": "stream",
     "text": [
      "ale\n",
      "~~~~~Auto Completion~~~~~\n",
      "ale(\n",
      "\n",
      "       ppint \"{} e Boop\".format(t), i)\n",
      "    rftumn False\n",
      " if _ nyre\n",
      "n = pe\n",
      "i \n",
      "  e s \"\n",
      "in s os o \n",
      "foi teiuonelse\")s \n",
      "o\n",
      "oytemait(re\n",
      "i w \n",
      "mat\"r\n",
      "     f  s it t pyseo\n",
      "oo\n",
      "oseioot ietcwe\n",
      ")etcre\n",
      "sse\n",
      "\n",
      "ma ra\n",
      "iit _ai=\"\"_\n",
      "  i _  man _  a n _  i _  m i t \""
     ]
    }
   ],
   "source": [
    "CODE = \"ale\"\n",
    "predict(tuple(CODE))"
   ]
  },
  {
   "cell_type": "markdown",
   "metadata": {},
   "source": [
    "Next approaches will involve using Gated Recurrent Units and LSTM units. "
   ]
  }
 ],
 "metadata": {
  "kernelspec": {
   "display_name": "Python 3",
   "language": "python",
   "name": "python3"
  },
  "language_info": {
   "codemirror_mode": {
    "name": "ipython",
    "version": 3
   },
   "file_extension": ".py",
   "mimetype": "text/x-python",
   "name": "python",
   "nbconvert_exporter": "python",
   "pygments_lexer": "ipython3",
   "version": "3.6.7"
  }
 },
 "nbformat": 4,
 "nbformat_minor": 2
}
