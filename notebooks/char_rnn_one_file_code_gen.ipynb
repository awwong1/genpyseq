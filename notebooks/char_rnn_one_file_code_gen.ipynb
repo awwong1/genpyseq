{
 "cells": [
  {
   "cell_type": "code",
   "execution_count": 1,
   "metadata": {},
   "outputs": [],
   "source": [
    "%matplotlib inline"
   ]
  },
  {
   "cell_type": "markdown",
   "metadata": {},
   "source": [
    "# Determining Next Character with a Character-Level RNN"
   ]
  },
  {
   "cell_type": "markdown",
   "metadata": {},
   "source": [
    "*This is a simple proof of concept neural network. We will attempt to overfit on a single file of Python source code.*\n",
    "\n",
    "Build a character level recurrent neural network that:\n",
    "* Given a sequence of characters, predicts the next likely character in the sequence.\n",
    "\n",
    "The following are necessary term defintions:\n",
    "\n",
    "* **Vocabulary**: Set of all characters that our text consists of. Size of vocabulary is the number of unique characters in our text.\n"
   ]
  },
  {
   "cell_type": "code",
   "execution_count": 2,
   "metadata": {},
   "outputs": [],
   "source": [
    "import numpy as np\n",
    "import torch\n",
    "import torch.nn as nn\n",
    "import matplotlib.pyplot as plt\n",
    "import matplotlib.ticker as ticker\n",
    "from random import shuffle\n",
    "from math import floor\n",
    "from time import time"
   ]
  },
  {
   "cell_type": "markdown",
   "metadata": {},
   "source": [
    "## Preparing the Data\n",
    "We will be predicting for a single Python file, named `test.py`.\n"
   ]
  },
  {
   "cell_type": "code",
   "execution_count": 3,
   "metadata": {},
   "outputs": [
    {
     "name": "stdout",
     "output_type": "stream",
     "text": [
      "\"\"\"Predict Test\"\"\"\n",
      "import sys\n",
      "from os import getcwd\n",
      "\n",
      "def main():\n",
      "    sys.stdout.write(getcwd())\n",
      "    for i in range(0, 10):\n",
      "        print(\"{} : Boop\".format(i), i)\n",
      "    return False\n",
      "\n",
      "if __name__ == \"__main__\":\n",
      "    main()\n",
      "\n",
      "~~~~~~~~~~~~~~~~~~~~~~~~~~~~~~~~~~~~~~~~\n",
      "* Vocabulary Size: 39\n",
      "* Text Size: 219\n"
     ]
    }
   ],
   "source": [
    "with open(\"./data/test.py\", \"r\") as f:\n",
    "    text = f.read()\n",
    "print(text)\n",
    "\n",
    "# add a special characters for padding, file_start, and file_stop\n",
    "PAD = \"<p>\" # Are PAD characters even necessary for the task? See dynamic_sliding_window_generator\n",
    "FILE_START = \"<s>\" # chr(2) is ASCII start of text\n",
    "FILE_END = \"<e>\"   # chr(3) is ASCII end of text\n",
    "\n",
    "characters = tuple(set(text)) + tuple((PAD, FILE_START, FILE_END))\n",
    "int2char = dict(enumerate(characters))\n",
    "char2int = {char: index for index, char in int2char.items()}\n",
    "\n",
    "# encode text using the character to integer dictionary\n",
    "encoded = np.array([char2int[char] for char in text])\n",
    "print(\"~\" * 40)\n",
    "print(\"* Vocabulary Size: {}\".format(len(characters)))\n",
    "print(\"* Text Size: {}\".format(len(encoded)))"
   ]
  },
  {
   "cell_type": "markdown",
   "metadata": {},
   "source": [
    "## Sliding Window Algorithm\n",
    "\n",
    "Given some iterable, we want a generator that yields X, Y pairs for evaluation.\n",
    "\n",
    "We want a sequence of a given context length as X, and the next character as Y."
   ]
  },
  {
   "cell_type": "code",
   "execution_count": 4,
   "metadata": {},
   "outputs": [],
   "source": [
    "def sliding_window_generator(iterable, window_size, pad_char=PAD):\n",
    "    \"\"\"Generator that returns sliding window (X,Y) pairs over the provided iterable\"\"\"\n",
    "    # to generate first character, use PAD, PAD, ..., iterable[0], with output iterable[1]\n",
    "    for window_idx in range(1, len(iterable)):\n",
    "        x = iterable[:window_idx]\n",
    "        if len(x) < window_size:\n",
    "            x = ((pad_char,) * (window_size - len(x))) + x\n",
    "\n",
    "        x = x[-window_size:]\n",
    "        y = iterable[window_idx]\n",
    "        yield x, y\n",
    "        \n",
    "def dynamic_sliding_window_generator(iterable, max_window_size=None, gen_forever=True, shuffle_data=True):\n",
    "    if max_window_size is None:\n",
    "        max_window_size = len(iterable)\n",
    "    while True:\n",
    "        if shuffle_data:\n",
    "            data_pairs = []\n",
    "        for window_idx in range(1, len(iterable)):\n",
    "            x = iterable[:window_idx]\n",
    "            if len(x) > max_window_size:\n",
    "                x = x[-max_window_size:]\n",
    "            y = iterable[window_idx]\n",
    "\n",
    "            if shuffle_data:\n",
    "                data_pairs.append((x, y))\n",
    "            else:\n",
    "                yield x, y\n",
    "        if shuffle_data:\n",
    "            shuffle(data_pairs)\n",
    "            while data_pairs:\n",
    "                x, y = data_pairs.pop()\n",
    "                yield x, y\n",
    "        if not gen_forever:\n",
    "            break\n",
    "        "
   ]
  },
  {
   "cell_type": "markdown",
   "metadata": {},
   "source": [
    "Here are the first 3 generator outputs, given a window size of 7."
   ]
  },
  {
   "cell_type": "code",
   "execution_count": 5,
   "metadata": {},
   "outputs": [
    {
     "name": "stdout",
     "output_type": "stream",
     "text": [
      "X:  ('<p>', '<p>', '<p>', '<p>', '<p>', '<p>', '<s>')\n",
      "Y:  '\"'\n",
      "~~~~~~~~~~~~~~~~~~~~\n",
      "X:  ('<p>', '<p>', '<p>', '<p>', '<p>', '<s>', '\"')\n",
      "Y:  '\"'\n",
      "~~~~~~~~~~~~~~~~~~~~\n",
      "X:  ('<p>', '<p>', '<p>', '<p>', '<s>', '\"', '\"')\n",
      "Y:  '\"'\n",
      "~~~~~~~~~~~~~~~~~~~~\n"
     ]
    }
   ],
   "source": [
    "file_char_seq = (FILE_START,) + tuple(text) + (FILE_END, )\n",
    "gen = sliding_window_generator(file_char_seq, 7)\n",
    "\n",
    "for _ in range(0, 3):\n",
    "    x, y = next(gen)\n",
    "    print(\"X: \", x)\n",
    "    print(\"Y: \", repr(y))\n",
    "    print(\"~\" * 20)"
   ]
  },
  {
   "cell_type": "markdown",
   "metadata": {},
   "source": [
    "Here are the first outputs using the **dynamic** generator with no padding and shuffling enabled, given a max window size of 7. Notice how the padding character is no longer necessary."
   ]
  },
  {
   "cell_type": "code",
   "execution_count": 6,
   "metadata": {},
   "outputs": [
    {
     "name": "stdout",
     "output_type": "stream",
     "text": [
      "X:  ('<s>', '\"', '\"', '\"', 'P')\n",
      "Y:  'r'\n",
      "~~~~~~~~~~~~~~~~~~~~\n",
      "X:  ('<s>', '\"', '\"', '\"', 'P', 'r')\n",
      "Y:  'e'\n",
      "~~~~~~~~~~~~~~~~~~~~\n",
      "X:  ('<s>',)\n",
      "Y:  '\"'\n",
      "~~~~~~~~~~~~~~~~~~~~\n",
      "X:  ('<s>', '\"', '\"', '\"')\n",
      "Y:  'P'\n",
      "~~~~~~~~~~~~~~~~~~~~\n",
      "X:  ('<s>', '\"')\n",
      "Y:  '\"'\n",
      "~~~~~~~~~~~~~~~~~~~~\n",
      "X:  ('<s>', '\"', '\"')\n",
      "Y:  '\"'\n",
      "~~~~~~~~~~~~~~~~~~~~\n"
     ]
    }
   ],
   "source": [
    "file_char_seq = (FILE_START,) + tuple(text) + (FILE_END, )\n",
    "gen = dynamic_sliding_window_generator(file_char_seq, 7, gen_forever=False)\n",
    "\n",
    "# for _ in range(0, 3):\n",
    "#     x, y = next(gen)\n",
    "for x, y in gen:\n",
    "    if len(x) < 7:\n",
    "        print(\"X: \", x)\n",
    "        print(\"Y: \", repr(y))\n",
    "        print(\"~\" * 20)"
   ]
  },
  {
   "cell_type": "markdown",
   "metadata": {},
   "source": [
    "## Characters to Tensors\n",
    "Now that we have our inputs and outputs, they must be converted into Tensors for training.\n",
    "\n",
    "To represent a single character, a one-hot vector of size `(1, num_chars)` is used.\n",
    "* One-hot vector is filled with zeros except for a one at the index of the current letter.\n",
    "\n",
    "To make a training example, we join a bunch of these characters into a matrix of size `(window_size, 1, num_chars)`.\n",
    "\n",
    "The extra `1` dimension is necessary because PyTorch requires everything to be in batches."
   ]
  },
  {
   "cell_type": "code",
   "execution_count": 7,
   "metadata": {},
   "outputs": [],
   "source": [
    "def char_to_tensor(char, num_chars=len(characters)):\n",
    "    tensor = torch.zeros(1, num_chars)\n",
    "    tensor[0][char2int[char]] = 1\n",
    "    return tensor\n",
    "\n",
    "def charseq_to_tensor(charseq, num_chars=len(characters)):\n",
    "    tensor = torch.zeros(len(charseq), 1, num_chars)\n",
    "    for seq_idx, char in enumerate(charseq):\n",
    "        tensor[seq_idx][0][char2int[char]] = 1\n",
    "    return tensor"
   ]
  },
  {
   "cell_type": "markdown",
   "metadata": {},
   "source": [
    "Here are the tensor inputs and outputs for the generator function we defined earlier."
   ]
  },
  {
   "cell_type": "code",
   "execution_count": 8,
   "metadata": {},
   "outputs": [
    {
     "name": "stdout",
     "output_type": "stream",
     "text": [
      "('i', 'c', 't', ' ', 'T', 'e', 's')\n",
      "torch.Size([7, 1, 39])\n",
      "'t'\n",
      "torch.Size([1, 39])\n",
      "tensor([[0., 0., 0., 0., 0., 0., 0., 0., 0., 0., 0., 0., 0., 0., 0., 0., 0., 0.,\n",
      "         0., 0., 0., 0., 0., 0., 0., 0., 0., 0., 1., 0., 0., 0., 0., 0., 0., 0.,\n",
      "         0., 0., 0.]])\n"
     ]
    }
   ],
   "source": [
    "gen = dynamic_sliding_window_generator(file_char_seq, 7)\n",
    "\n",
    "x, y = next(gen)\n",
    "\n",
    "x_tensor = charseq_to_tensor(x)\n",
    "y_tensor = char_to_tensor(y)\n",
    "\n",
    "print(x)\n",
    "print(x_tensor.size())\n",
    "print(repr(y))\n",
    "print(y_tensor.size())\n",
    "print(y_tensor)"
   ]
  },
  {
   "cell_type": "markdown",
   "metadata": {},
   "source": [
    "## Creating the Network\n",
    "\n",
    "Time to create our recurrent neural network. We are extending the basic RNN module provided by the [char_rnn_classification_tutorial](https://pytorch.org/tutorials/intermediate/char_rnn_classification_tutorial.html) first, before moving into more complicated networks."
   ]
  },
  {
   "cell_type": "code",
   "execution_count": 9,
   "metadata": {},
   "outputs": [],
   "source": [
    "class PureRNN(nn.Module):\n",
    "    def __init__(self, input_size, hidden_size, output_size):\n",
    "        super(PureRNN, self).__init__()\n",
    "        \n",
    "        self.hidden_size = hidden_size\n",
    "        \n",
    "        self.input2hidden = nn.Linear(input_size + hidden_size, hidden_size)\n",
    "        self.input2output = nn.Linear(input_size + hidden_size, output_size)\n",
    "        self.softmax = nn.LogSoftmax(dim=1)\n",
    "    \n",
    "    def forward(self, input_val, hidden):\n",
    "        combined = torch.cat((input_val, hidden), 1)\n",
    "        hidden = self.input2hidden(combined)\n",
    "        output = self.input2output(combined)\n",
    "        output = self.softmax(output)\n",
    "        return output, hidden\n",
    "    \n",
    "    def init_hidden(self):\n",
    "        return torch.zeros(1, self.hidden_size)"
   ]
  },
  {
   "cell_type": "markdown",
   "metadata": {},
   "source": [
    "Initialize our simple recurrent neural network with values appropriate for our character predition task."
   ]
  },
  {
   "cell_type": "code",
   "execution_count": 10,
   "metadata": {},
   "outputs": [],
   "source": [
    "# hidden layer output vector size\n",
    "n_hidden = 128\n",
    "n_chars = len(characters)\n",
    "\n",
    "# Input is a single character, 128 hidden units of state, Output is a single character \n",
    "char_rnn = PureRNN(n_chars, n_hidden, n_chars)"
   ]
  },
  {
   "cell_type": "markdown",
   "metadata": {},
   "source": [
    "Before each file, we should zero out the RNN hidden state.\n",
    "\n",
    "For `PureRNN`, our starting sequence should always be the file start character."
   ]
  },
  {
   "cell_type": "code",
   "execution_count": 11,
   "metadata": {},
   "outputs": [
    {
     "name": "stdout",
     "output_type": "stream",
     "text": [
      "tensor([[-3.5737, -3.5781, -3.5854, -3.6583, -3.5889, -3.7426, -3.7325, -3.6165,\n",
      "         -3.6347, -3.6443, -3.5531, -3.5920, -3.7593, -3.7417, -3.7811, -3.6131,\n",
      "         -3.6891, -3.7581, -3.6051, -3.6459, -3.7443, -3.6396, -3.7673, -3.6172,\n",
      "         -3.7332, -3.6560, -3.6332, -3.6671, -3.6295, -3.5773, -3.6244, -3.6324,\n",
      "         -3.6762, -3.7551, -3.6839, -3.6354, -3.7779, -3.6869, -3.7320]],\n",
      "       grad_fn=<LogSoftmaxBackward>)\n",
      "tensor([[-3.5737, -3.5781, -3.5854, -3.6583, -3.5889, -3.7426, -3.7325, -3.6165,\n",
      "         -3.6347, -3.6443, -3.5531, -3.5920, -3.7593, -3.7417, -3.7811, -3.6131,\n",
      "         -3.6891, -3.7581, -3.6051, -3.6459, -3.7443, -3.6396, -3.7673, -3.6172,\n",
      "         -3.7332, -3.6560, -3.6332, -3.6671, -3.6295, -3.5773, -3.6244, -3.6324,\n",
      "         -3.6762, -3.7551, -3.6839, -3.6354, -3.7779, -3.6869, -3.7320]],\n",
      "       grad_fn=<LogSoftmaxBackward>)\n"
     ]
    }
   ],
   "source": [
    "input_val = char_to_tensor(FILE_START)\n",
    "hidden_val = char_rnn.init_hidden()\n",
    "\n",
    "output, next_hidden = char_rnn(input_val, hidden_val)\n",
    "print(output)\n",
    "\n",
    "# more efficient to make the whole file into one tensor and iterate over each character\n",
    "input_seq = charseq_to_tensor(file_char_seq)\n",
    "input_val = input_seq[0]\n",
    "hidden_val = char_rnn.init_hidden()\n",
    "\n",
    "output, next_hidden = char_rnn(input_val, hidden_val)\n",
    "print(output)"
   ]
  },
  {
   "cell_type": "markdown",
   "metadata": {},
   "source": [
    "## Preparing to Train our Model\n",
    "\n",
    "We want to evaluate the accuracy of our model in predicting the next character, it is helpful to be able to convert the network prediction back to a human readable character."
   ]
  },
  {
   "cell_type": "code",
   "execution_count": 12,
   "metadata": {},
   "outputs": [
    {
     "data": {
      "text/plain": [
       "('P', 10)"
      ]
     },
     "execution_count": 12,
     "metadata": {},
     "output_type": "execute_result"
    }
   ],
   "source": [
    "def char_from_output(output):\n",
    "    \"\"\"Covnvert network output prediction back to readable character\"\"\"\n",
    "    # return the k largest elements of the given tensor\n",
    "    top_n, top_i = output.topk(1)\n",
    "    char_index = top_i[0].item()\n",
    "    return int2char[char_index], char_index\n",
    "    \n",
    "char_from_output(output)"
   ]
  },
  {
   "cell_type": "markdown",
   "metadata": {},
   "source": [
    "Now, all we need to do is to show the network examples, have it make predictions, and let inform the network when predictions are incorrect.\n",
    "\n",
    "For the loss function, `nn.NLLLoss` is used as the last layer of the RNN is a `nn.LogSoftmax`.\n",
    "\n",
    "Different loss functions that can be used are defined in [pyTorch Loss functions](https://pytorch.org/docs/stable/nn.html#loss-functions).\n",
    "* **NLLLoss**: Negative Log Likelihood loss. [docs](https://pytorch.org/docs/stable/nn.html#nllloss)"
   ]
  },
  {
   "cell_type": "code",
   "execution_count": 13,
   "metadata": {},
   "outputs": [],
   "source": [
    "criterion = nn.NLLLoss()"
   ]
  },
  {
   "cell_type": "markdown",
   "metadata": {},
   "source": [
    "Each training loop will:\n",
    "0. Create input and target tensors\n",
    "0. Initialize a zerored hidden state\n",
    "0. Read each letter in and keep the hidden state for the next letter\n",
    "0. Compare the final output to the target\n",
    "0. Back-propagate\n",
    "0. Return the output and loss"
   ]
  },
  {
   "cell_type": "code",
   "execution_count": 14,
   "metadata": {},
   "outputs": [],
   "source": [
    "learning_rate = 0.005\n",
    "\n",
    "def train(true_output_tensor, char_sequence_tensor):\n",
    "    hidden = char_rnn.init_hidden()\n",
    "    \n",
    "    # Sets gradients of all model parameters to zero\n",
    "    char_rnn.zero_grad()\n",
    "    \n",
    "    for i in range(char_sequence_tensor.size()[0]):\n",
    "        output, hidden = char_rnn(char_sequence_tensor[i], hidden)\n",
    "\n",
    "    # diagnose datatype error\n",
    "    # import pdb; pdb.set_trace()\n",
    "\n",
    "    loss = criterion(output, true_output_tensor)\n",
    "    loss.backward()\n",
    "    \n",
    "    for p in char_rnn.parameters():\n",
    "        p.data.add_(-learning_rate, p.grad.data)\n",
    "    \n",
    "    return output, loss.item()"
   ]
  },
  {
   "cell_type": "markdown",
   "metadata": {},
   "source": [
    "## Training our Model\n",
    "\n",
    "We will now train our model. Keep track of loss for plotting."
   ]
  },
  {
   "cell_type": "code",
   "execution_count": 15,
   "metadata": {},
   "outputs": [
    {
     "name": "stdout",
     "output_type": "stream",
     "text": [
      "    0 0.00 (0m 00s) 3.8046 | ('r', 'e', 'd', 'i', 'c', 't', ' ', 'T', 'e', 's', 't', '\"', '\"', '\"', '\\n', 'i', 'm', 'p', 'o', 'r') '1' '✗ (t)'\n",
      "    1 0.50 (0m 01s) 3.7301 | ('i', 'm', 'p', 'o', 'r', 't', ' ', 's', 'y', 's', '\\n', 'f', 'r', 'o', 'm', ' ', 'o', 's', ' ', 'i') ' ' '✗ (m)'\n",
      "    3 1.50 (0m 02s) 3.6303 | ('u', 'r', 'n', ' ', 'F', 'a', 'l', 's', 'e', '\\n', '\\n', 'i', 'f', ' ', '_', '_', 'n', 'a', 'm', 'e') ' ' '✗ (_)'\n",
      "    4 2.00 (0m 02s) 4.1199 | ('n', '(', ')', ':', '\\n', ' ', ' ', ' ', ' ', 's', 'y', 's', '.', 's', 't', 'd', 'o', 'u', 't', '.') ' ' '✗ (w)'\n",
      "    6 3.00 (0m 03s) 4.3881 | ('F', 'a', 'l', 's', 'e', '\\n', '\\n', 'i', 'f', ' ', '_', '_', 'n', 'a', 'm', 'e', '_', '_', ' ', '=') ' ' '✗ (=)'\n",
      "    7 3.50 (0m 04s) 4.7695 | (' ', 'F', 'a', 'l', 's', 'e', '\\n', '\\n', 'i', 'f', ' ', '_', '_', 'n', 'a', 'm', 'e', '_', '_', ' ') ' ' '✗ (=)'\n",
      "    9 4.50 (0m 05s) 3.3423 | ('s', 't', 'd', 'o', 'u', 't', '.', 'w', 'r', 'i', 't', 'e', '(', 'g', 'e', 't', 'c', 'w', 'd', '(') ' ' '✗ ())'\n",
      "   11 5.50 (0m 06s) 3.7125 | (' ', 'T', 'e', 's', 't', '\"', '\"', '\"', '\\n', 'i', 'm', 'p', 'o', 'r', 't', ' ', 's', 'y', 's', '\\n') ' ' '✗ (f)'\n",
      "   12 6.00 (0m 07s) 2.8132 | (' ', ':', ' ', 'B', 'o', 'o', 'p', '\"', '.', 'f', 'o', 'r', 'm', 'a', 't', '(', 'i', ')', ',', ' ') ' ' '✗ (i)'\n",
      "   14 7.00 (0m 07s) 0.6634 | ('n', ' ', 'r', 'a', 'n', 'g', 'e', '(', '0', ',', ' ', '1', '0', ')', ':', '\\n', ' ', ' ', ' ', ' ') ' ' '✓'\n",
      "   15 7.50 (0m 08s) 0.8062 | ('o', 'p', '\"', '.', 'f', 'o', 'r', 'm', 'a', 't', '(', 'i', ')', ',', ' ', 'i', ')', '\\n', ' ', ' ') ' ' '✓'\n",
      "   17 8.50 (0m 09s) 2.6351 | ('e', '(', 'g', 'e', 't', 'c', 'w', 'd', '(', ')', ')', '\\n', ' ', ' ', ' ', ' ', 'f', 'o', 'r', ' ') ' ' '✗ (i)'\n",
      "   18 9.00 (0m 10s) 3.0351 | ('<s>', '\"', '\"', '\"', 'P', 'r') ' ' '✗ (e)'\n",
      "   20 10.00 (0m 11s) 2.9627 | ('i', 'n', 't', '(', '\"', '{', '}', ' ', ':', ' ', 'B', 'o', 'o', 'p', '\"', '.', 'f', 'o', 'r', 'm') ' ' '✗ (a)'\n",
      "   22 11.00 (0m 12s) 4.2552 | ('1', '0', ')', ':', '\\n', ' ', ' ', ' ', ' ', ' ', ' ', ' ', ' ', 'p', 'r', 'i', 'n', 't', '(', '\"') '\"' '✗ ({)'\n",
      "   23 11.50 (0m 12s) 2.1865 | ('i', 'f', ' ', '_', '_', 'n', 'a', 'm', 'e', '_', '_', ' ', '=', '=', ' ', '\"', '_', '_', 'm', 'a') ' ' '✗ (i)'\n",
      "   25 12.50 (0m 13s) 1.9315 | (' ', ' ', ' ', 'f', 'o', 'r', ' ', 'i', ' ', 'i', 'n', ' ', 'r', 'a', 'n', 'g', 'e', '(', '0', ',') ' ' '✓'\n",
      "   26 13.00 (0m 14s) 3.5212 | (' ', 'T', 'e', 's', 't', '\"', '\"', '\"', '\\n', 'i', 'm', 'p', 'o', 'r', 't', ' ', 's', 'y', 's', '\\n') ' ' '✗ (f)'\n",
      "   28 14.00 (0m 15s) 2.9366 | (')', ',', ' ', 'i', ')', '\\n', ' ', ' ', ' ', ' ', 'r', 'e', 't', 'u', 'r', 'n', ' ', 'F', 'a', 'l') '\\n' '✗ (s)'\n",
      "   29 14.50 (0m 16s) 2.1906 | ('<s>', '\"', '\"', '\"', 'P', 'r', 'e', 'd', 'i', 'c') 't' '✓'\n",
      "   31 15.50 (0m 17s) 3.0455 | ('o', 's', ' ', 'i', 'm', 'p', 'o', 'r', 't', ' ', 'g', 'e', 't', 'c', 'w', 'd', '\\n', '\\n', 'd', 'e') ' ' '✗ (f)'\n",
      "   33 16.50 (0m 17s) 0.7369 | ('o', 'o', 'p', '\"', '.', 'f', 'o', 'r', 'm', 'a', 't', '(', 'i', ')', ',', ' ', 'i', ')', '\\n', ' ') ' ' '✓'\n",
      "   34 17.00 (0m 18s) 2.7172 | ('m', 'a', 't', '(', 'i', ')', ',', ' ', 'i', ')', '\\n', ' ', ' ', ' ', ' ', 'r', 'e', 't', 'u', 'r') 't' '✗ (n)'\n",
      "   36 18.00 (0m 19s) 3.2863 | (' ', 'o', 's', ' ', 'i', 'm', 'p', 'o', 'r', 't', ' ', 'g', 'e', 't', 'c', 'w', 'd', '\\n', '\\n', 'd') ' ' '✗ (e)'\n",
      "   37 18.50 (0m 20s) 1.4432 | ('\"', '{', '}', ' ', ':', ' ', 'B', 'o', 'o', 'p', '\"', '.', 'f', 'o', 'r', 'm', 'a', 't', '(', 'i') ')' '✓'\n",
      "   39 19.50 (0m 21s) 2.7063 | ('u', 'r', 'n', ' ', 'F', 'a', 'l', 's', 'e', '\\n', '\\n', 'i', 'f', ' ', '_', '_', 'n', 'a', 'm', 'e') '(' '✗ (_)'\n",
      "   41 20.50 (0m 22s) 0.0486 | ('_', ' ', '=', '=', ' ', '\"', '_', '_', 'm', 'a', 'i', 'n', '_', '_', '\"', ':', '\\n', ' ', ' ', ' ') ' ' '✓'\n",
      "   42 21.00 (0m 22s) 1.2024 | ('p', 'o', 'r', 't', ' ', 'g', 'e', 't', 'c', 'w', 'd', '\\n', '\\n', 'd', 'e', 'f', ' ', 'm', 'a', 'i') 'n' '✓'\n",
      "   44 22.00 (0m 23s) 1.8188 | ('e', '(', 'g', 'e', 't', 'c', 'w', 'd', '(', ')', ')', '\\n', ' ', ' ', ' ', ' ', 'f', 'o', 'r', ' ') 'n' '✗ (i)'\n",
      "   45 22.50 (0m 24s) 3.5906 | ('g', 'e', '(', '0', ',', ' ', '1', '0', ')', ':', '\\n', ' ', ' ', ' ', ' ', ' ', ' ', ' ', ' ', 'p') ' ' '✗ (r)'\n",
      "   47 23.50 (0m 25s) 1.4564 | (' ', '1', '0', ')', ':', '\\n', ' ', ' ', ' ', ' ', ' ', ' ', ' ', ' ', 'p', 'r', 'i', 'n', 't', '(') '\"' '✓'\n",
      "   48 24.00 (0m 26s) 0.0308 | ('t', ' ', 's', 'y', 's', '\\n', 'f', 'r', 'o', 'm', ' ', 'o', 's', ' ', 'i', 'm', 'p', 'o', 'r', 't') ' ' '✓'\n",
      "   50 25.00 (0m 27s) 0.2795 | ('e', 'f', ' ', 'm', 'a', 'i', 'n', '(', ')', ':', '\\n', ' ', ' ', ' ', ' ', 's', 'y', 's', '.', 's') 't' '✓'\n",
      "   52 26.00 (0m 28s) 0.3520 | ('=', ' ', '\"', '_', '_', 'm', 'a', 'i', 'n', '_', '_', '\"', ':', '\\n', ' ', ' ', ' ', ' ', 'm', 'a') 'i' '✓'\n",
      "   53 26.50 (0m 29s) 0.1246 | ('c', 'w', 'd', '\\n', '\\n', 'd', 'e', 'f', ' ', 'm', 'a', 'i', 'n', '(', ')', ':', '\\n', ' ', ' ', ' ') ' ' '✓'\n",
      "   55 27.50 (0m 30s) 0.2516 | ('e', '(', 'g', 'e', 't', 'c', 'w', 'd', '(', ')', ')', '\\n', ' ', ' ', ' ', ' ', 'f', 'o', 'r', ' ') 'i' '✓'\n",
      "   56 28.00 (0m 30s) 0.4592 | ('0', ',', ' ', '1', '0', ')', ':', '\\n', ' ', ' ', ' ', ' ', ' ', ' ', ' ', ' ', 'p', 'r', 'i', 'n') 't' '✓'\n",
      "   58 29.00 (0m 31s) 1.4474 | ('i', 'c', 't', ' ', 'T', 'e', 's', 't', '\"', '\"', '\"', '\\n', 'i', 'm', 'p', 'o', 'r', 't', ' ', 's') 'e' '✗ (y)'\n",
      "   59 29.50 (0m 32s) 2.4096 | ('(', '\"', '{', '}', ' ', ':', ' ', 'B', 'o', 'o', 'p', '\"', '.', 'f', 'o', 'r', 'm', 'a', 't', '(') '\"' '✗ (i)'\n",
      "   61 30.50 (0m 33s) 1.0799 | ('o', 'm', ' ', 'o', 's', ' ', 'i', 'm', 'p', 'o', 'r', 't', ' ', 'g', 'e', 't', 'c', 'w', 'd', '\\n') '\\n' '✓'\n",
      "   63 31.50 (0m 34s) 2.0486 | (' ', 'i', ')', '\\n', ' ', ' ', ' ', ' ', 'r', 'e', 't', 'u', 'r', 'n', ' ', 'F', 'a', 'l', 's', 'e') '(' '✗ (\\n)'\n",
      "   64 32.00 (0m 34s) 0.5435 | ('r', 't', ' ', 's', 'y', 's', '\\n', 'f', 'r', 'o', 'm', ' ', 'o', 's', ' ', 'i', 'm', 'p', 'o', 'r') 't' '✓'\n",
      "   66 33.00 (0m 35s) 0.1988 | ('_', 'm', 'a', 'i', 'n', '_', '_', '\"', ':', '\\n', ' ', ' ', ' ', ' ', 'm', 'a', 'i', 'n', '(', ')') '\\n' '✓'\n",
      "   67 33.50 (0m 36s) 0.1188 | ('<s>', '\"', '\"', '\"', 'P', 'r', 'e', 'd', 'i', 'c', 't', ' ', 'T', 'e', 's') 't' '✓'\n",
      "   69 34.50 (0m 37s) 1.3778 | ('g', 'e', 't', 'c', 'w', 'd', '(', ')', ')', '\\n', ' ', ' ', ' ', ' ', 'f', 'o', 'r', ' ', 'i', ' ') 'i' '✓'\n",
      "   70 35.00 (0m 38s) 0.1112 | ('o', 'p', '\"', '.', 'f', 'o', 'r', 'm', 'a', 't', '(', 'i', ')', ',', ' ', 'i', ')', '\\n', ' ', ' ') ' ' '✓'\n",
      "   72 36.00 (0m 39s) 0.7797 | ('t', 'c', 'w', 'd', '\\n', '\\n', 'd', 'e', 'f', ' ', 'm', 'a', 'i', 'n', '(', ')', ':', '\\n', ' ', ' ') ' ' '✓'\n",
      "   74 37.00 (0m 40s) 1.8319 | ('e', '_', '_', ' ', '=', '=', ' ', '\"', '_', '_', 'm', 'a', 'i', 'n', '_', '_', '\"', ':', '\\n', ' ') 'm' '✗ ( )'\n",
      "   75 37.50 (0m 40s) 0.2668 | ('i', 'n', 't', '(', '\"', '{', '}', ' ', ':', ' ', 'B', 'o', 'o', 'p', '\"', '.', 'f', 'o', 'r', 'm') 'a' '✓'\n",
      "   77 38.50 (0m 41s) 0.0097 | ('\"', 'P', 'r', 'e', 'd', 'i', 'c', 't', ' ', 'T', 'e', 's', 't', '\"', '\"', '\"', '\\n', 'i', 'm', 'p') 'o' '✓'\n",
      "   78 39.00 (0m 42s) 0.8927 | ('(', 'i', ')', ',', ' ', 'i', ')', '\\n', ' ', ' ', ' ', ' ', 'r', 'e', 't', 'u', 'r', 'n', ' ', 'F') 'a' '✓'\n",
      "   80 40.00 (0m 43s) 1.1304 | ('d', '\\n', '\\n', 'd', 'e', 'f', ' ', 'm', 'a', 'i', 'n', '(', ')', ':', '\\n', ' ', ' ', ' ', ' ', 's') 'y' '✓'\n",
      "   82 41.00 (0m 44s) 0.0854 | ('s', 't', 'd', 'o', 'u', 't', '.', 'w', 'r', 'i', 't', 'e', '(', 'g', 'e', 't', 'c', 'w', 'd', '(') ')' '✓'\n",
      "   83 41.50 (0m 45s) 0.5519 | ('\\n', 'i', 'f', ' ', '_', '_', 'n', 'a', 'm', 'e', '_', '_', ' ', '=', '=', ' ', '\"', '_', '_', 'm') 'a' '✓'\n",
      "   85 42.50 (0m 46s) 0.9459 | ('r', 'e', 'd', 'i', 'c', 't', ' ', 'T', 'e', 's', 't', '\"', '\"', '\"', '\\n', 'i', 'm', 'p', 'o', 'r') 't' '✓'\n",
      "   86 43.00 (0m 47s) 0.2103 | ('(', ')', ')', '\\n', ' ', ' ', ' ', ' ', 'f', 'o', 'r', ' ', 'i', ' ', 'i', 'n', ' ', 'r', 'a', 'n') 'g' '✓'\n",
      "   88 44.00 (0m 48s) 1.3773 | ('<s>', '\"', '\"', '\"', 'P', 'r', 'e', 'd', 'i', 'c', 't', ' ', 'T', 'e', 's', 't', '\"', '\"', '\"', '\\n') '_' '✗ (i)'\n",
      "   89 44.50 (0m 48s) 2.3363 | ('<s>',) '\"' '✓'\n",
      "   91 45.50 (0m 49s) 0.2175 | ('\\n', ' ', ' ', ' ', ' ', ' ', ' ', ' ', ' ', 'p', 'r', 'i', 'n', 't', '(', '\"', '{', '}', ' ', ':') ' ' '✓'\n",
      "   93 46.50 (0m 50s) 0.0176 | (',', ' ', 'i', ')', '\\n', ' ', ' ', ' ', ' ', 'r', 'e', 't', 'u', 'r', 'n', ' ', 'F', 'a', 'l', 's') 'e' '✓'\n"
     ]
    },
    {
     "name": "stdout",
     "output_type": "stream",
     "text": [
      "   94 47.00 (0m 51s) 0.1293 | ('s', 'e', '\\n', '\\n', 'i', 'f', ' ', '_', '_', 'n', 'a', 'm', 'e', '_', '_', ' ', '=', '=', ' ', '\"') '_' '✓'\n",
      "   96 48.00 (0m 52s) 0.0669 | ('s', 'y', 's', '\\n', 'f', 'r', 'o', 'm', ' ', 'o', 's', ' ', 'i', 'm', 'p', 'o', 'r', 't', ' ', 'g') 'e' '✓'\n",
      "   97 48.50 (0m 53s) 0.1730 | ('o', 'r', 't', ' ', 's', 'y', 's', '\\n', 'f', 'r', 'o', 'm', ' ', 'o', 's', ' ', 'i', 'm', 'p', 'o') 'r' '✓'\n",
      "   99 49.50 (0m 54s) 0.2685 | (')', '\\n', ' ', ' ', ' ', ' ', 'f', 'o', 'r', ' ', 'i', ' ', 'i', 'n', ' ', 'r', 'a', 'n', 'g', 'e') '(' '✓'\n",
      "  100 50.00 (0m 55s) 0.0608 | (' ', '1', '0', ')', ':', '\\n', ' ', ' ', ' ', ' ', ' ', ' ', ' ', ' ', 'p', 'r', 'i', 'n', 't', '(') '\"' '✓'\n",
      "  102 51.00 (0m 55s) 0.0629 | ('n', ' ', 'F', 'a', 'l', 's', 'e', '\\n', '\\n', 'i', 'f', ' ', '_', '_', 'n', 'a', 'm', 'e', '_', '_') ' ' '✓'\n",
      "  104 52.00 (0m 56s) 0.0056 | ('m', 'p', 'o', 'r', 't', ' ', 'g', 'e', 't', 'c', 'w', 'd', '\\n', '\\n', 'd', 'e', 'f', ' ', 'm', 'a') 'i' '✓'\n",
      "  105 52.50 (0m 57s) 0.0029 | ('i', 'f', ' ', '_', '_', 'n', 'a', 'm', 'e', '_', '_', ' ', '=', '=', ' ', '\"', '_', '_', 'm', 'a') 'i' '✓'\n",
      "  107 53.50 (0m 58s) 0.0409 | ('r', 'e', 'd', 'i', 'c', 't', ' ', 'T', 'e', 's', 't', '\"', '\"', '\"', '\\n', 'i', 'm', 'p', 'o', 'r') 't' '✓'\n",
      "  108 54.00 (0m 59s) 0.0062 | ('r', 'e', 'd', 'i', 'c', 't', ' ', 'T', 'e', 's', 't', '\"', '\"', '\"', '\\n', 'i', 'm', 'p', 'o', 'r') 't' '✓'\n",
      "  110 55.00 (1m 00s) 0.2593 | ('o', 'r', ' ', 'i', ' ', 'i', 'n', ' ', 'r', 'a', 'n', 'g', 'e', '(', '0', ',', ' ', '1', '0', ')') ':' '✓'\n",
      "  111 55.50 (1m 01s) 0.2032 | (' ', 'o', 's', ' ', 'i', 'm', 'p', 'o', 'r', 't', ' ', 'g', 'e', 't', 'c', 'w', 'd', '\\n', '\\n', 'd') 'e' '✓'\n",
      "  113 56.50 (1m 01s) 0.0207 | (' ', 'i', ' ', 'i', 'n', ' ', 'r', 'a', 'n', 'g', 'e', '(', '0', ',', ' ', '1', '0', ')', ':', '\\n') ' ' '✓'\n",
      "  115 57.50 (1m 02s) 0.0012 | ('_', '_', 'n', 'a', 'm', 'e', '_', '_', ' ', '=', '=', ' ', '\"', '_', '_', 'm', 'a', 'i', 'n', '_') '_' '✓'\n",
      "  116 58.00 (1m 03s) 0.0007 | ('o', 's', ' ', 'i', 'm', 'p', 'o', 'r', 't', ' ', 'g', 'e', 't', 'c', 'w', 'd', '\\n', '\\n', 'd', 'e') 'f' '✓'\n",
      "  118 59.00 (1m 04s) 0.0124 | (')', ',', ' ', 'i', ')', '\\n', ' ', ' ', ' ', ' ', 'r', 'e', 't', 'u', 'r', 'n', ' ', 'F', 'a', 'l') 's' '✓'\n",
      "  119 59.50 (1m 05s) 0.0351 | ('\"', '\"', '\"', '\\n', 'i', 'm', 'p', 'o', 'r', 't', ' ', 's', 'y', 's', '\\n', 'f', 'r', 'o', 'm', ' ') 'o' '✓'\n",
      "  121 60.50 (1m 06s) 0.0015 | ('_', '_', ' ', '=', '=', ' ', '\"', '_', '_', 'm', 'a', 'i', 'n', '_', '_', '\"', ':', '\\n', ' ', ' ') ' ' '✓'\n",
      "  123 61.50 (1m 07s) 0.0045 | ('t', 'c', 'w', 'd', '(', ')', ')', '\\n', ' ', ' ', ' ', ' ', 'f', 'o', 'r', ' ', 'i', ' ', 'i', 'n') ' ' '✓'\n",
      "  124 62.00 (1m 07s) 0.0031 | ('e', 'd', 'i', 'c', 't', ' ', 'T', 'e', 's', 't', '\"', '\"', '\"', '\\n', 'i', 'm', 'p', 'o', 'r', 't') ' ' '✓'\n",
      "  126 63.00 (1m 08s) 0.0004 | ('_', '_', 'n', 'a', 'm', 'e', '_', '_', ' ', '=', '=', ' ', '\"', '_', '_', 'm', 'a', 'i', 'n', '_') '_' '✓'\n",
      "  127 63.50 (1m 09s) 0.0015 | ('m', 'p', 'o', 'r', 't', ' ', 'g', 'e', 't', 'c', 'w', 'd', '\\n', '\\n', 'd', 'e', 'f', ' ', 'm', 'a') 'i' '✓'\n",
      "  129 64.50 (1m 10s) 0.0024 | ('d', 'i', 'c', 't', ' ', 'T', 'e', 's', 't', '\"', '\"', '\"', '\\n', 'i', 'm', 'p', 'o', 'r', 't', ' ') 's' '✓'\n",
      "  130 65.00 (1m 11s) 0.0027 | ('(', ')', ':', '\\n', ' ', ' ', ' ', ' ', 's', 'y', 's', '.', 's', 't', 'd', 'o', 'u', 't', '.', 'w') 'r' '✓'\n",
      "  132 66.00 (1m 12s) 0.0012 | ('\"', '{', '}', ' ', ':', ' ', 'B', 'o', 'o', 'p', '\"', '.', 'f', 'o', 'r', 'm', 'a', 't', '(', 'i') ')' '✓'\n",
      "  134 67.00 (1m 13s) 0.0048 | (')', '\\n', ' ', ' ', ' ', ' ', 'f', 'o', 'r', ' ', 'i', ' ', 'i', 'n', ' ', 'r', 'a', 'n', 'g', 'e') '(' '✓'\n",
      "  135 67.50 (1m 13s) 0.0071 | ('\"', '\"', '\"', '\\n', 'i', 'm', 'p', 'o', 'r', 't', ' ', 's', 'y', 's', '\\n', 'f', 'r', 'o', 'm', ' ') 'o' '✓'\n",
      "  137 68.50 (1m 14s) 0.0048 | (':', '\\n', ' ', ' ', ' ', ' ', 's', 'y', 's', '.', 's', 't', 'd', 'o', 'u', 't', '.', 'w', 'r', 'i') 't' '✓'\n",
      "  138 69.00 (1m 14s) 0.0022 | ('T', 'e', 's', 't', '\"', '\"', '\"', '\\n', 'i', 'm', 'p', 'o', 'r', 't', ' ', 's', 'y', 's', '\\n', 'f') 'r' '✓'\n",
      "  140 70.00 (1m 15s) 0.0000 | ('i', 'f', ' ', '_', '_', 'n', 'a', 'm', 'e', '_', '_', ' ', '=', '=', ' ', '\"', '_', '_', 'm', 'a') 'i' '✓'\n",
      "  141 70.50 (1m 16s) 0.0029 | (' ', 'F', 'a', 'l', 's', 'e', '\\n', '\\n', 'i', 'f', ' ', '_', '_', 'n', 'a', 'm', 'e', '_', '_', ' ') '=' '✓'\n",
      "  143 71.50 (1m 17s) 0.0005 | ('\"', '{', '}', ' ', ':', ' ', 'B', 'o', 'o', 'p', '\"', '.', 'f', 'o', 'r', 'm', 'a', 't', '(', 'i') ')' '✓'\n",
      "  145 72.50 (1m 17s) 0.0021 | ('<s>', '\"', '\"', '\"', 'P', 'r', 'e', 'd', 'i', 'c', 't', ' ', 'T', 'e') 's' '✓'\n",
      "  146 73.00 (1m 18s) 0.0032 | (')', '\\n', ' ', ' ', ' ', ' ', 'f', 'o', 'r', ' ', 'i', ' ', 'i', 'n', ' ', 'r', 'a', 'n', 'g', 'e') '(' '✓'\n",
      "  148 74.00 (1m 19s) 0.0000 | ('\"', 'P', 'r', 'e', 'd', 'i', 'c', 't', ' ', 'T', 'e', 's', 't', '\"', '\"', '\"', '\\n', 'i', 'm', 'p') 'o' '✓'\n",
      "  149 74.50 (1m 20s) 0.0016 | ('r', 'e', 'd', 'i', 'c', 't', ' ', 'T', 'e', 's', 't', '\"', '\"', '\"', '\\n', 'i', 'm', 'p', 'o', 'r') 't' '✓'\n",
      "  151 75.50 (1m 21s) 0.0000 | ('t', 'c', 'w', 'd', '\\n', '\\n', 'd', 'e', 'f', ' ', 'm', 'a', 'i', 'n', '(', ')', ':', '\\n', ' ', ' ') ' ' '✓'\n",
      "  152 76.00 (1m 22s) 0.0019 | ('\\n', 'd', 'e', 'f', ' ', 'm', 'a', 'i', 'n', '(', ')', ':', '\\n', ' ', ' ', ' ', ' ', 's', 'y', 's') '.' '✓'\n",
      "  154 77.00 (1m 23s) 0.0016 | ('(', '0', ',', ' ', '1', '0', ')', ':', '\\n', ' ', ' ', ' ', ' ', ' ', ' ', ' ', ' ', 'p', 'r', 'i') 'n' '✓'\n",
      "  156 78.00 (1m 24s) 0.0005 | ('<s>', '\"', '\"', '\"', 'P', 'r', 'e', 'd', 'i', 'c', 't', ' ', 'T', 'e', 's', 't', '\"', '\"', '\"') '\\n' '✓'\n",
      "  157 78.50 (1m 25s) 0.0023 | ('f', ' ', '_', '_', 'n', 'a', 'm', 'e', '_', '_', ' ', '=', '=', ' ', '\"', '_', '_', 'm', 'a', 'i') 'n' '✓'\n",
      "  159 79.50 (1m 25s) 0.0001 | ('o', 's', ' ', 'i', 'm', 'p', 'o', 'r', 't', ' ', 'g', 'e', 't', 'c', 'w', 'd', '\\n', '\\n', 'd', 'e') 'f' '✓'\n",
      "  160 80.00 (1m 26s) 0.0012 | ('(', '0', ',', ' ', '1', '0', ')', ':', '\\n', ' ', ' ', ' ', ' ', ' ', ' ', ' ', ' ', 'p', 'r', 'i') 'n' '✓'\n",
      "  162 81.00 (1m 27s) 0.0011 | ('\"', '\"', '\"', 'P', 'r', 'e', 'd', 'i', 'c', 't', ' ', 'T', 'e', 's', 't', '\"', '\"', '\"', '\\n', 'i') 'm' '✓'\n",
      "  164 82.00 (1m 28s) 0.0002 | ('(', '\"', '{', '}', ' ', ':', ' ', 'B', 'o', 'o', 'p', '\"', '.', 'f', 'o', 'r', 'm', 'a', 't', '(') 'i' '✓'\n",
      "  165 82.50 (1m 29s) 0.0078 | ('<s>', '\"', '\"', '\"', 'P', 'r', 'e') 'd' '✓'\n",
      "  167 83.50 (1m 30s) 0.0013 | ('<s>', '\"', '\"', '\"', 'P', 'r', 'e', 'd', 'i', 'c', 't', ' ', 'T', 'e') 's' '✓'\n",
      "  168 84.00 (1m 31s) 0.0010 | ('\\n', ' ', ' ', ' ', ' ', 'r', 'e', 't', 'u', 'r', 'n', ' ', 'F', 'a', 'l', 's', 'e', '\\n', '\\n', 'i') 'f' '✓'\n",
      "  170 85.00 (1m 31s) 0.0012 | (' ', ' ', ' ', ' ', ' ', ' ', 'p', 'r', 'i', 'n', 't', '(', '\"', '{', '}', ' ', ':', ' ', 'B', 'o') 'o' '✓'\n",
      "  171 85.50 (1m 32s) 0.0003 | (' ', '\"', '_', '_', 'm', 'a', 'i', 'n', '_', '_', '\"', ':', '\\n', ' ', ' ', ' ', ' ', 'm', 'a', 'i') 'n' '✓'\n",
      "  173 86.50 (1m 33s) 0.0005 | ('\\n', '\\n', 'd', 'e', 'f', ' ', 'm', 'a', 'i', 'n', '(', ')', ':', '\\n', ' ', ' ', ' ', ' ', 's', 'y') 's' '✓'\n",
      "  175 87.50 (1m 34s) 0.0000 | ('t', '.', 'w', 'r', 'i', 't', 'e', '(', 'g', 'e', 't', 'c', 'w', 'd', '(', ')', ')', '\\n', ' ', ' ') ' ' '✓'\n",
      "  176 88.00 (1m 35s) 0.0001 | ('n', 't', '(', '\"', '{', '}', ' ', ':', ' ', 'B', 'o', 'o', 'p', '\"', '.', 'f', 'o', 'r', 'm', 'a') 't' '✓'\n",
      "  178 89.00 (1m 36s) 0.0003 | ('i', ' ', 'i', 'n', ' ', 'r', 'a', 'n', 'g', 'e', '(', '0', ',', ' ', '1', '0', ')', ':', '\\n', ' ') ' ' '✓'\n",
      "  179 89.50 (1m 37s) 0.0078 | ('<s>', '\"', '\"', '\"', 'P') 'r' '✓'\n",
      "  181 90.50 (1m 37s) 0.0001 | ('d', 'i', 'c', 't', ' ', 'T', 'e', 's', 't', '\"', '\"', '\"', '\\n', 'i', 'm', 'p', 'o', 'r', 't', ' ') 's' '✓'\n",
      "  182 91.00 (1m 38s) 0.0003 | ('t', 'd', 'o', 'u', 't', '.', 'w', 'r', 'i', 't', 'e', '(', 'g', 'e', 't', 'c', 'w', 'd', '(', ')') ')' '✓'\n",
      "  184 92.00 (1m 39s) 0.0011 | ('<s>', '\"', '\"', '\"', 'P', 'r', 'e', 'd', 'i', 'c', 't', ' ', 'T') 'e' '✓'\n",
      "  186 93.00 (1m 40s) 0.0006 | (' ', 'i', 'n', ' ', 'r', 'a', 'n', 'g', 'e', '(', '0', ',', ' ', '1', '0', ')', ':', '\\n', ' ', ' ') ' ' '✓'\n",
      "  187 93.50 (1m 41s) 0.0002 | ('t', ' ', 's', 'y', 's', '\\n', 'f', 'r', 'o', 'm', ' ', 'o', 's', ' ', 'i', 'm', 'p', 'o', 'r', 't') ' ' '✓'\n",
      "  189 94.50 (1m 42s) 0.0010 | (' ', 'r', 'a', 'n', 'g', 'e', '(', '0', ',', ' ', '1', '0', ')', ':', '\\n', ' ', ' ', ' ', ' ', ' ') ' ' '✓'\n"
     ]
    },
    {
     "name": "stdout",
     "output_type": "stream",
     "text": [
      "  190 95.00 (1m 42s) 0.0010 | (':', ' ', 'B', 'o', 'o', 'p', '\"', '.', 'f', 'o', 'r', 'm', 'a', 't', '(', 'i', ')', ',', ' ', 'i') ')' '✓'\n",
      "  192 96.00 (1m 43s) 0.0001 | ('w', 'd', '\\n', '\\n', 'd', 'e', 'f', ' ', 'm', 'a', 'i', 'n', '(', ')', ':', '\\n', ' ', ' ', ' ', ' ') 's' '✓'\n",
      "  194 97.00 (1m 44s) 0.0003 | ('l', 's', 'e', '\\n', '\\n', 'i', 'f', ' ', '_', '_', 'n', 'a', 'm', 'e', '_', '_', ' ', '=', '=', ' ') '\"' '✓'\n",
      "  195 97.50 (1m 45s) 0.0009 | ('p', 'r', 'i', 'n', 't', '(', '\"', '{', '}', ' ', ':', ' ', 'B', 'o', 'o', 'p', '\"', '.', 'f', 'o') 'r' '✓'\n",
      "  197 98.50 (1m 46s) 0.0004 | (' ', 'r', 'e', 't', 'u', 'r', 'n', ' ', 'F', 'a', 'l', 's', 'e', '\\n', '\\n', 'i', 'f', ' ', '_', '_') 'n' '✓'\n",
      "  198 99.00 (1m 47s) 0.0001 | ('_', '_', 'n', 'a', 'm', 'e', '_', '_', ' ', '=', '=', ' ', '\"', '_', '_', 'm', 'a', 'i', 'n', '_') '_' '✓'\n"
     ]
    }
   ],
   "source": [
    "n_epochs = 200\n",
    "print_every = 347\n",
    "window_size = 20\n",
    "\n",
    "file_char_seq = (FILE_START,) + tuple(text) + (FILE_END, )\n",
    "\n",
    "# Keep track of losses for plotting\n",
    "all_losses = []\n",
    "\n",
    "def time_since(since):\n",
    "    delta = time() - since\n",
    "    sec = int(delta)\n",
    "    mins = floor(sec / 60)\n",
    "    sec -= mins * 60\n",
    "    return \"{}m {:0>2d}s\".format(mins, sec)\n",
    "\n",
    "start = time()\n",
    "iter_idx = 0\n",
    "\n",
    "# This generator will terminate when it finishes the file.\n",
    "for epoch_idx in range(n_epochs):\n",
    "    #gen = sliding_window_generator(file_char_seq, window_size)\n",
    "    gen = dynamic_sliding_window_generator(file_char_seq, max_window_size=window_size, gen_forever=False)\n",
    "    for input_char_seq, output_char in gen:\n",
    "        input_seq_tensor = charseq_to_tensor(input_char_seq)\n",
    "\n",
    "        # output_tensor = char_to_tensor(output_char)\n",
    "        # NLLLoss expects the output tensor to be datatype long index of expected character\n",
    "        output_tensor = torch.tensor([char2int[output_char]], dtype=torch.long)\n",
    "        output, loss = train(output_tensor, input_seq_tensor)\n",
    "        \n",
    "        # Print iter number, loss, name and guess\n",
    "        if iter_idx % print_every == 0:\n",
    "            guess, guess_i = char_from_output(output)\n",
    "            correct = \"✓\" if guess == output_char else \"✗ ({})\".format(output_char)\n",
    "            print(\"{:5d} {:.2f} ({}) {:.4f} | {} {} {}\".format(\n",
    "                epoch_idx, epoch_idx/n_epochs * 100, time_since(start), loss,\n",
    "                input_char_seq, repr(guess), repr(correct)))\n",
    "        iter_idx += 1\n",
    "\n",
    "    # Add current loss avg to list of losses after each epoch\n",
    "    all_losses.append(loss)\n"
   ]
  },
  {
   "cell_type": "markdown",
   "metadata": {},
   "source": [
    "## Plotting the Training Process\n",
    "\n",
    "Plotting the historical loss from `all_losses` shows the network learning!"
   ]
  },
  {
   "cell_type": "code",
   "execution_count": 16,
   "metadata": {},
   "outputs": [
    {
     "data": {
      "text/plain": [
       "[<matplotlib.lines.Line2D at 0x7ff10a617b38>]"
      ]
     },
     "execution_count": 16,
     "metadata": {},
     "output_type": "execute_result"
    },
    {
     "data": {
      "image/png": "[encoded data removed]",
      "text/plain": [
       "<Figure size 432x288 with 1 Axes>"
      ]
     },
     "metadata": {
      "needs_background": "light"
     },
     "output_type": "display_data"
    }
   ],
   "source": [
    "plt.figure()\n",
    "plt.title(\"Char-RNN Toy Source Code Loss over Epoch\")\n",
    "plt.xlabel(\"Epoch\")\n",
    "plt.ylabel(\"Negative Log Likelihood\")\n",
    "plt.plot(all_losses)"
   ]
  },
  {
   "cell_type": "markdown",
   "metadata": {},
   "source": [
    "## Evaluating our Model Results\n",
    "\n",
    "Are there certain characters that the network predicts better than others?\n",
    "\n",
    "How well can the neural network predict each character? We can visualize this using a confusion matrix."
   ]
  },
  {
   "cell_type": "code",
   "execution_count": 17,
   "metadata": {},
   "outputs": [],
   "source": [
    "# Keep track of correct guesses in a confusion matrix\n",
    "n_predictabchars = len(characters)\n",
    "confusion = np.zeros((n_chars, n_chars))\n",
    "n_confusion = 10000\n",
    "\n",
    "gen = dynamic_sliding_window_generator(file_char_seq, window_size)\n",
    "\n",
    "def evaluate(line_tensor, hidden = char_rnn.init_hidden()):\n",
    "    \"\"\"Return an output, given a line.\"\"\"\n",
    "    for i in range(line_tensor.size()[0]):\n",
    "        output, hidden = char_rnn(line_tensor[i], hidden)\n",
    "    return output, hidden\n",
    "\n",
    "\n",
    "# Keep track of a bunch of examples and record which are correctly guessed\n",
    "for i in range(n_confusion):\n",
    "    input_char_seq, true_output_char = next(gen)\n",
    "    true_output_idx = char2int[true_output_char]\n",
    "\n",
    "    input_seq_tensor = charseq_to_tensor(input_char_seq)\n",
    "    pred_output_tensor, _ = evaluate(input_seq_tensor)\n",
    "    pred_output_char, pred_output_idx = char_from_output(pred_output_tensor)\n",
    "    \n",
    "    confusion[true_output_idx][pred_output_idx] += 1\n",
    "\n",
    "# Normalize by dividing every row by its sum\n",
    "for i in range(confusion.shape[0]):\n",
    "    row_sum = confusion[i].sum()\n",
    "    if row_sum <= 0:\n",
    "        # the next discretely distinguishable floating point value greater than zero\n",
    "        row_sum = np.nextafter(0,1) \n",
    "    confusion[i] = confusion[i] / row_sum"
   ]
  },
  {
   "cell_type": "markdown",
   "metadata": {},
   "source": [
    "The confusion matrix can now be plotted. "
   ]
  },
  {
   "cell_type": "code",
   "execution_count": 18,
   "metadata": {},
   "outputs": [
    {
     "data": {
      "image/png": "[encoded data removed]",
      "text/plain": [
       "<Figure size 1200x1200 with 2 Axes>"
      ]
     },
     "metadata": {
      "needs_background": "light"
     },
     "output_type": "display_data"
    }
   ],
   "source": [
    "# Plot the confusion matrix\n",
    "fig = plt.figure(figsize=(15, 15), dpi=80)\n",
    "ax = fig.add_subplot(111)\n",
    "cax = ax.matshow(confusion)\n",
    "fig.colorbar(cax)\n",
    "\n",
    "# Setup Axes labels, make whitespace more readable\n",
    "char_labels = [val for key, val in sorted(int2char.items())]\n",
    "for idx, char_label in enumerate(char_labels):\n",
    "    if char_label in [\" \", \"\\n\"]:\n",
    "        char_labels[idx] = repr(char_label)\n",
    "ax.set_xticklabels([\"\"] + char_labels, rotation=90)\n",
    "ax.set_yticklabels([\"\"] + char_labels)\n",
    "\n",
    "# Force a label at every tick\n",
    "ax.xaxis.set_major_locator(ticker.MultipleLocator(1))\n",
    "ax.yaxis.set_major_locator(ticker.MultipleLocator(1))\n",
    "# plt.xlabel(\"Actual Charcter\")\n",
    "plt.ylabel(\"Predicted Character\")\n",
    "plt.title(\"Predicted Character to Actual Character\")\n",
    "plt.show()"
   ]
  },
  {
   "cell_type": "markdown",
   "metadata": {},
   "source": [
    "## Using User Specified Input\n",
    "\n",
    "You can test this yourself by supplying your own prelimiary Python source code."
   ]
  },
  {
   "cell_type": "code",
   "execution_count": 19,
   "metadata": {},
   "outputs": [
    {
     "name": "stdout",
     "output_type": "stream",
     "text": [
      "<s>\n",
      "~~~~~Auto Completion~~~~~\n",
      "<s>\"\"\"Predict Test\"\"\"\n",
      "import sys\n",
      "from os import getcwd\n",
      "\n",
      "def main():\n",
      "    sys.stdout.write(getcwd())\n",
      "    for i in range(0, 10):\n",
      "        print(\"{} : Boop\".format(i), i)\n",
      "    return False\n",
      "\n",
      "if __name__ == \"__main__\":\n",
      "    main()\n"
     ]
    }
   ],
   "source": [
    "def predict(input_char_seq, max_len=1000):\n",
    "    print(\"\".join(input_char_seq))\n",
    "    print(\"~~~~~Auto Completion~~~~~\")\n",
    "    with torch.no_grad():\n",
    "        print(\"\".join(input_char_seq), end=\"\")\n",
    "        output, hidden = evaluate(charseq_to_tensor(input_char_seq))\n",
    "\n",
    "        for i in range(max_len):\n",
    "            # Suggestion: Maybe probabalistically choose using weights over all choices?\n",
    "            topv, topi = output.topk(1, 1, True)        \n",
    "            # value = topv[0][0].item()\n",
    "            char_idx = topi[0][0].item()\n",
    "            next_char = int2char[char_idx]\n",
    "            if next_char == FILE_END:\n",
    "                return\n",
    "            print(next_char, end=\"\")\n",
    "            input_char_seq = input_char_seq + (next_char, )\n",
    "            output, hidden = evaluate(charseq_to_tensor(input_char_seq[-window_size:]))\n",
    "        print(\"\\n~~~~~max_len reached~~~~~\")\n",
    "\n",
    "# Replace CODE with whatever you want\n",
    "CODE = (FILE_START,) # this is symbolic, to demonstrate that we have memorized the training data.\n",
    "# CODE = \"print(\"\n",
    "predict(tuple(CODE))"
   ]
  },
  {
   "cell_type": "markdown",
   "metadata": {},
   "source": [
    "Does it work with your own data? Some arbitrary starting text?"
   ]
  },
  {
   "cell_type": "code",
   "execution_count": 20,
   "metadata": {
    "scrolled": true
   },
   "outputs": [
    {
     "name": "stdout",
     "output_type": "stream",
     "text": [
      "ale\n",
      "~~~~~Auto Completion~~~~~\n",
      "ale\"\n",
      "\n",
      "e       eeiot T{s.\n",
      "pdoetuwn=rd(get w ():r    sys stio\"t.mrire(getcwd())\n",
      "     or i in range(0, 10):\n",
      "        print(\"{} : Boop\".format(i), i)\n",
      "    return False\n",
      "\n",
      "if __name__ == \"__main__\":\n",
      "    main()\n"
     ]
    }
   ],
   "source": [
    "CODE = \"ale\"\n",
    "predict(tuple(CODE))"
   ]
  },
  {
   "cell_type": "markdown",
   "metadata": {},
   "source": [
    "Next approaches will involve using Gated Recurrent Units and LSTM units. "
   ]
  }
 ],
 "metadata": {
  "kernelspec": {
   "display_name": "Python 3",
   "language": "python",
   "name": "python3"
  },
  "language_info": {
   "codemirror_mode": {
    "name": "ipython",
    "version": 3
   },
   "file_extension": ".py",
   "mimetype": "text/x-python",
   "name": "python",
   "nbconvert_exporter": "python",
   "pygments_lexer": "ipython3",
   "version": "3.6.7"
  }
 },
 "nbformat": 4,
 "nbformat_minor": 2
}
