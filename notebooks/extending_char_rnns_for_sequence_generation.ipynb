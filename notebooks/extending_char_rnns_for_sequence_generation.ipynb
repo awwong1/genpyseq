{
 "cells": [
  {
   "cell_type": "code",
   "execution_count": 1,
   "metadata": {},
   "outputs": [],
   "source": [
    "%matplotlib inline"
   ]
  },
  {
   "cell_type": "markdown",
   "metadata": {},
   "source": [
    "# Extending Character Level Recurrent Networks for Sequence Generation\n",
    "\n",
    "We extend the approach outlined in `char_rnn_one_file_code_gen.ipynb` to improve efficiency and to accomodate other recurrent layer types. Notably, we introduce:\n",
    "\n",
    "* Training will use multiple files instead of a single file\n",
    "* Validation sets will be introduced to avoid overfitting on our training data\n",
    "* Mini-batches for training speedup\n",
    "\n",
    "Our outlined task is still the same.\n",
    "\n",
    "**Given a sequence of characters, predict the next likely character in the sequence.**"
   ]
  },
  {
   "cell_type": "code",
   "execution_count": 2,
   "metadata": {},
   "outputs": [],
   "source": [
    "import numpy as np\n",
    "import torch\n",
    "import torch.nn as nn\n",
    "import matplotlib.pyplot as plt\n",
    "import random\n",
    "from json import load\n",
    "from math import floor\n",
    "from time import time\n",
    "from statistics import mean"
   ]
  },
  {
   "cell_type": "markdown",
   "metadata": {},
   "source": [
    "## Preparing the Data\n",
    "\n",
    "We will be training on a set of 180 preprocessed Python files (and validating on a set of 20 other files) arbitrarily sampled from [GitHub BigQuery Python Extracts](https://bigquery.cloud.google.com/table/fh-bigquery:github_extracts.contents_py_201802snap?pli=1).\n",
    "\n",
    "We limit the characters that our neural network can produce to a subset of standard ASCII.\n",
    "* `ORD 2*, 3*, 9, 10, 32-126`\n",
    "  * `ORD 0` for padding (special, used in batch_size > 1 with variable length sequences)\n",
    "  * `ORD 2` for start of text (special, predicted sequence start)\n",
    "  * `ORD 3` for end of text (special, sequence prediction ends)\n",
    "  * `ORD 9` horizontal tab \"\\t\"\n",
    "  * `ORD 10` NL line feed, new line \"\\n\"\n",
    "  * `ORD 32-126` Space, Punctuation, Digits, English Letters\n",
    "\n",
    "NOTE: The full dataset contains files written using non standard characters. For the models in this notebook, we ensure that all Python files within our dataset are composed only of ASCII characters that we accept."
   ]
  },
  {
   "cell_type": "code",
   "execution_count": 3,
   "metadata": {},
   "outputs": [
    {
     "name": "stdout",
     "output_type": "stream",
     "text": [
      "0: '\\x00'\n",
      "2: '\\x02'\n",
      "3: '\\x03'\n",
      "9: '\\t'\n",
      "10: '\\n'\n",
      "32: ' '\n",
      "!\"#$%&'()*+,-./0123456789:;<=>?@ABCDEFGHIJKLMNOPQRSTUVWXYZ[\\]^_`abcdefghijklmnopqrstuvwxyz{|}~\n",
      "~~~~~~~~~~~~~~~~~~~~~~~~~\n",
      "Num Training Files: 180\n",
      "Num Validation Files: 20\n",
      "SANITY Training Files: 2\n",
      "SANITY Validation Files: 2\n"
     ]
    }
   ],
   "source": [
    "# Possible Characters for neural network\n",
    "VALID_UNICODE_IDS = (0, 2, 3, 9, 10) + tuple(range(32, 127))\n",
    "for uid in VALID_UNICODE_IDS:\n",
    "    if uid <= 32:\n",
    "        print(\"{}: {}\".format(uid, repr(chr(uid))))\n",
    "        continue\n",
    "    print(chr(uid), end=\"\")\n",
    "print()\n",
    "\n",
    "# Special Characters\n",
    "PAD = chr(0)\n",
    "FILE_START = chr(2)\n",
    "FILE_END = chr(3)\n",
    "\n",
    "CHARACTERS = set(chr(id) for id in VALID_UNICODE_IDS)\n",
    "INT2CHAR = dict(enumerate(CHARACTERS))\n",
    "CHAR2INT = {char: idx for idx, char in INT2CHAR.items()}\n",
    "\n",
    "with open(\"./data/train.json\", \"r\") as f:\n",
    "    training_data = load(f)\n",
    "with open(\"./data/validate.json\", \"r\") as f:\n",
    "    validation_data = load(f)\n",
    "\n",
    "print(\"~\" * 25)\n",
    "print(\"Num Training Files: {}\".format(len(training_data)))\n",
    "print(\"Num Validation Files: {}\".format(len(validation_data)))\n",
    "\n",
    "# SANITY_CHECK, MEMORIZE TWO FILES\n",
    "with open(\"./data/test.py\", \"r\") as f:\n",
    "    text = f.read()\n",
    "with open(\"./data/test2.py\", \"r\") as f:\n",
    "    text2 = f.read()\n",
    "\n",
    "training_data = (\n",
    "    (FILE_START, ) + tuple(text) + (FILE_END,),\n",
    "    (FILE_START, ) + tuple(text2) + (FILE_END,),\n",
    ")\n",
    "validation_data = training_data[:]\n",
    "print(\"SANITY Training Files: {}\".format(len(training_data)))\n",
    "print(\"SANITY Validation Files: {}\".format(len(validation_data)))"
   ]
  },
  {
   "cell_type": "markdown",
   "metadata": {},
   "source": [
    "Let's randomly take a look at what is contained within our training data."
   ]
  },
  {
   "cell_type": "code",
   "execution_count": 4,
   "metadata": {},
   "outputs": [
    {
     "name": "stdout",
     "output_type": "stream",
     "text": [
      "165\n",
      "\u0002def main():\n",
      "    arr = []\n",
      "    while True:\n",
      "        arr.append(1)\n",
      "        if len(arr) >= 10:\n",
      "            break\n",
      "    return None\n",
      "\n",
      "if __name__ == \"__main__\":\n",
      "    main()\n",
      "\u0003\n"
     ]
    }
   ],
   "source": [
    "train_sample = random.choice(training_data)\n",
    "print(len(train_sample))\n",
    "print(\"\".join(train_sample))\n",
    "# print([repr(v) for v in train_sample])"
   ]
  },
  {
   "cell_type": "markdown",
   "metadata": {},
   "source": [
    "# Utilize CUDA & GPU\n",
    "\n",
    "Training neural networks can be slow. Utilize GPUs if they are available to us."
   ]
  },
  {
   "cell_type": "code",
   "execution_count": 5,
   "metadata": {},
   "outputs": [
    {
     "name": "stdout",
     "output_type": "stream",
     "text": [
      "CUDA is available\n",
      " • Number of CUDA devices: 1\n",
      " • Current Device Name: TITAN Xp\n",
      " • Device CUDA Capability: (6, 1)\n"
     ]
    }
   ],
   "source": [
    "device = torch.device(\"cpu\")\n",
    "HAS_CUDA = False\n",
    "if torch.cuda.is_available():\n",
    "    HAS_CUDA = True\n",
    "    print(\"CUDA is available\")\n",
    "    print(\" • Number of CUDA devices: {}\".format(torch.cuda.device_count()))\n",
    "    device = torch.device(\"cuda\")\n",
    "    print(\" • Current Device Name: {}\".format(torch.cuda.get_device_name(device)))\n",
    "    print(\" • Device CUDA Capability: {}\".format(torch.cuda.get_device_capability(device)))\n",
    "\n",
    "else:\n",
    "    print(\"CUDA is not available.\")\n",
    "\n",
    "# force GPU off.\n",
    "HAS_CUDA = False\n",
    "device = torch.device(\"cpu\")"
   ]
  },
  {
   "cell_type": "markdown",
   "metadata": {},
   "source": [
    "## Batching Sliding Window Algorithm\n",
    "\n",
    "We extend from the previously created sliding window algorithm, but rather than predicting the next character, we output the next sequence Y as one character shifted over:\n",
    "\n",
    "* Given some iterable, we want a generator that yields X, Y pairs for evaluation.\n",
    "* We want a sequence of a given context length as X, and the sequence one character shifted over as Y.\n",
    "\n",
    "We want our sliding window algorithm to yield these pairs in batches, for more efficient computation. Iterable is no longer a single file, but an iterator over multiple files."
   ]
  },
  {
   "cell_type": "code",
   "execution_count": 6,
   "metadata": {},
   "outputs": [],
   "source": [
    "def equalize_batch_sizes(inp_batch, target_batch):\n",
    "    seq_len = [len(v) for v in inp_batch]\n",
    "    max_seq_len = max(seq_len)\n",
    "    for seq_idx, seq in enumerate(inp_batch):\n",
    "        if seq_len[seq_idx] == max_seq_len:\n",
    "            continue\n",
    "        inp_left_pad = (PAD,) * (max_seq_len - seq_len[seq_idx])\n",
    "        target_left_pad = (PAD,) * (max_seq_len - seq_len[seq_idx] - 1) + (inp_batch[seq_idx][0],)\n",
    "        inp_batch[seq_idx] = inp_left_pad + inp_batch[seq_idx]\n",
    "        target_batch[seq_idx] = target_left_pad + target_batch[seq_idx]\n",
    "\n",
    "    # diagnose training issues\n",
    "    # import pdb; pdb.set_trace()\n",
    "    batch = zip(inp_batch, target_batch)\n",
    "    batch = [item for _, item in sorted(zip(seq_len, batch), reverse=True)]\n",
    "    return zip(*batch), sorted(seq_len, reverse=True)\n",
    "    \n",
    "def batch_sliding_window_generator(files_iterable, batch_size, max_window_size=None, gen_forever=True):\n",
    "    \"\"\"Sliding window generator for batching files of ASCII characters\"\"\"\n",
    "    inp_batch = []\n",
    "    target_batch = []\n",
    "    while True:\n",
    "        for iterable in files_iterable:\n",
    "            if max_window_size is None:\n",
    "                window_size = len(iterable)\n",
    "            else:\n",
    "                window_size = min(max_window_size, len(iterable) - 1)\n",
    "\n",
    "            chunk_windows = list(range(0, len(iterable) - window_size + 1))\n",
    "            random.shuffle(chunk_windows)\n",
    "            while chunk_windows:\n",
    "                start_index = chunk_windows.pop()\n",
    "                end_index = start_index + window_size + 1\n",
    "                chunk = iterable[start_index:end_index]\n",
    "                inp_batch.append(chunk[:-1])\n",
    "                target_batch.append(chunk[1:])\n",
    "                \n",
    "                if len(inp_batch) == batch_size:\n",
    "                    yield equalize_batch_sizes(inp_batch, target_batch)\n",
    "                    inp_batch = []\n",
    "                    target_batch = []\n",
    "        if not gen_forever:\n",
    "            if len(inp_batch):\n",
    "                missing = batch_size - len(inp_batch)\n",
    "                for _ in range(missing):\n",
    "                    i = random.choice(range(0, len(inp_batch)))\n",
    "                    inp_batch.append(inp_batch[i])\n",
    "                    target_batch.append(target_batch[i])\n",
    "                yield equalize_batch_sizes(inp_batch, target_batch)\n",
    "            break"
   ]
  },
  {
   "cell_type": "markdown",
   "metadata": {},
   "source": [
    "Here are the first few generator outputs.\n",
    "Note the provided batch sizes and window sizes."
   ]
  },
  {
   "cell_type": "code",
   "execution_count": 7,
   "metadata": {},
   "outputs": [
    {
     "name": "stdout",
     "output_type": "stream",
     "text": [
      "Batch 0\n",
      "Input:\n",
      "('t', '(', '\"', '{', '}', ' ', ':', ' ', 'B', 'o', 'o', 'p', '\"', '.', 'f')\n",
      "('o', 'r', 't', ' ', 'g', 'e', 't', 'c', 'w', 'd', '\\n', '\\n', 'd', 'e', 'f')\n",
      "Target: \n",
      "('(', '\"', '{', '}', ' ', ':', ' ', 'B', 'o', 'o', 'p', '\"', '.', 'f', 'o')\n",
      "('r', 't', ' ', 'g', 'e', 't', 'c', 'w', 'd', '\\n', '\\n', 'd', 'e', 'f', ' ')\n",
      "~~~~~~~~~~~~~~~~~~~~~~~~~\n",
      "Batch 1\n",
      "Input:\n",
      "('f', 'o', 'r', ' ', 'i', ' ', 'i', 'n', ' ', 'r', 'a', 'n', 'g', 'e', '(')\n",
      "(' ', 'r', 'a', 'n', 'g', 'e', '(', '0', ',', ' ', '1', '0', ')', ':', '\\n')\n",
      "Target: \n",
      "('o', 'r', ' ', 'i', ' ', 'i', 'n', ' ', 'r', 'a', 'n', 'g', 'e', '(', '0')\n",
      "('r', 'a', 'n', 'g', 'e', '(', '0', ',', ' ', '1', '0', ')', ':', '\\n', ' ')\n",
      "~~~~~~~~~~~~~~~~~~~~~~~~~\n"
     ]
    }
   ],
   "source": [
    "batch_size = 2\n",
    "max_window_size = 15\n",
    "\n",
    "gen = batch_sliding_window_generator(training_data, batch_size, max_window_size)\n",
    "for i in range(2):\n",
    "    batch, _ = next(gen)\n",
    "    inp, target = batch\n",
    "    print(\"Batch {}\".format(i))\n",
    "    print(\"Input:\")\n",
    "    print(*inp, sep=\"\\n\")\n",
    "    print(\"Target: \")\n",
    "    print(*target, sep=\"\\n\")\n",
    "    print(\"~\" * 25)\n"
   ]
  },
  {
   "cell_type": "markdown",
   "metadata": {},
   "source": [
    "Let's see how many batches we have to work with."
   ]
  },
  {
   "cell_type": "code",
   "execution_count": 8,
   "metadata": {},
   "outputs": [
    {
     "name": "stdout",
     "output_type": "stream",
     "text": [
      "Batches: 2\n",
      " • 1 batch_item of sequence length 220\n",
      " • 1 batch_item of sequence length 164\n"
     ]
    }
   ],
   "source": [
    "check_batch_size = 1\n",
    "check_window_size = None\n",
    "\n",
    "gen = batch_sliding_window_generator(training_data, check_batch_size, check_window_size, gen_forever=False)\n",
    "\n",
    "batch_item_sizes = {}\n",
    "batch_counter = 0\n",
    "for batch, _ in gen:\n",
    "    inp, target = batch\n",
    "    batch_counter += 1\n",
    "    for batch_item in inp:\n",
    "        batch_item_sizes[len(batch_item)] = batch_item_sizes.get(len(batch_item), 0) + 1\n",
    "\n",
    "print(\"Batches: {}\".format(batch_counter))\n",
    "for k, v in batch_item_sizes.items():\n",
    "    print(\" • {} batch_item of sequence length {}\".format(v, k))"
   ]
  },
  {
   "cell_type": "markdown",
   "metadata": {},
   "source": [
    "## Batch Characters to Tensors\n",
    "\n",
    "Our batch of inputs and outputs must be converted into Tensors for training.\n",
    "\n",
    "We follow the default matrix convention used by the PyTorch comunity.\n",
    "\n",
    "> Tensor’s data will be of size `T x B x *`, where `T` is the length of the longest sequence and `B` is the batch size. \n",
    "\n",
    "To make a batch training example, we join a bunch our sequences of one-hot characters into a matrix of size `(window_size, batch_size, num_chars)`."
   ]
  },
  {
   "cell_type": "code",
   "execution_count": 9,
   "metadata": {},
   "outputs": [],
   "source": [
    "def char_to_tensor(char, num_chars=len(CHARACTERS)):\n",
    "    tensor = torch.zeros(1, 1, num_chars, device=device)\n",
    "    tensor[0][0][CHAR2INT[char]] = 1\n",
    "    return tensor\n",
    "\n",
    "def charseq_to_tensor(charseq, num_chars=len(CHARACTERS)):\n",
    "    window_size = len(charseq)\n",
    "    tensor = torch.zeros(window_size, 1, num_chars, device=device)\n",
    "    for seq_idx, seq_item in enumerate(charseq):\n",
    "        tensor[seq_idx][0][CHAR2INT[seq_item]] = 1\n",
    "    return tensor\n",
    "\n",
    "def charseqs_to_tensor(charseqs, num_chars=len(CHARACTERS)):\n",
    "    batch_size = len(charseqs)\n",
    "    window_size = max([len(v) for v in charseqs])\n",
    "    assert all(len(v) == window_size for v in charseqs)\n",
    "    \n",
    "    tensor = torch.zeros(window_size, batch_size, num_chars, device=device)\n",
    "    \n",
    "    for batch_elm_idx, batch_item in enumerate(charseqs):\n",
    "        for seq_idx, seq_item in enumerate(batch_item):\n",
    "            tensor[seq_idx][batch_elm_idx][CHAR2INT[seq_item]] = 1\n",
    "    return tensor"
   ]
  },
  {
   "cell_type": "markdown",
   "metadata": {},
   "source": [
    "The tensor inputs and outputs for the generator function we defined earlier are shown here."
   ]
  },
  {
   "cell_type": "code",
   "execution_count": 10,
   "metadata": {},
   "outputs": [
    {
     "name": "stdout",
     "output_type": "stream",
     "text": [
      "batch_size: 2, max_window_size: 15\n",
      "~~~~~~~~~~~~~~~~~~~~~~~~~\n",
      "(' ', 'F', 'a', 'l', 's', 'e', '\\n', '\\n', 'i', 'f', ' ', '_', '_', 'n', 'a')\n",
      "(' ', ' ', ' ', ' ', ' ', ' ', ' ', 'p', 'r', 'i', 'n', 't', '(', '\"', '{')\n",
      "torch.Size([15, 2, 100])\n",
      "('F', 'a', 'l', 's', 'e', '\\n', '\\n', 'i', 'f', ' ', '_', '_', 'n', 'a', 'm')\n",
      "(' ', ' ', ' ', ' ', ' ', ' ', 'p', 'r', 'i', 'n', 't', '(', '\"', '{', '}')\n",
      "torch.Size([15, 2, 100])\n"
     ]
    }
   ],
   "source": [
    "gen = batch_sliding_window_generator(training_data, batch_size, max_window_size)\n",
    "\n",
    "batch, _ = next(gen)\n",
    "inp_val, target_val = batch\n",
    "inp_tensor = charseqs_to_tensor(inp_val)\n",
    "target_tensor = charseqs_to_tensor(target_val)\n",
    "\n",
    "print(\"batch_size: {}, max_window_size: {}\".format(batch_size, max_window_size))\n",
    "print(\"~\" * 25)\n",
    "print(*inp_val, sep=\"\\n\")\n",
    "print(inp_tensor.size())\n",
    "#_, idxs = inp_tensor.topk(1)\n",
    "print(*target_val, sep=\"\\n\")\n",
    "print(target_tensor.size())"
   ]
  },
  {
   "cell_type": "markdown",
   "metadata": {},
   "source": [
    "## Creating the Network\n",
    "\n",
    "We are going to create our recurrent neural network. Rather than using our own pure recurrent neural network defined in the last notebook, we will be using the recurrent layers provided by PyTorch.\n",
    "\n",
    "* **RNN**: [Recurrent Neural Network](https://pytorch.org/docs/stable/nn.html#rnn)\n",
    "* **GRU**: [Gated Recurrent Unit](https://pytorch.org/docs/stable/nn.html#gru)\n",
    "* **LSTM**: [Long Short-Term Memory](https://pytorch.org/docs/stable/nn.html#lstm)\n",
    "\n",
    "Our model is composed of the following:\n",
    "0. Recurrent Layer (RNN/GRU/LSTM)\n",
    "0. Linear Layer\n",
    "0. Softmax Activation"
   ]
  },
  {
   "cell_type": "code",
   "execution_count": 11,
   "metadata": {},
   "outputs": [],
   "source": [
    "class CharRNN(nn.Module):\n",
    "    def __init__(self, input_size, output_size,\n",
    "                 hidden_size=128, recurrent_type=\"LSTM\", recurrent_layers=1, recurrent_dropout=0):\n",
    "        super(CharRNN, self).__init__()\n",
    "\n",
    "        self.recurrent_type = recurrent_type.upper()\n",
    "        self.hidden_size = hidden_size\n",
    "        self.recurrent_layers = recurrent_layers\n",
    "        self.recurrent_dropoout = recurrent_dropout\n",
    "        \n",
    "        rn_kwargs = {\n",
    "            \"input_size\": input_size,\n",
    "            \"hidden_size\": hidden_size,\n",
    "            \"num_layers\": recurrent_layers,\n",
    "            \"dropout\": recurrent_dropout,\n",
    "        }\n",
    "        \n",
    "        if self.recurrent_type == \"RNN\":\n",
    "            self.rnn = nn.RNN(**rn_kwargs)\n",
    "        elif self.recurrent_type == \"LSTM\":\n",
    "            self.rnn = nn.LSTM(**rn_kwargs)\n",
    "        elif self.recurrent_type == \"GRU\":\n",
    "            self.rnn = nn.GRU(**rn_kwargs)\n",
    "        else:\n",
    "            raise \"Invalid recurrent layer type: {}\".format(recurrent_type)\n",
    "        \n",
    "        self.decoder = nn.Linear(hidden_size, output_size)\n",
    "        self.softmax = nn.LogSoftmax(dim=2)\n",
    "    \n",
    "    def forward(self, inp_val, hidden):\n",
    "        for_decoder, hidden = self.rnn(inp_val, hidden)\n",
    "        for_softmax = self.decoder(for_decoder)\n",
    "        output = self.softmax(for_softmax)\n",
    "        return output, hidden\n",
    "    \n",
    "    def init_hidden(self, batch_size):\n",
    "        if self.recurrent_type == \"LSTM\":\n",
    "            return (\n",
    "                torch.zeros(self.recurrent_layers, batch_size, self.hidden_size, device=device),\n",
    "                torch.zeros(self.recurrent_layers, batch_size, self.hidden_size, device=device)\n",
    "            )\n",
    "        return torch.zeros(self.recurrent_layers, batch_size, self.hidden_size, device=device)"
   ]
  },
  {
   "cell_type": "markdown",
   "metadata": {},
   "source": [
    "Initilize this network with values appropriate for the character prediction task."
   ]
  },
  {
   "cell_type": "code",
   "execution_count": 12,
   "metadata": {},
   "outputs": [],
   "source": [
    "n_chars = len(CHARACTERS)\n",
    "batch_size = 4\n",
    "\n",
    "char_rnn = CharRNN(n_chars, n_chars)\n",
    "if HAS_CUDA:\n",
    "    char_rnn.cuda(device)"
   ]
  },
  {
   "cell_type": "markdown",
   "metadata": {},
   "source": [
    "Before each batch, the RNN's hidden state should be initialized."
   ]
  },
  {
   "cell_type": "code",
   "execution_count": 13,
   "metadata": {},
   "outputs": [
    {
     "name": "stdout",
     "output_type": "stream",
     "text": [
      "Input: torch.Size([20, 4, 100])\n",
      "Output: torch.Size([20, 4, 100])\n"
     ]
    }
   ],
   "source": [
    "max_window_size = 20\n",
    "gen = batch_sliding_window_generator(\n",
    "    training_data, batch_size, max_window_size, gen_forever=False)\n",
    "batch, _ = next(gen)\n",
    "inp_charseq, target_charseq = batch\n",
    "inp_val = charseqs_to_tensor(inp_charseq)\n",
    "\n",
    "hidden = char_rnn.init_hidden(batch_size)\n",
    "\n",
    "output, hidden = char_rnn(inp_val, hidden)\n",
    "print(\"Input:\", inp_val.size())\n",
    "print(\"Output:\", output.size())"
   ]
  },
  {
   "cell_type": "markdown",
   "metadata": {},
   "source": [
    "## Preparing to Train our Model\n",
    "\n",
    "We will create a helper function to convert the network predicted output back to a human readable character."
   ]
  },
  {
   "cell_type": "code",
   "execution_count": 14,
   "metadata": {},
   "outputs": [
    {
     "name": "stdout",
     "output_type": "stream",
     "text": [
      "Batch 0: [CCCC[[[[hh[[hhhhh[h\n",
      "Batch 1: CC[[[ChCCCCC222[[[hh\n",
      "Batch 2: CCC--[[[hhhhh[hhhhC[\n",
      "Batch 3: [CCCC[[hhhhh[[hhCCCC\n"
     ]
    }
   ],
   "source": [
    "def readable_from_output(output):\n",
    "    \"\"\"Convert the network output predictions back to readable values.\"\"\"\n",
    "    _, top_i = output.topk(1)\n",
    "    window_size, batch_size, _ = top_i.size()\n",
    "    batches_chars = []\n",
    "    for batch_ele_idx in range(batch_size):\n",
    "        batch_chars = []\n",
    "        for seq_ele_idx in range(window_size):\n",
    "            char_idx = top_i[seq_ele_idx][batch_ele_idx].item()\n",
    "            char = INT2CHAR[char_idx], char_idx\n",
    "            batch_chars.append(char)\n",
    "        batches_chars.append(batch_chars)\n",
    "    return batches_chars\n",
    "\n",
    "def pretty_print_output(batches_chars):\n",
    "    for seq_idx, seq in enumerate(batches_chars):\n",
    "        print(\"Batch {}:\".format(seq_idx), \"\".join([char for char, _ in seq]))\n",
    "\n",
    "batches_chars = readable_from_output(output)\n",
    "pretty_print_output(batches_chars)"
   ]
  },
  {
   "cell_type": "markdown",
   "metadata": {},
   "source": [
    "Show the network some examples, have it make predictions, and then inform the network when the predictions are correct.\n",
    "We have a classification problem, so Negative Log Likelihood loss is appropriate.\n",
    "\n",
    "For classifing input into `C` number of classes, the following loss functions are useful:\n",
    "\n",
    "* **Cross Entropy Loss**: [CrossEntropyLoss docs](https://pytorch.org/docs/stable/nn.html#crossentropyloss)\n",
    "* **Negative Log Likelihood Loss**: [NLLLoss docs](https://pytorch.org/docs/stable/nn.html#nllloss)"
   ]
  },
  {
   "cell_type": "code",
   "execution_count": 15,
   "metadata": {},
   "outputs": [],
   "source": [
    "# criterion = nn.CrossEntropyLoss()\n",
    "criterion = nn.NLLLoss()"
   ]
  },
  {
   "cell_type": "markdown",
   "metadata": {},
   "source": [
    "Each training loop will:\n",
    "0. Create input and target tensors\n",
    "0. Initialize a zerored hidden state\n",
    "0. Read each letter in and keep the hidden state for the next letter\n",
    "0. Compare the final output to the target\n",
    "0. Back-propagate\n",
    "0. Return the output and loss"
   ]
  },
  {
   "cell_type": "code",
   "execution_count": 16,
   "metadata": {},
   "outputs": [],
   "source": [
    "def train(target_tensor, input_tensor, optimizer):\n",
    "    window_size, batch_size, _ = input_tensor.size()\n",
    "    hidden = char_rnn.init_hidden(batch_size)\n",
    "    \n",
    "    # Set model gradients to zero\n",
    "    char_rnn.zero_grad()\n",
    "    loss = 0\n",
    "    \n",
    "    hidden = char_rnn.init_hidden(batch_size)\n",
    "    correct = []\n",
    "    for i in range(window_size):\n",
    "        output, hidden = char_rnn(input_tensor.narrow(0, i, 1), hidden)\n",
    "        _, loss_output_tensor = target_tensor[i].topk(1)\n",
    "        # diagnose training issues\n",
    "        # import pdb; pdb.set_trace()\n",
    "\n",
    "        loss += criterion(output.view(batch_size, -1), loss_output_tensor.view(-1))\n",
    "    \n",
    "    loss.backward()\n",
    "    optimizer.step()\n",
    "    \n",
    "    return output, loss.item() / window_size"
   ]
  },
  {
   "cell_type": "markdown",
   "metadata": {},
   "source": [
    "### Evaluation\n",
    "We want to also evaluate the effectiveness of our model on a validation set, without updating the model.\n",
    "\n",
    "This is done in the following function."
   ]
  },
  {
   "cell_type": "code",
   "execution_count": 17,
   "metadata": {},
   "outputs": [],
   "source": [
    "def evaluate(target_tensor, input_tensor):\n",
    "    window_size, batch_size, _ = input_tensor.size()\n",
    "    hidden = char_rnn.init_hidden(batch_size)\n",
    "    \n",
    "    # Set model gradients to zero\n",
    "    char_rnn.zero_grad()\n",
    "    loss = 0\n",
    "    match = []\n",
    "    \n",
    "    hidden = char_rnn.init_hidden(batch_size)\n",
    "    for i in range(window_size):\n",
    "        output, hidden = char_rnn(input_tensor.narrow(0, i, 1), hidden)\n",
    "        _, target_character = target_tensor[i].topk(1)\n",
    "        _, predict_character = output.topk(1)\n",
    "        \n",
    "        # import pdb; pdb.set_trace()\n",
    "\n",
    "        for batch_match in target_character.view(-1) == predict_character.view(-1):\n",
    "            match.append(batch_match.item())\n",
    "        \n",
    "        loss += criterion(output.view(batch_size, -1), target_character.view(-1))\n",
    "    \n",
    "    # loss.backward()\n",
    "    accuracy = mean(match)\n",
    "    return accuracy, loss.item() / window_size"
   ]
  },
  {
   "cell_type": "markdown",
   "metadata": {},
   "source": [
    "## Training our Model\n",
    "\n",
    "Let's train our model now."
   ]
  },
  {
   "cell_type": "code",
   "execution_count": 18,
   "metadata": {},
   "outputs": [],
   "source": [
    "# Initialize required variables\n",
    "n_chars = len(CHARACTERS)\n",
    "batch_size = 1\n",
    "char_rnn = CharRNN(n_chars, n_chars, recurrent_type=\"LSTM\")\n",
    "if HAS_CUDA:\n",
    "    char_rnn.cuda(device)\n",
    "learning_rate = 0.0005\n",
    "char_rnn_optimizer = torch.optim.Adam(char_rnn.parameters(), lr=learning_rate)\n",
    "\n",
    "# Helper function\n",
    "def time_since(since):\n",
    "    delta = time() - since\n",
    "    sec = int(delta)\n",
    "    mins = floor(sec / 60)\n",
    "    sec -= mins * 60\n",
    "    return \"{}m {:0>2d}s\".format(mins, sec)\n",
    "\n",
    "# Keep track of all the trainng that is done\n",
    "train_epoch_losses = []\n",
    "eval_epoch_losses = []\n",
    "batch_iter_idx = 0"
   ]
  },
  {
   "cell_type": "code",
   "execution_count": 19,
   "metadata": {},
   "outputs": [],
   "source": [
    "# variable which can change in-between trainng\n",
    "n_epochs = 1500\n",
    "print_every_train = 443\n",
    "# print_every_train = 1\n",
    "print_every_epoch = 100\n",
    "max_window_size = None"
   ]
  },
  {
   "cell_type": "code",
   "execution_count": 20,
   "metadata": {},
   "outputs": [
    {
     "name": "stdout",
     "output_type": "stream",
     "text": [
      "Epoch 0 0.0%: iter     0 (0m 00s) | Train Loss: 4.58269\n",
      "> Epoch 100 6.6%: (0m 29s) | Train Loss: 2.76052, Mean Eval Loss: 2.93552, Mean Acc: 0.26\n",
      "> Epoch 200 13.3%: (0m 58s) | Train Loss: 2.34078, Mean Eval Loss: 2.54342, Mean Acc: 0.30\n",
      "Epoch 221 14.7%: iter   443 (1m 04s) | Train Loss: 2.24203\n",
      "> Epoch 300 19.9%: (1m 28s) | Train Loss: 1.87157, Mean Eval Loss: 2.06056, Mean Acc: 0.43\n",
      "> Epoch 400 26.6%: (1m 57s) | Train Loss: 1.49880, Mean Eval Loss: 1.66103, Mean Acc: 0.54\n",
      "Epoch 443 29.5%: iter   886 (2m 10s) | Train Loss: 1.67673\n",
      "> Epoch 500 33.3%: (2m 26s) | Train Loss: 1.19590, Mean Eval Loss: 1.32794, Mean Acc: 0.61\n",
      "> Epoch 600 39.9%: (2m 56s) | Train Loss: 0.95588, Mean Eval Loss: 1.07178, Mean Acc: 0.72\n",
      "Epoch 664 44.3%: iter  1329 (3m 14s) | Train Loss: 0.78356\n",
      "> Epoch 700 46.6%: (3m 25s) | Train Loss: 0.69383, Mean Eval Loss: 0.80340, Mean Acc: 0.81\n",
      "> Epoch 800 53.3%: (3m 54s) | Train Loss: 1.45200, Mean Eval Loss: 1.54421, Mean Acc: 0.58\n",
      "Epoch 886 59.1%: iter  1772 (4m 19s) | Train Loss: 0.97574\n",
      "> Epoch 900 59.9%: (4m 23s) | Train Loss: 0.76612, Mean Eval Loss: 0.85206, Mean Acc: 0.79\n",
      "> Epoch 1000 66.6%: (4m 52s) | Train Loss: 0.52167, Mean Eval Loss: 0.59425, Mean Acc: 0.86\n",
      "> Epoch 1100 73.3%: (5m 22s) | Train Loss: 0.37036, Mean Eval Loss: 0.44032, Mean Acc: 0.95\n",
      "Epoch 1107 73.8%: iter  2215 (5m 24s) | Train Loss: 2.69596\n",
      "> Epoch 1200 79.9%: (5m 51s) | Train Loss: 0.69467, Mean Eval Loss: 0.73432, Mean Acc: 0.83\n",
      "> Epoch 1300 86.6%: (6m 21s) | Train Loss: 0.39367, Mean Eval Loss: 0.44010, Mean Acc: 0.94\n",
      "Epoch 1329 88.6%: iter  2658 (6m 29s) | Train Loss: 0.44155\n",
      "> Epoch 1400 93.3%: (6m 50s) | Train Loss: 0.27009, Mean Eval Loss: 0.30854, Mean Acc: 0.97\n",
      "> Epoch 1500 99.9%: (7m 19s) | Train Loss: 0.19654, Mean Eval Loss: 0.22789, Mean Acc: 0.99\n"
     ]
    }
   ],
   "source": [
    "start = time()\n",
    "\n",
    "for epoch_idx in range(n_epochs):\n",
    "    # This generator will terminate when it finishes the file.\n",
    "    gen = batch_sliding_window_generator(\n",
    "        training_data, batch_size, max_window_size, gen_forever=False)\n",
    "    for batch, _ in gen:\n",
    "        input_char_seq, target_char_seq = batch\n",
    "        # diagnose training issues\n",
    "        #import pdb; pdb.set_trace()\n",
    "    \n",
    "        input_tensor = charseqs_to_tensor(input_char_seq)\n",
    "        target_tensor = charseqs_to_tensor(target_char_seq)\n",
    "        \n",
    "        pred_output, train_loss = train(target_tensor, input_tensor, char_rnn_optimizer)\n",
    "\n",
    "        if batch_iter_idx % print_every_train == 0:            \n",
    "            print(\"Epoch {:1d} {:.1f}%: iter {:5d} ({}) | Train Loss: {:.5f}\".format(\n",
    "                len(train_epoch_losses), epoch_idx/n_epochs * 100, batch_iter_idx,\n",
    "                time_since(start), train_loss))\n",
    "        batch_iter_idx += 1\n",
    "\n",
    "    # Add current loss avg to list of losses after each epoch\n",
    "    train_epoch_losses.append(train_loss)\n",
    "\n",
    "    # Run our model on our validation data set to determine validation loss and accuracy\n",
    "    gen = batch_sliding_window_generator(\n",
    "        validation_data, 1, max_window_size, gen_forever=False)\n",
    "    \n",
    "    eval_accuracies = []\n",
    "    eval_losses = []\n",
    "    for batch, _ in gen:\n",
    "        input_char_seqs, target_char_seqs = batch\n",
    "        input_tensor = charseqs_to_tensor(input_char_seqs)\n",
    "        target_tensor = charseqs_to_tensor(target_char_seqs)\n",
    "        eval_accuracy, eval_loss = evaluate(target_tensor, input_tensor)\n",
    "        eval_accuracies.append(eval_accuracy)\n",
    "        eval_losses.append(eval_loss)\n",
    "\n",
    "    mean_eval_loss = mean(eval_losses)\n",
    "    mean_eval_acc = mean(eval_accuracies)\n",
    "\n",
    "    eval_epoch_losses.append(mean_eval_loss)\n",
    "    \n",
    "    if len(train_epoch_losses) % print_every_epoch == 0:\n",
    "        print(\"> Epoch {:1d} {:.1f}%: ({}) | Train Loss: {:.5f}, Mean Eval Loss: {:.5f}, Mean Acc: {:.2f}\".format(\n",
    "            len(train_epoch_losses), epoch_idx/n_epochs * 100,\n",
    "            time_since(start), train_loss, mean_eval_loss, mean_eval_acc))"
   ]
  },
  {
   "cell_type": "markdown",
   "metadata": {},
   "source": [
    "## Plotting the Training Process\n",
    "Plotting the historical loss from train_epoch_losses show how well the network is learning."
   ]
  },
  {
   "cell_type": "code",
   "execution_count": 21,
   "metadata": {},
   "outputs": [
    {
     "data": {
      "text/plain": [
       "<matplotlib.legend.Legend at 0x7f0b10096d68>"
      ]
     },
     "execution_count": 21,
     "metadata": {},
     "output_type": "execute_result"
    },
    {
     "data": {
      "image/png": "[encoded data removed]",
      "text/plain": [
       "<Figure size 640x400 with 1 Axes>"
      ]
     },
     "metadata": {
      "needs_background": "light"
     },
     "output_type": "display_data"
    }
   ],
   "source": [
    "plt.figure(figsize=(8, 5), dpi=80)\n",
    "plt.title(\"Batching Char-RNN Training Loss over Epoch\")\n",
    "plt.xlabel(\"Epoch\")\n",
    "plt.ylabel(\"Negative Log Likelihood\")\n",
    "plt.plot(train_epoch_losses, color=\"green\", label=\"Training Loss\")\n",
    "plt.plot(eval_epoch_losses, color=\"orange\", label=\"Validation Loss\")\n",
    "plt.legend(loc=\"upper right\")"
   ]
  },
  {
   "cell_type": "markdown",
   "metadata": {},
   "source": [
    "## Using User Specified Input\n",
    "Let's test this ourselves by supplying our own Python source code."
   ]
  },
  {
   "cell_type": "code",
   "execution_count": 22,
   "metadata": {},
   "outputs": [],
   "source": [
    "def generate(rnn, prime_str=FILE_START, print_output=True, max_gen_len=1000, temperature=None):\n",
    "    hidden = rnn.init_hidden(1)\n",
    "    if not prime_str.startswith(FILE_START):\n",
    "        prime_str = FILE_START + prime_str\n",
    "\n",
    "    input_seq = list(prime_str)\n",
    "    # use priming sequence to construct the hidden state\n",
    "    input_tensor = charseq_to_tensor(input_seq)\n",
    "    for i in range(len(input_seq)):\n",
    "        output, hidden = rnn(input_tensor.narrow(0, i, 1), hidden)\n",
    "    \n",
    "    if print_output:\n",
    "        print(\"\".join(input_seq))\n",
    "        print(\"~~~~Predict~~~~\")\n",
    "        print(\"\".join(input_seq))\n",
    "\n",
    "    # predict until max_len or FILE_END character is reached\n",
    "    predicted = input_seq[:]\n",
    "    for i in range(max_gen_len):\n",
    "        if temperature is not None:\n",
    "            # Sample from the network as a multinomial distribution\n",
    "            output_dist = output.data.view(-1).div(temperature).exp()\n",
    "            top_i = torch.multinomial(output_dist, 1)[0]\n",
    "            char = INT2CHAR[top_i.item()]\n",
    "        else:\n",
    "            _, pred_char_idx = output.topk(1)\n",
    "            char = INT2CHAR[pred_char_idx.item()]\n",
    "        if print_output:\n",
    "            print(char, end=\"\")\n",
    "        predicted.append(char)\n",
    "        if char == FILE_END:\n",
    "            return predicted\n",
    "        input_tensor = char_to_tensor(char)\n",
    "        output, hidden = rnn(input_tensor, hidden)\n",
    "    \n",
    "    if print_output:\n",
    "        print(\"~max_gen_len reached~\")\n",
    "    return predicted"
   ]
  },
  {
   "cell_type": "code",
   "execution_count": 23,
   "metadata": {},
   "outputs": [
    {
     "name": "stdout",
     "output_type": "stream",
     "text": [
      "\u0002\n",
      "~~~~Predict~~~~\n",
      "\u0002\n",
      "\"\"\"Predict Test\"\"\"\n",
      "import sys\n",
      "from   orimportgetcwd\n",
      "\n",
      "def main():\n",
      "    sys.stdout.write(getcwd())\n",
      "    for i in range(0, 10):\n",
      "        print(\"{} : Boop\".format(i), i)\n",
      "    return False\n",
      "\n",
      "if __name__ == \"__main__\":\n",
      "    main()\n",
      "\u0003"
     ]
    }
   ],
   "source": [
    "output = generate(char_rnn)"
   ]
  },
  {
   "cell_type": "markdown",
   "metadata": {},
   "source": [
    "What happens when you use this with your own text?"
   ]
  },
  {
   "cell_type": "code",
   "execution_count": 28,
   "metadata": {},
   "outputs": [
    {
     "name": "stdout",
     "output_type": "stream",
     "text": [
      "\u0002def\n",
      "~~~~Predict~~~~\n",
      "\u0002def\n",
      " main():\n",
      "    arr   []\n",
      "    while True:\n",
      "       arr.append(1)\n",
      "        if len(ar) >= 10:\n",
      "            break\n",
      "    return None\n",
      "\n",
      "if __name__ == \"__main__\":\n",
      "    main()\n",
      "\u0003"
     ]
    }
   ],
   "source": [
    "output = generate(char_rnn, \"def\", temperature=0.2)"
   ]
  },
  {
   "cell_type": "code",
   "execution_count": null,
   "metadata": {},
   "outputs": [],
   "source": []
  }
 ],
 "metadata": {
  "kernelspec": {
   "display_name": "Python 3",
   "language": "python",
   "name": "python3"
  },
  "language_info": {
   "codemirror_mode": {
    "name": "ipython",
    "version": 3
   },
   "file_extension": ".py",
   "mimetype": "text/x-python",
   "name": "python",
   "nbconvert_exporter": "python",
   "pygments_lexer": "ipython3",
   "version": "3.6.7"
  }
 },
 "nbformat": 4,
 "nbformat_minor": 2
}
